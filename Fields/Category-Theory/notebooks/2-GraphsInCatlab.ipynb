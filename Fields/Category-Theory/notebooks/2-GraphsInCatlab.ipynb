{
 "cells": [
  {
   "cell_type": "markdown",
   "id": "bd58080d-d95a-4f0e-9d35-9db2b6a4196d",
   "metadata": {},
   "source": [
    "# 2 - Graphs in Category Theory\n",
    "\n",
    "Now that we've introduced some basic use cases of Catlab, let's turn to a more concrete application,\n",
    "Graphs."
   ]
  },
  {
   "cell_type": "code",
   "execution_count": null,
   "id": "656c5706-b8be-4a69-9e33-50bfeb34d6fc",
   "metadata": {},
   "outputs": [],
   "source": []
  }
 ],
 "metadata": {
  "kernelspec": {
   "display_name": "Julia DS 1.7.1",
   "language": "julia",
   "name": "julia-ds-1.7"
  },
  "language_info": {
   "file_extension": ".jl",
   "mimetype": "application/julia",
   "name": "julia",
   "version": "1.7.1"
  }
 },
 "nbformat": 4,
 "nbformat_minor": 5
}
