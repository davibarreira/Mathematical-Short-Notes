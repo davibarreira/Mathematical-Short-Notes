{
 "cells": [
  {
   "cell_type": "markdown",
   "id": "faa52671-fde3-43a6-8366-ae432643755e",
   "metadata": {},
   "source": [
    "# Catlab.jl is a package in Julia that implements Category Theory."
   ]
  },
  {
   "cell_type": "markdown",
   "id": "9b8c97ff-4155-4908-9c0a-9dcff6f703ff",
   "metadata": {
    "jp-MarkdownHeadingCollapsed": true,
    "tags": []
   },
   "source": [
    "⊣ this symbol is \"\\vdash\" \n",
    "\n",
    "⋅ this symbol is \"\\cdot\"\n",
    "\n",
    "→ this symbol is \"\\to\""
   ]
  },
  {
   "cell_type": "code",
   "execution_count": 7,
   "id": "a8db5939-f4cd-4f9a-bdb7-c9d3ea760f61",
   "metadata": {},
   "outputs": [
    {
     "name": "stderr",
     "output_type": "stream",
     "text": [
      "\u001b[32m\u001b[1m  Activating\u001b[22m\u001b[39m project at `~/MEGA/EMAp/Mathematical-Short-Notes/Fields/Category-Theory/notebooks`\n"
     ]
    }
   ],
   "source": [
    "using Pkg\n",
    "Pkg.activate(\".\")"
   ]
  },
  {
   "cell_type": "markdown",
   "id": "b060135d-8f0e-4485-b4cd-a3f4e455ca23",
   "metadata": {},
   "source": [
    "## 1. Introduction to Catlab\n",
    "\n",
    "Below let's use Catlab in order to define a Category. This might seem odd, since Catlab is already Category Theory for Julia,\n",
    "so why are we defining a Category? Well, first, this is already implemented, so we are doing it only to showcase. But also,\n",
    "Catlab actually implement Generalized Algebraic Theories, which permits the definition of \"objects\" other than Cateogories.\n",
    "Thus, the package is actually more general."
   ]
  },
  {
   "cell_type": "code",
   "execution_count": 20,
   "id": "29bb8635-4184-4337-96b5-4005f7d65e53",
   "metadata": {},
   "outputs": [],
   "source": [
    "using Catlab"
   ]
  },
  {
   "cell_type": "code",
   "execution_count": 22,
   "id": "4030ef5d-61d2-4bb9-a949-8a6953251dd1",
   "metadata": {},
   "outputs": [],
   "source": [
    "@theory Category{Ob,Hom} begin\n",
    "  @op begin\n",
    "    (→) := Hom\n",
    "    (⋅) := compose\n",
    "  end\n",
    "\n",
    "  Ob::TYPE\n",
    "  Hom(dom::Ob, codom::Ob)::TYPE\n",
    "\n",
    "  id(A::Ob)::(A → A)\n",
    "  compose(f::(A → B), g::(B → C))::(A → C) ⊣ (A::Ob, B::Ob, C::Ob)\n",
    "    \n",
    "\n",
    "  (f ⋅ g) ⋅ h == f ⋅ (g ⋅ h) ⊣ (A::Ob, B::Ob, C::Ob, D::Ob,\n",
    "                                f::(A → B), g::(B → C), h::(C → D))\n",
    "  f ⋅ id(B) == f ⊣ (A::Ob, B::Ob, f::(A → B))\n",
    "  id(A) ⋅ f == f ⊣ (A::Ob, B::Ob, f::(A → B))\n",
    "end;"
   ]
  },
  {
   "cell_type": "markdown",
   "id": "3dfaa6de-cd7c-4290-a67a-691c1465a017",
   "metadata": {},
   "source": [
    "Now that we defined what a category is, let's in fact instantiate a category, i.e.\n",
    "let's do an example of an actual category. For that, we'll use the category of Finite Vector Spaces,\n",
    "where the morphisms are matrices (i.e. linear transformations) and the objects are finite vector spaces\n",
    "(which are all isomorphic to ℝⁿ for n the dimension)."
   ]
  },
  {
   "cell_type": "code",
   "execution_count": 37,
   "id": "769dce56-c586-4e24-bb7f-522067382eed",
   "metadata": {},
   "outputs": [
    {
     "name": "stdout",
     "output_type": "stream",
     "text": [
      "(dom(A), codom(A)) = (MatrixDomain(Float64, 5), MatrixDomain(Float64, 2))\n"
     ]
    },
    {
     "data": {
      "text/plain": [
       "5×2 Matrix{Float64}:\n",
       " 0.598137  0.666098\n",
       " 0.842528  0.857053\n",
       " 0.407519  0.502027\n",
       " 0.506689  0.668944\n",
       " 0.53532   0.501861"
      ]
     },
     "execution_count": 37,
     "metadata": {},
     "output_type": "execute_result"
    }
   ],
   "source": [
    "using LinearAlgebra: I\n",
    "\n",
    "struct MatrixDomain\n",
    "  eltype::Type\n",
    "  dim::Int\n",
    "end\n",
    "\n",
    "@instance Category{MatrixDomain, Matrix} begin\n",
    "  dom(M::Matrix) = MatrixDomain(eltype(M), size(M,1))\n",
    "  codom(M::Matrix) = MatrixDomain(eltype(M), size(M,2))\n",
    "\n",
    "  id(m::MatrixDomain) = Matrix{m.eltype}(I, m.dim, m.dim)\n",
    "  compose(M::Matrix, N::Matrix) = M*N\n",
    "end\n",
    "\n",
    "\n",
    "A = rand(5,2)\n",
    "B = rand(2,2)\n",
    "@show dom(A), codom(A)\n",
    "id(dom(A)) # The identity morphism is the identity matrix\n",
    "# compose(B,A) <- not composable\n",
    "compose(A,B)"
   ]
  },
  {
   "cell_type": "markdown",
   "id": "45b1d3e9-20e4-47aa-94fc-97eba9dc6598",
   "metadata": {},
   "source": [
    "Next, let's implement a more \"convoluted\" example. Let's use Catlab in order to create a\n",
    "way to enforce that functions need to match dom/codom in order to be composed.\n",
    "Note that does not happen naturally in Julia. A function is Julia does not have a parametric\n",
    "type based on it's domain and codomain. Part of the reason is that most functions in Julia\n",
    "do not have an output type enforcer (although this can be done, it's seldom used and \n",
    "actually desincentivised).\n",
    "\n",
    "Hence, how can we guarantee that `compose(f,g)` actually can be composed, before evaluating the results?\n",
    "The answer is with Catlab. But, before we show the example, here is "
   ]
  },
  {
   "cell_type": "code",
   "execution_count": null,
   "id": "d657aa91-cb6d-4293-bf43-22e4c752dde4",
   "metadata": {},
   "outputs": [],
   "source": []
  },
  {
   "cell_type": "code",
   "execution_count": null,
   "id": "2878b2b7-dc3c-4126-bfb7-063ac1922961",
   "metadata": {},
   "outputs": [],
   "source": []
  },
  {
   "cell_type": "code",
   "execution_count": 58,
   "id": "a7127d43-e725-4161-a798-0093951275aa",
   "metadata": {},
   "outputs": [
    {
     "data": {
      "text/plain": [
       "JFunction(var\"#13#14\"(), Int64, Int64)"
      ]
     },
     "execution_count": 58,
     "metadata": {},
     "output_type": "execute_result"
    }
   ],
   "source": [
    "struct JFunction\n",
    "    f::Function\n",
    "    dom::Type\n",
    "    codom::Type\n",
    "end\n",
    "(::JFunction)(x) = f(x)\n",
    "ȷf = JFunction(x->x, Int, Int)"
   ]
  },
  {
   "cell_type": "code",
   "execution_count": 69,
   "id": "29e587c1-1f47-4e86-b69e-b3b4a52963fe",
   "metadata": {},
   "outputs": [],
   "source": [
    "@instance Category{Type, JFunction} begin\n",
    "  dom(ȷf::JFunction) = getfield(ȷf,:dom)\n",
    "  codom(ȷf::JFunction) = getfield(ȷf,:codom)\n",
    "\n",
    "  id(d::Type) = JFunction(x->x, d, d)\n",
    "  compose(ȷg::JFunction, ȷf::JFunction) = JFunction(ȷg ∘ ȷf, ȷf.dom, ȷg.codom)\n",
    "end"
   ]
  },
  {
   "cell_type": "code",
   "execution_count": 71,
   "id": "f57cb095-357d-43ad-af2f-408572a7fb9f",
   "metadata": {},
   "outputs": [
    {
     "data": {
      "text/plain": [
       "JFunction(JFunction(var\"#13#14\"(), Int64, Int64) ∘ JFunction(var\"#13#14\"(), Int64, Int64), Int64, Int64)"
      ]
     },
     "execution_count": 71,
     "metadata": {},
     "output_type": "execute_result"
    }
   ],
   "source": [
    "ȷf ⋅ ȷf"
   ]
  }
 ],
 "metadata": {
  "kernelspec": {
   "display_name": "julia 1.7.1",
   "language": "julia",
   "name": "julia-1.7"
  },
  "language_info": {
   "file_extension": ".jl",
   "mimetype": "application/julia",
   "name": "julia",
   "version": "1.7.1"
  }
 },
 "nbformat": 4,
 "nbformat_minor": 5
}
