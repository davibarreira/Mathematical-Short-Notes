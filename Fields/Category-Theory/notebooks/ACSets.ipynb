{
 "cells": [
  {
   "cell_type": "markdown",
   "id": "56159aa4-ad4f-4900-8dad-4a050c09015e",
   "metadata": {},
   "source": [
    "# Attributed C-Sets as Data Structure\n",
    "\n",
    "This notebook is based on the paper\n",
    "[Categorical Data Structures for Technical Computing](https://arxiv.org/pdf/2106.04703.pdf).\n",
    "\n",
    "An Attributed C-Set, ACSet for short, is a data structure that aims to solve the\n",
    "divide of combinatorial vs atomic data.\n",
    "\n",
    "Data can be stored in many different formats, such as SQL tables, NO-SQL tables, data frames, and so on.\n",
    "These different formats make difficult to analyze the data directly, since simple tasks, such as calculating the mean aggregating the data according to\n",
    "an specific attribute, will require a different set of commands for each data format in order to be performed.\n",
    "In order to avoid having to deal with each possible variation, most data analysis starts by turning the dataset into\n",
    "data frame format.\n",
    "\n",
    "The choice of the data frame as the centralizing data structure is understandable, since most of analysis\n",
    "consists of data that can be thought of as single observations (rows) comprised of many features (columns).\n",
    "Yet, there are many common scenarios where such data structure is not the most natural one. Perhaps the most\n",
    "clear example are graphs. Here, the main aspect of the data is not it's \"atomic\" nature, but it's relational\n",
    "information (\"which nodes are connected\").\n",
    "\n",
    "The use o relational databases (SQL) can deal with such divide, but are usually too stiff, since they usually\n",
    "are part of a monolithic system with it's own langugae, which is not always straightfoward to integrate\n",
    "with general purpose programming languages such as Julia.\n",
    "\n",
    "ACSets were the solution proposed by Evan Patterson, Owen Lynch, and James Fairbanks.\n",
    "It consists of an efficient in-memory implementation of categorical databases, which encompasses data structures\n",
    "such as data frames, graphs and more. Thus, solving the combinatorial vs atomic data representation problem.\n",
    "\n",
    "In the implementation of ACSets, combinatorial data is always represented by integers, while atomic data\n",
    "is represented by type parameters which can be Julia types."
   ]
  },
  {
   "cell_type": "code",
   "execution_count": 20,
   "id": "17c2b034-0ceb-46e7-bbf6-86a743119ec2",
   "metadata": {},
   "outputs": [
    {
     "name": "stderr",
     "output_type": "stream",
     "text": [
      "\u001b[32m\u001b[1m  Activating\u001b[22m\u001b[39m project at `~/MEGA/EMAp/Mathematical-Short-Notes/Fields/Category-Theory/notebooks`\n"
     ]
    },
    {
     "data": {
      "text/plain": [
       "draw (generic function with 1 method)"
      ]
     },
     "execution_count": 20,
     "metadata": {},
     "output_type": "execute_result"
    }
   ],
   "source": [
    "using Pkg\n",
    "Pkg.activate(\".\")\n",
    "using Catlab,Catlab.CategoricalAlgebra, Catlab.ACSetInterface, Catlab.Graphs\n",
    "using Catlab.Graphics\n",
    "using Catlab.Graphics.Graphviz\n",
    "using Catlab.Programs.DiagrammaticPrograms\n",
    "using Colors\n",
    "draw(g) = to_graphviz(g, node_labels=true, edge_labels=true)"
   ]
  },
  {
   "cell_type": "markdown",
   "id": "54571785-812c-4ac4-b603-ba1241d2d1d5",
   "metadata": {},
   "source": [
    "## Example 1 - RoadMap\n",
    "\n",
    "This first example is directly from the paper. The idea here is to create an Acset to store\n",
    "information about roads, where `vertices` are intersctions, `edges` are the roads from each intersection,\n",
    "and `lenght` is the actual distance between interesection."
   ]
  },
  {
   "cell_type": "code",
   "execution_count": 21,
   "id": "11bbee71-99ee-4a0e-9f85-0017d378d72a",
   "metadata": {},
   "outputs": [
    {
     "data": {
      "text/plain": [
       "RoadMap"
      ]
     },
     "execution_count": 21,
     "metadata": {},
     "output_type": "execute_result"
    }
   ],
   "source": [
    "@present TheoryRoadMap(FreeSchema) begin\n",
    "    (V,E)::Ob\n",
    "    (src,tgt)::Hom(E,V)\n",
    "    T::AttrType\n",
    "    (x,y)::Attr(V,T)\n",
    "    length::Attr(E,T)\n",
    "end\n",
    "\n",
    "@acset_type RoadMap(TheoryRoadMap, index=[:src,:tgt])"
   ]
  },
  {
   "cell_type": "markdown",
   "id": "809d7aa4-f26e-4604-aa61-24a3e43bdd13",
   "metadata": {},
   "source": [
    "First we define the data schema, i.e. what are our tables and their relations. This is similar to what we have\n",
    "in relational databases, but in the categorical form. In our example, we want to have two tables,\n",
    "one is a list of vertices with their coordinates, and the other is the list of edges, where we\n",
    "have the source and target vertices of each edge, and the length.\n",
    "\n",
    "Hence, `(V,E)::Ob` states that we have two objects (tables) `V` and `E`.\n",
    "The line `T::AttrType` indicates that our data has \n",
    "Next, `(x,y)::Attr(V,T)`."
   ]
  },
  {
   "cell_type": "code",
   "execution_count": 22,
   "id": "1dc12fe5-57b2-4be7-a907-e4905bc7be4f",
   "metadata": {},
   "outputs": [
    {
     "data": {
      "text/html": [
       "<div class=\"c-set\">\n",
       "<span class=\"c-set-summary\">RoadMap{Float64} with elements V = 1:10, E = 1:9</span>\n",
       "<table>\n",
       "  <thead>\n",
       "    <tr class = \"header headerLastRow\">\n",
       "      <th class = \"rowNumber\">V</th>\n",
       "      <th style = \"text-align: right;\">x</th>\n",
       "      <th style = \"text-align: right;\">y</th>\n",
       "    </tr>\n",
       "  </thead>\n",
       "  <tbody>\n",
       "    <tr>\n",
       "      <td class = \"rowNumber\">1</td>\n",
       "      <td style = \"text-align: right;\">0.705937</td>\n",
       "      <td style = \"text-align: right;\">0.795415</td>\n",
       "    </tr>\n",
       "    <tr>\n",
       "      <td class = \"rowNumber\">2</td>\n",
       "      <td style = \"text-align: right;\">0.0296996</td>\n",
       "      <td style = \"text-align: right;\">0.598892</td>\n",
       "    </tr>\n",
       "    <tr>\n",
       "      <td class = \"rowNumber\">3</td>\n",
       "      <td style = \"text-align: right;\">0.984808</td>\n",
       "      <td style = \"text-align: right;\">0.620989</td>\n",
       "    </tr>\n",
       "    <tr>\n",
       "      <td class = \"rowNumber\">4</td>\n",
       "      <td style = \"text-align: right;\">0.0453636</td>\n",
       "      <td style = \"text-align: right;\">0.832876</td>\n",
       "    </tr>\n",
       "    <tr>\n",
       "      <td class = \"rowNumber\">5</td>\n",
       "      <td style = \"text-align: right;\">0.446123</td>\n",
       "      <td style = \"text-align: right;\">0.269566</td>\n",
       "    </tr>\n",
       "    <tr>\n",
       "      <td class = \"rowNumber\">6</td>\n",
       "      <td style = \"text-align: right;\">0.4537</td>\n",
       "      <td style = \"text-align: right;\">0.228318</td>\n",
       "    </tr>\n",
       "    <tr>\n",
       "      <td class = \"rowNumber\">7</td>\n",
       "      <td style = \"text-align: right;\">0.629068</td>\n",
       "      <td style = \"text-align: right;\">0.076725</td>\n",
       "    </tr>\n",
       "    <tr>\n",
       "      <td class = \"rowNumber\">8</td>\n",
       "      <td style = \"text-align: right;\">0.259368</td>\n",
       "      <td style = \"text-align: right;\">0.34186</td>\n",
       "    </tr>\n",
       "    <tr>\n",
       "      <td class = \"rowNumber\">9</td>\n",
       "      <td style = \"text-align: right;\">0.19243</td>\n",
       "      <td style = \"text-align: right;\">0.634839</td>\n",
       "    </tr>\n",
       "    <tr>\n",
       "      <td class = \"rowNumber\">10</td>\n",
       "      <td style = \"text-align: right;\">0.103641</td>\n",
       "      <td style = \"text-align: right;\">0.229299</td>\n",
       "    </tr>\n",
       "  </tbody>\n",
       "</table>\n",
       "<table>\n",
       "  <thead>\n",
       "    <tr class = \"header headerLastRow\">\n",
       "      <th class = \"rowNumber\">E</th>\n",
       "      <th style = \"text-align: right;\">src</th>\n",
       "      <th style = \"text-align: right;\">tgt</th>\n",
       "      <th style = \"text-align: right;\">length</th>\n",
       "    </tr>\n",
       "  </thead>\n",
       "  <tbody>\n",
       "    <tr>\n",
       "      <td class = \"rowNumber\">1</td>\n",
       "      <td style = \"text-align: right;\">1</td>\n",
       "      <td style = \"text-align: right;\">2</td>\n",
       "      <td style = \"text-align: right;\">0.704214</td>\n",
       "    </tr>\n",
       "    <tr>\n",
       "      <td class = \"rowNumber\">2</td>\n",
       "      <td style = \"text-align: right;\">2</td>\n",
       "      <td style = \"text-align: right;\">3</td>\n",
       "      <td style = \"text-align: right;\">0.955364</td>\n",
       "    </tr>\n",
       "    <tr>\n",
       "      <td class = \"rowNumber\">3</td>\n",
       "      <td style = \"text-align: right;\">3</td>\n",
       "      <td style = \"text-align: right;\">4</td>\n",
       "      <td style = \"text-align: right;\">0.963043</td>\n",
       "    </tr>\n",
       "    <tr>\n",
       "      <td class = \"rowNumber\">4</td>\n",
       "      <td style = \"text-align: right;\">4</td>\n",
       "      <td style = \"text-align: right;\">5</td>\n",
       "      <td style = \"text-align: right;\">0.691321</td>\n",
       "    </tr>\n",
       "    <tr>\n",
       "      <td class = \"rowNumber\">5</td>\n",
       "      <td style = \"text-align: right;\">5</td>\n",
       "      <td style = \"text-align: right;\">6</td>\n",
       "      <td style = \"text-align: right;\">0.0419387</td>\n",
       "    </tr>\n",
       "    <tr>\n",
       "      <td class = \"rowNumber\">6</td>\n",
       "      <td style = \"text-align: right;\">6</td>\n",
       "      <td style = \"text-align: right;\">7</td>\n",
       "      <td style = \"text-align: right;\">0.231806</td>\n",
       "    </tr>\n",
       "    <tr>\n",
       "      <td class = \"rowNumber\">7</td>\n",
       "      <td style = \"text-align: right;\">7</td>\n",
       "      <td style = \"text-align: right;\">8</td>\n",
       "      <td style = \"text-align: right;\">0.454944</td>\n",
       "    </tr>\n",
       "    <tr>\n",
       "      <td class = \"rowNumber\">8</td>\n",
       "      <td style = \"text-align: right;\">8</td>\n",
       "      <td style = \"text-align: right;\">9</td>\n",
       "      <td style = \"text-align: right;\">0.300529</td>\n",
       "    </tr>\n",
       "    <tr>\n",
       "      <td class = \"rowNumber\">9</td>\n",
       "      <td style = \"text-align: right;\">9</td>\n",
       "      <td style = \"text-align: right;\">10</td>\n",
       "      <td style = \"text-align: right;\">0.415146</td>\n",
       "    </tr>\n",
       "  </tbody>\n",
       "</table>\n",
       "</div>\n"
      ],
      "text/plain": [
       "RoadMap{Float64} with elements V = 1:10, E = 1:9\n",
       "┌────┬───────────┬──────────┐\n",
       "│\u001b[1m  V \u001b[0m│\u001b[1m         x \u001b[0m│\u001b[1m        y \u001b[0m│\n",
       "├────┼───────────┼──────────┤\n",
       "│  1 │  0.705937 │ 0.795415 │\n",
       "│  2 │ 0.0296996 │ 0.598892 │\n",
       "│  3 │  0.984808 │ 0.620989 │\n",
       "│  4 │ 0.0453636 │ 0.832876 │\n",
       "│  5 │  0.446123 │ 0.269566 │\n",
       "│  6 │    0.4537 │ 0.228318 │\n",
       "│  7 │  0.629068 │ 0.076725 │\n",
       "│  8 │  0.259368 │  0.34186 │\n",
       "│  9 │   0.19243 │ 0.634839 │\n",
       "│ 10 │  0.103641 │ 0.229299 │\n",
       "└────┴───────────┴──────────┘\n",
       "┌───┬─────┬─────┬───────────┐\n",
       "│\u001b[1m E \u001b[0m│\u001b[1m src \u001b[0m│\u001b[1m tgt \u001b[0m│\u001b[1m    length \u001b[0m│\n",
       "├───┼─────┼─────┼───────────┤\n",
       "│ 1 │   1 │   2 │  0.704214 │\n",
       "│ 2 │   2 │   3 │  0.955364 │\n",
       "│ 3 │   3 │   4 │  0.963043 │\n",
       "│ 4 │   4 │   5 │  0.691321 │\n",
       "│ 5 │   5 │   6 │ 0.0419387 │\n",
       "│ 6 │   6 │   7 │  0.231806 │\n",
       "│ 7 │   7 │   8 │  0.454944 │\n",
       "│ 8 │   8 │   9 │  0.300529 │\n",
       "│ 9 │   9 │  10 │  0.415146 │\n",
       "└───┴─────┴─────┴───────────┘\n"
      ]
     },
     "execution_count": 22,
     "metadata": {},
     "output_type": "execute_result"
    }
   ],
   "source": [
    "function make_path(coords::Vector{Tuple{Float64, Float64}})\n",
    "    # Create an empty roadmap\n",
    "    path = RoadMap{Float64}()\n",
    "    # This is a convenient function that calculates the Euclidean distance between two\n",
    "    # vertices in the road map. Notice that we can reference attributes using indexing\n",
    "    # and that the system knows that these attributes belong to vertices, not edges.\n",
    "    dist(i,j) = sqrt((path[i,:x] - path[j,:x])^2 + (path[i,:y] - path[j,:y])^2)\n",
    "    x, y = coords[1]\n",
    "    # add_part! mutates path to add a part, returning the index of the added part.\n",
    "    # The named arguments to this function assign the attributes of that part.\n",
    "    src = add_part!(path, :V, x=x, y=y)\n",
    "    for i in 2:length(coords)\n",
    "        x, y = coords[i]\n",
    "        tgt = add_part!(path, :V, x=x, y=y)\n",
    "        add_part!(path, :E, src=src, tgt=tgt, length=dist(src,tgt))\n",
    "        src = tgt\n",
    "    end\n",
    "    path\n",
    "end\n",
    "    \n",
    "ac = make_path([(x[1],x[2]) for x in eachrow(rand(10,2))])"
   ]
  },
  {
   "cell_type": "code",
   "execution_count": 23,
   "id": "d575469f-167d-44ab-9d61-bee9e92fe63a",
   "metadata": {},
   "outputs": [
    {
     "data": {
      "text/plain": [
       "0.029699596512095416"
      ]
     },
     "execution_count": 23,
     "metadata": {},
     "output_type": "execute_result"
    }
   ],
   "source": [
    "subpart(ac, 2, [:src, :x]) # Get source vertex from edge 2 and take :x attribute."
   ]
  },
  {
   "cell_type": "code",
   "execution_count": 24,
   "id": "eb7ef541-350a-4f9d-8e1d-2c67cb5803d1",
   "metadata": {},
   "outputs": [
    {
     "data": {
      "text/plain": [
       "(V = Catlab.CSetDataStructures.StructACSetTable{RoadMap{Float64}, :V} with 10 rows, 2 columns, and an unknown schema.,\n",
       " E = Catlab.CSetDataStructures.StructACSetTable{RoadMap{Float64}, :E} with 9 rows, 3 columns, and an unknown schema.,)"
      ]
     },
     "execution_count": 24,
     "metadata": {},
     "output_type": "execute_result"
    }
   ],
   "source": [
    "ACSetInterface.tables(ac)"
   ]
  },
  {
   "cell_type": "code",
   "execution_count": 25,
   "id": "f0af1086-5cd4-4882-aaa9-68f18c6249fb",
   "metadata": {},
   "outputs": [
    {
     "data": {
      "text/plain": [
       "9-element Vector{Int64}:\n",
       "  2\n",
       "  3\n",
       "  4\n",
       "  5\n",
       "  6\n",
       "  7\n",
       "  8\n",
       "  9\n",
       " 10"
      ]
     },
     "execution_count": 25,
     "metadata": {},
     "output_type": "execute_result"
    }
   ],
   "source": [
    "ac.homs.tgt"
   ]
  },
  {
   "cell_type": "markdown",
   "id": "d21725b6-36eb-4336-9a27-0d7074c33e24",
   "metadata": {},
   "source": [
    "## More complex examples"
   ]
  },
  {
   "cell_type": "code",
   "execution_count": 26,
   "id": "33b84f59-07ba-41d6-976a-963bc4778af1",
   "metadata": {},
   "outputs": [
    {
     "data": {
      "text/plain": [
       "APA"
      ]
     },
     "execution_count": 26,
     "metadata": {},
     "output_type": "execute_result"
    }
   ],
   "source": [
    "@present PASchema(FreeSchema) begin\n",
    "    (Authors,Papers, Authorship)::Ob\n",
    "    (p)::Hom(Authorship,Papers)\n",
    "    (a)::Hom(Authorship,Authors)\n",
    "    (T,N)::AttrType\n",
    "    name::Attr(Authors,N)\n",
    "    title::Attr(Papers,N)\n",
    "    year::Attr(Papers,T)\n",
    "end\n",
    "\n",
    "@acset_type APA(PASchema, index=[:p,:a])"
   ]
  },
  {
   "cell_type": "code",
   "execution_count": 27,
   "id": "be5e6888-8c84-4fdf-8172-f572f18a5ead",
   "metadata": {},
   "outputs": [
    {
     "data": {
      "text/html": [
       "<div class=\"c-set\">\n",
       "<span class=\"c-set-summary\">APA{Real, String} with elements Authors = 1:2, Papers = 1:2, Authorship = 1:3</span>\n",
       "<table>\n",
       "  <thead>\n",
       "    <tr class = \"header headerLastRow\">\n",
       "      <th class = \"rowNumber\">Authors</th>\n",
       "      <th style = \"text-align: right;\">name</th>\n",
       "    </tr>\n",
       "  </thead>\n",
       "  <tbody>\n",
       "    <tr>\n",
       "      <td class = \"rowNumber\">1</td>\n",
       "      <td style = \"text-align: right;\">A</td>\n",
       "    </tr>\n",
       "    <tr>\n",
       "      <td class = \"rowNumber\">2</td>\n",
       "      <td style = \"text-align: right;\">B</td>\n",
       "    </tr>\n",
       "  </tbody>\n",
       "</table>\n",
       "<table>\n",
       "  <thead>\n",
       "    <tr class = \"header headerLastRow\">\n",
       "      <th class = \"rowNumber\">Papers</th>\n",
       "      <th style = \"text-align: right;\">title</th>\n",
       "      <th style = \"text-align: right;\">year</th>\n",
       "    </tr>\n",
       "  </thead>\n",
       "  <tbody>\n",
       "    <tr>\n",
       "      <td class = \"rowNumber\">1</td>\n",
       "      <td style = \"text-align: right;\">Paper1</td>\n",
       "      <td style = \"text-align: right;\">2000</td>\n",
       "    </tr>\n",
       "    <tr>\n",
       "      <td class = \"rowNumber\">2</td>\n",
       "      <td style = \"text-align: right;\">Paper2</td>\n",
       "      <td style = \"text-align: right;\">2001</td>\n",
       "    </tr>\n",
       "  </tbody>\n",
       "</table>\n",
       "<table>\n",
       "  <thead>\n",
       "    <tr class = \"header headerLastRow\">\n",
       "      <th class = \"rowNumber\">Authorship</th>\n",
       "      <th style = \"text-align: right;\">p</th>\n",
       "      <th style = \"text-align: right;\">a</th>\n",
       "    </tr>\n",
       "  </thead>\n",
       "  <tbody>\n",
       "    <tr>\n",
       "      <td class = \"rowNumber\">1</td>\n",
       "      <td style = \"text-align: right;\">1</td>\n",
       "      <td style = \"text-align: right;\">1</td>\n",
       "    </tr>\n",
       "    <tr>\n",
       "      <td class = \"rowNumber\">2</td>\n",
       "      <td style = \"text-align: right;\">2</td>\n",
       "      <td style = \"text-align: right;\">1</td>\n",
       "    </tr>\n",
       "    <tr>\n",
       "      <td class = \"rowNumber\">3</td>\n",
       "      <td style = \"text-align: right;\">2</td>\n",
       "      <td style = \"text-align: right;\">2</td>\n",
       "    </tr>\n",
       "  </tbody>\n",
       "</table>\n",
       "</div>\n"
      ],
      "text/plain": [
       "APA{Real, String} with elements Authors = 1:2, Papers = 1:2, Authorship = 1:3\n",
       "┌─────────┬──────┐\n",
       "│\u001b[1m Authors \u001b[0m│\u001b[1m name \u001b[0m│\n",
       "├─────────┼──────┤\n",
       "│       1 │    A │\n",
       "│       2 │    B │\n",
       "└─────────┴──────┘\n",
       "┌────────┬────────┬──────┐\n",
       "│\u001b[1m Papers \u001b[0m│\u001b[1m  title \u001b[0m│\u001b[1m year \u001b[0m│\n",
       "├────────┼────────┼──────┤\n",
       "│      1 │ Paper1 │ 2000 │\n",
       "│      2 │ Paper2 │ 2001 │\n",
       "└────────┴────────┴──────┘\n",
       "┌────────────┬───┬───┐\n",
       "│\u001b[1m Authorship \u001b[0m│\u001b[1m p \u001b[0m│\u001b[1m a \u001b[0m│\n",
       "├────────────┼───┼───┤\n",
       "│          1 │ 1 │ 1 │\n",
       "│          2 │ 2 │ 1 │\n",
       "│          3 │ 2 │ 2 │\n",
       "└────────────┴───┴───┘\n"
      ]
     },
     "execution_count": 27,
     "metadata": {},
     "output_type": "execute_result"
    }
   ],
   "source": [
    "ac = @acset APA{Real,String} begin\n",
    "    Authors = 2\n",
    "    Papers = 2\n",
    "    Authorship = 3\n",
    "    p = [1,2,2]\n",
    "    a = [1,1,2]\n",
    "    name = [\"A\",\"B\"]\n",
    "    title = [\"Paper1\",\"Paper2\"]\n",
    "    year  = [2000,2001]\n",
    "end"
   ]
  },
  {
   "cell_type": "code",
   "execution_count": 28,
   "id": "f1011eff-ae23-44d3-848d-d07b7d1dc4c4",
   "metadata": {},
   "outputs": [
    {
     "data": {
      "text/plain": [
       "(name = [\"A\", \"B\"],\n",
       " title = [\"Paper1\", \"Paper2\"],\n",
       " year = Real[2000, 2001],)"
      ]
     },
     "execution_count": 28,
     "metadata": {},
     "output_type": "execute_result"
    }
   ],
   "source": [
    "ac.attrs"
   ]
  },
  {
   "cell_type": "code",
   "execution_count": 29,
   "id": "1bed4141-e559-4c31-b8bb-9dcd6e31aec1",
   "metadata": {},
   "outputs": [
    {
     "data": {
      "text/plain": [
       "true"
      ]
     },
     "execution_count": 29,
     "metadata": {},
     "output_type": "execute_result"
    }
   ],
   "source": [
    "typeof(ac) <: ACSet"
   ]
  },
  {
   "cell_type": "markdown",
   "id": "619d5ffa-c8f3-4f5f-9a5f-af3b228e251c",
   "metadata": {},
   "source": [
    "## Example of Data Migration"
   ]
  },
  {
   "cell_type": "code",
   "execution_count": 32,
   "id": "f3d9caad-bcad-4892-a53f-cf76c390ebd7",
   "metadata": {},
   "outputs": [
    {
     "data": {
      "text/plain": [
       "FinFunctor(Dict{Symbol, Catlab.Theories.FreeSchema.Ob{:generator}}(:V => Box, :E => Wire), Dict{Symbol, Catlab.Theories.FreeSchema.Hom{:compose}}(:src => compose(src,boxout), :tgt => compose(tgt,boxin)), FinCat(Presentation{Schema, Symbol}(Catlab.Theories.FreeSchema, (Ob = Catlab.Theories.FreeSchema.Ob{:generator}[V, E], Hom = Catlab.Theories.FreeSchema.Hom{:generator}[src, tgt], AttrType = Catlab.Theories.FreeSchema.AttrType{:generator}[], Attr = Catlab.Theories.FreeSchema.Attr{:generator}[]), Dict(:src=>(:Hom=>1), :V=>(:Ob=>1), :E=>(:Ob=>2), :tgt=>(:Hom=>2)), Pair[])), FinCat(Presentation{Schema, Symbol}(Catlab.Theories.FreeSchema, (Ob = Catlab.Theories.FreeSchema.Ob{:generator}[Wire, Box, OutPort, InPort], Hom = Catlab.Theories.FreeSchema.Hom{:generator}[src, tgt, boxout, boxin], AttrType = Catlab.Theories.FreeSchema.AttrType{:generator}[], Attr = Catlab.Theories.FreeSchema.Attr{:generator}[]), Dict(:boxout=>(:Hom=>3), :Wire=>(:Ob=>1), :InPort=>(:Ob=>4), :src=>(:Hom=>1), :boxin=>(:Hom=>4), :Box=>(:Ob=>2), :OutPort=>(:Ob=>3), :tgt=>(:Hom=>2)), Pair[])))"
      ]
     },
     "execution_count": 32,
     "metadata": {},
     "output_type": "execute_result"
    }
   ],
   "source": [
    "@present SchGraph(FreeSchema) begin\n",
    "  V::Ob\n",
    "  E::Ob\n",
    "  src::Hom(E,V)\n",
    "  tgt::Hom(E,V)\n",
    "end\n",
    "\n",
    "@present SchPortGraph(FreeSchema) begin\n",
    "  (Wire,Box,OutPort, InPort)::Ob\n",
    "  src::Hom(Wire,OutPort)\n",
    "  tgt::Hom(Wire,InPort)\n",
    "  boxout::Hom(OutPort,Box)\n",
    "  boxin::Hom(InPort,Box)\n",
    "end\n",
    "\n",
    "F = @migration SchGraph SchPortGraph begin\n",
    "    V => Box\n",
    "    E => Wire\n",
    "    src => src ⋅ boxout\n",
    "    tgt => tgt ⋅ boxin\n",
    "end"
   ]
  },
  {
   "cell_type": "code",
   "execution_count": null,
   "id": "e7e35740-8b42-4ef3-ad33-31456c14655d",
   "metadata": {},
   "outputs": [],
   "source": []
  },
  {
   "cell_type": "code",
   "execution_count": null,
   "id": "556e81dd-5e2b-4749-923b-24b59469b7ba",
   "metadata": {},
   "outputs": [],
   "source": []
  },
  {
   "cell_type": "code",
   "execution_count": null,
   "id": "06a14290-e93e-459f-98b8-e845a6a2dcf3",
   "metadata": {},
   "outputs": [],
   "source": []
  },
  {
   "cell_type": "markdown",
   "id": "b541bdeb-2f4b-4acc-9fa8-9ad569d1cbff",
   "metadata": {},
   "source": [
    "## Nested Acset"
   ]
  },
  {
   "cell_type": "code",
   "execution_count": null,
   "id": "d9b7e709-5b1e-4c4b-9e6e-2daf26033231",
   "metadata": {},
   "outputs": [],
   "source": [
    "@present JSchema(FreeSchema) begin\n",
    "    (Authors,Papers, Authorship)::Ob\n",
    "    (p)::Hom(Authorship,Papers)\n",
    "    (a)::Hom(Authorship,Authors)\n",
    "    (T,N)::AttrType\n",
    "    name::Attr(Authors,N)\n",
    "    title::Attr(Papers,N)\n",
    "    year::Attr(Papers,T)\n",
    "end\n",
    "\n",
    "@acset_type J(Jchema, index=[:p,:a])"
   ]
  },
  {
   "cell_type": "code",
   "execution_count": null,
   "id": "7742b24b-8800-4455-89ef-210e72d85b70",
   "metadata": {},
   "outputs": [],
   "source": []
  },
  {
   "cell_type": "code",
   "execution_count": 111,
   "id": "4a0b1c69-d6f1-4601-90c8-27478fc75292",
   "metadata": {},
   "outputs": [
    {
     "data": {
      "text/html": [
       "<div class=\"c-set\">\n",
       "<span class=\"c-set-summary\">WeightedGraph{Float64} with elements V = 1:4, E = 1:5</span>\n",
       "<table>\n",
       "  <thead>\n",
       "    <tr class = \"header headerLastRow\">\n",
       "      <th class = \"rowNumber\">E</th>\n",
       "      <th style = \"text-align: right;\">src</th>\n",
       "      <th style = \"text-align: right;\">tgt</th>\n",
       "      <th style = \"text-align: right;\">weight</th>\n",
       "    </tr>\n",
       "  </thead>\n",
       "  <tbody>\n",
       "    <tr>\n",
       "      <td class = \"rowNumber\">1</td>\n",
       "      <td style = \"text-align: right;\">1</td>\n",
       "      <td style = \"text-align: right;\">2</td>\n",
       "      <td style = \"text-align: right;\">7.2</td>\n",
       "    </tr>\n",
       "    <tr>\n",
       "      <td class = \"rowNumber\">2</td>\n",
       "      <td style = \"text-align: right;\">1</td>\n",
       "      <td style = \"text-align: right;\">3</td>\n",
       "      <td style = \"text-align: right;\">9.3</td>\n",
       "    </tr>\n",
       "    <tr>\n",
       "      <td class = \"rowNumber\">3</td>\n",
       "      <td style = \"text-align: right;\">1</td>\n",
       "      <td style = \"text-align: right;\">4</td>\n",
       "      <td style = \"text-align: right;\">9.4</td>\n",
       "    </tr>\n",
       "    <tr>\n",
       "      <td class = \"rowNumber\">4</td>\n",
       "      <td style = \"text-align: right;\">2</td>\n",
       "      <td style = \"text-align: right;\">4</td>\n",
       "      <td style = \"text-align: right;\">0.1</td>\n",
       "    </tr>\n",
       "    <tr>\n",
       "      <td class = \"rowNumber\">5</td>\n",
       "      <td style = \"text-align: right;\">3</td>\n",
       "      <td style = \"text-align: right;\">4</td>\n",
       "      <td style = \"text-align: right;\">42.0</td>\n",
       "    </tr>\n",
       "  </tbody>\n",
       "</table>\n",
       "</div>\n"
      ],
      "text/plain": [
       "WeightedGraph{Float64} with elements V = 1:4, E = 1:5\n",
       "┌───┬─────┬─────┬────────┐\n",
       "│\u001b[1m E \u001b[0m│\u001b[1m src \u001b[0m│\u001b[1m tgt \u001b[0m│\u001b[1m weight \u001b[0m│\n",
       "├───┼─────┼─────┼────────┤\n",
       "│ 1 │   1 │   2 │    7.2 │\n",
       "│ 2 │   1 │   3 │    9.3 │\n",
       "│ 3 │   1 │   4 │    9.4 │\n",
       "│ 4 │   2 │   4 │    0.1 │\n",
       "│ 5 │   3 │   4 │   42.0 │\n",
       "└───┴─────┴─────┴────────┘\n"
      ]
     },
     "execution_count": 111,
     "metadata": {},
     "output_type": "execute_result"
    }
   ],
   "source": [
    "# Write down the schema for a weighted graph\n",
    "@present TheoryWeightedGraph(FreeSchema) begin\n",
    "  V::Ob\n",
    "  E::Ob\n",
    "  src::Hom(E,V)\n",
    "  tgt::Hom(E,V)\n",
    "  T::AttrType\n",
    "  weight::Attr(E,T)\n",
    "end\n",
    "\n",
    "# Construct the type used to store acsets on the previous schema\n",
    "# We *index* src and tgt, which means that we store not only\n",
    "# the forwards map, but also the backwards map.\n",
    "@acset_type WeightedGraph(TheoryWeightedGraph, index=[:src,:tgt])\n",
    "\n",
    "# Construct a weighted graph, with floats as edge weights\n",
    "g = @acset WeightedGraph{Float64} begin\n",
    "  V = 4\n",
    "  E = 5\n",
    "  src = [1,1,1,2,3]\n",
    "  tgt = [2,3,4,4,4]\n",
    "  weight = [7.2, 9.3, 9.4, 0.1, 42.0]\n",
    "end"
   ]
  },
  {
   "cell_type": "code",
   "execution_count": 112,
   "id": "b6938034-b6ca-4698-b019-22c8e7663302",
   "metadata": {},
   "outputs": [],
   "source": [
    "# ϕ = ACSetTransformation(e,w,E=[1], V=[1,2])\n"
   ]
  },
  {
   "cell_type": "code",
   "execution_count": null,
   "id": "931a755e-0bd1-4c9f-9394-a4aa16b3ccc5",
   "metadata": {},
   "outputs": [],
   "source": []
  }
 ],
 "metadata": {
  "kernelspec": {
   "display_name": "Julia DS 1.7.1",
   "language": "julia",
   "name": "julia-ds-1.7"
  },
  "language_info": {
   "file_extension": ".jl",
   "mimetype": "application/julia",
   "name": "julia",
   "version": "1.7.1"
  }
 },
 "nbformat": 4,
 "nbformat_minor": 5
}
