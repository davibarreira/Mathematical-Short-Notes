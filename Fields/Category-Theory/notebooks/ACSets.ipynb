{
 "cells": [
  {
   "cell_type": "markdown",
   "id": "56159aa4-ad4f-4900-8dad-4a050c09015e",
   "metadata": {},
   "source": [
    "# Attributed C-Sets as Data Structure\n",
    "\n",
    "This notebook is based on the paper\n",
    "[Categorical Data Structures for Technical Computing](https://arxiv.org/pdf/2106.04703.pdf).\n",
    "\n",
    "An Attributed C-Set, ACSet for short, is a data structure that aims to solve the\n",
    "divide of combinatorial vs atomic data.\n",
    "\n",
    "Data can be stored in many different formats, such as SQL tables, NO-SQL tables, data frames, and so on.\n",
    "These different formats make difficult to analyze the data directly, since simple tasks, such as calculating the mean aggregating the data according to\n",
    "an specific attribute, will require a different set of commands for each data format in order to be performed.\n",
    "In order to avoid having to deal with each possible variation, most data analysis starts by turning the dataset into\n",
    "data frame format.\n",
    "\n",
    "The choice of the data frame as the centralizing data structure is understandable, since most of analysis\n",
    "consists of data that can be thought of as single observations (rows) comprised of many features (columns).\n",
    "Yet, there are many common scenarios where such data structure is not the most natural one. Perhaps the most\n",
    "clear example are graphs. Here, the main aspect of the data is not it's \"atomic\" nature, but it's relational\n",
    "information (\"which nodes are connected\").\n",
    "\n",
    "The use o relational databases (SQL) can deal with such divide, but are usually too stiff, since they usually\n",
    "are part of a monolithic system with it's own langugae, which is not always straightfoward to integrate\n",
    "with general purpose programming languages such as Julia.\n",
    "\n",
    "ACSets were the solution proposed by Evan Patterson, Owen Lynch, and James Fairbanks.\n",
    "It consists of an efficient in-memory implementation of categorical databases, which encompasses data structures\n",
    "such as data frames, graphs and more. Thus, solving the combinatorial vs atomic data representation problem.\n",
    "\n",
    "In the implementation of ACSets, combinatorial data is always represented by integers, while atomic data\n",
    "is represented by type parameters which can be Julia types."
   ]
  },
  {
   "cell_type": "code",
   "execution_count": 1,
   "id": "17c2b034-0ceb-46e7-bbf6-86a743119ec2",
   "metadata": {},
   "outputs": [
    {
     "name": "stderr",
     "output_type": "stream",
     "text": [
      "\u001b[32m\u001b[1m  Activating\u001b[22m\u001b[39m project at `~/Main/EMAp/Mathematical-Short-Notes/Fields/Category-Theory/notebooks`\n"
     ]
    },
    {
     "data": {
      "text/plain": [
       "draw (generic function with 1 method)"
      ]
     },
     "execution_count": 1,
     "metadata": {},
     "output_type": "execute_result"
    }
   ],
   "source": [
    "using Pkg\n",
    "Pkg.activate(\".\")\n",
    "using Catlab,Catlab.CategoricalAlgebra, Catlab.ACSetInterface, Catlab.Graphs\n",
    "using Catlab.Graphics\n",
    "using Catlab.Graphics.Graphviz\n",
    "using Catlab.Programs.DiagrammaticPrograms\n",
    "using Colors\n",
    "draw(g) = to_graphviz(g, node_labels=true, edge_labels=true)"
   ]
  },
  {
   "cell_type": "markdown",
   "id": "54571785-812c-4ac4-b603-ba1241d2d1d5",
   "metadata": {},
   "source": [
    "## Example 1 - RoadMap\n",
    "\n",
    "This first example is directly from the paper. The idea here is to create an Acset to store\n",
    "information about roads, where `vertices` are intersctions, `edges` are the roads from each intersection,\n",
    "and `lenght` is the actual distance between interesection."
   ]
  },
  {
   "cell_type": "code",
   "execution_count": 2,
   "id": "11bbee71-99ee-4a0e-9f85-0017d378d72a",
   "metadata": {},
   "outputs": [
    {
     "data": {
      "text/plain": [
       "RoadMap"
      ]
     },
     "execution_count": 2,
     "metadata": {},
     "output_type": "execute_result"
    }
   ],
   "source": [
    "@present TheoryRoadMap(FreeSchema) begin\n",
    "    (V,E)::Ob\n",
    "    (src,tgt)::Hom(E,V)\n",
    "    T::AttrType\n",
    "    (x,y)::Attr(V,T)\n",
    "    length::Attr(E,T)\n",
    "end\n",
    "\n",
    "@acset_type RoadMap(TheoryRoadMap, index=[:src,:tgt])"
   ]
  },
  {
   "cell_type": "markdown",
   "id": "809d7aa4-f26e-4604-aa61-24a3e43bdd13",
   "metadata": {},
   "source": [
    "First we define the data schema, i.e. what are our tables and their relations. This is similar to what we have\n",
    "in relational databases, but in the categorical form. In our example, we want to have two tables,\n",
    "one is a list of vertices with their coordinates, and the other is the list of edges, where we\n",
    "have the source and target vertices of each edge, and the length.\n",
    "\n",
    "Hence, `(V,E)::Ob` states that we have two objects (tables) `V` and `E`.\n",
    "The line `T::AttrType` indicates that our data has values with type `T`.\n",
    "\n",
    "Next, `(x,y)::Attr(V,T)` indicates that we have two morphisms, i.e. `x:V -> T` and `y:V ->T`.\n",
    "And `length::Attrb(E,T)` is a morphism `length` from edges to type `T`."
   ]
  },
  {
   "cell_type": "code",
   "execution_count": 3,
   "id": "1dc12fe5-57b2-4be7-a907-e4905bc7be4f",
   "metadata": {},
   "outputs": [
    {
     "data": {
      "text/html": [
       "<div class=\"c-set\">\n",
       "<span class=\"c-set-summary\">RoadMap{Float64} with elements V = 1:10, E = 1:9</span>\n",
       "<table>\n",
       "  <thead>\n",
       "    <tr class = \"header headerLastRow\">\n",
       "      <th class = \"rowNumber\">V</th>\n",
       "      <th style = \"text-align: right;\">x</th>\n",
       "      <th style = \"text-align: right;\">y</th>\n",
       "    </tr>\n",
       "  </thead>\n",
       "  <tbody>\n",
       "    <tr>\n",
       "      <td class = \"rowNumber\">1</td>\n",
       "      <td style = \"text-align: right;\">0.452075</td>\n",
       "      <td style = \"text-align: right;\">0.913903</td>\n",
       "    </tr>\n",
       "    <tr>\n",
       "      <td class = \"rowNumber\">2</td>\n",
       "      <td style = \"text-align: right;\">0.873634</td>\n",
       "      <td style = \"text-align: right;\">0.265936</td>\n",
       "    </tr>\n",
       "    <tr>\n",
       "      <td class = \"rowNumber\">3</td>\n",
       "      <td style = \"text-align: right;\">0.217563</td>\n",
       "      <td style = \"text-align: right;\">0.812025</td>\n",
       "    </tr>\n",
       "    <tr>\n",
       "      <td class = \"rowNumber\">4</td>\n",
       "      <td style = \"text-align: right;\">0.752655</td>\n",
       "      <td style = \"text-align: right;\">0.930724</td>\n",
       "    </tr>\n",
       "    <tr>\n",
       "      <td class = \"rowNumber\">5</td>\n",
       "      <td style = \"text-align: right;\">0.00751398</td>\n",
       "      <td style = \"text-align: right;\">0.0415869</td>\n",
       "    </tr>\n",
       "    <tr>\n",
       "      <td class = \"rowNumber\">6</td>\n",
       "      <td style = \"text-align: right;\">0.0870555</td>\n",
       "      <td style = \"text-align: right;\">0.719029</td>\n",
       "    </tr>\n",
       "    <tr>\n",
       "      <td class = \"rowNumber\">7</td>\n",
       "      <td style = \"text-align: right;\">0.590724</td>\n",
       "      <td style = \"text-align: right;\">0.62993</td>\n",
       "    </tr>\n",
       "    <tr>\n",
       "      <td class = \"rowNumber\">8</td>\n",
       "      <td style = \"text-align: right;\">0.281664</td>\n",
       "      <td style = \"text-align: right;\">0.719091</td>\n",
       "    </tr>\n",
       "    <tr>\n",
       "      <td class = \"rowNumber\">9</td>\n",
       "      <td style = \"text-align: right;\">0.447633</td>\n",
       "      <td style = \"text-align: right;\">0.792288</td>\n",
       "    </tr>\n",
       "    <tr>\n",
       "      <td class = \"rowNumber\">10</td>\n",
       "      <td style = \"text-align: right;\">0.864583</td>\n",
       "      <td style = \"text-align: right;\">0.717466</td>\n",
       "    </tr>\n",
       "  </tbody>\n",
       "</table>\n",
       "<table>\n",
       "  <thead>\n",
       "    <tr class = \"header headerLastRow\">\n",
       "      <th class = \"rowNumber\">E</th>\n",
       "      <th style = \"text-align: right;\">src</th>\n",
       "      <th style = \"text-align: right;\">tgt</th>\n",
       "      <th style = \"text-align: right;\">length</th>\n",
       "    </tr>\n",
       "  </thead>\n",
       "  <tbody>\n",
       "    <tr>\n",
       "      <td class = \"rowNumber\">1</td>\n",
       "      <td style = \"text-align: right;\">1</td>\n",
       "      <td style = \"text-align: right;\">2</td>\n",
       "      <td style = \"text-align: right;\">0.773029</td>\n",
       "    </tr>\n",
       "    <tr>\n",
       "      <td class = \"rowNumber\">2</td>\n",
       "      <td style = \"text-align: right;\">2</td>\n",
       "      <td style = \"text-align: right;\">3</td>\n",
       "      <td style = \"text-align: right;\">0.853606</td>\n",
       "    </tr>\n",
       "    <tr>\n",
       "      <td class = \"rowNumber\">3</td>\n",
       "      <td style = \"text-align: right;\">3</td>\n",
       "      <td style = \"text-align: right;\">4</td>\n",
       "      <td style = \"text-align: right;\">0.548099</td>\n",
       "    </tr>\n",
       "    <tr>\n",
       "      <td class = \"rowNumber\">4</td>\n",
       "      <td style = \"text-align: right;\">4</td>\n",
       "      <td style = \"text-align: right;\">5</td>\n",
       "      <td style = \"text-align: right;\">1.16009</td>\n",
       "    </tr>\n",
       "    <tr>\n",
       "      <td class = \"rowNumber\">5</td>\n",
       "      <td style = \"text-align: right;\">5</td>\n",
       "      <td style = \"text-align: right;\">6</td>\n",
       "      <td style = \"text-align: right;\">0.682095</td>\n",
       "    </tr>\n",
       "    <tr>\n",
       "      <td class = \"rowNumber\">6</td>\n",
       "      <td style = \"text-align: right;\">6</td>\n",
       "      <td style = \"text-align: right;\">7</td>\n",
       "      <td style = \"text-align: right;\">0.511488</td>\n",
       "    </tr>\n",
       "    <tr>\n",
       "      <td class = \"rowNumber\">7</td>\n",
       "      <td style = \"text-align: right;\">7</td>\n",
       "      <td style = \"text-align: right;\">8</td>\n",
       "      <td style = \"text-align: right;\">0.321664</td>\n",
       "    </tr>\n",
       "    <tr>\n",
       "      <td class = \"rowNumber\">8</td>\n",
       "      <td style = \"text-align: right;\">8</td>\n",
       "      <td style = \"text-align: right;\">9</td>\n",
       "      <td style = \"text-align: right;\">0.181393</td>\n",
       "    </tr>\n",
       "    <tr>\n",
       "      <td class = \"rowNumber\">9</td>\n",
       "      <td style = \"text-align: right;\">9</td>\n",
       "      <td style = \"text-align: right;\">10</td>\n",
       "      <td style = \"text-align: right;\">0.42361</td>\n",
       "    </tr>\n",
       "  </tbody>\n",
       "</table>\n",
       "</div>\n"
      ],
      "text/plain": [
       "RoadMap{Float64} with elements V = 1:10, E = 1:9\n",
       "┌────┬────────────┬───────────┐\n",
       "│\u001b[1m  V \u001b[0m│\u001b[1m          x \u001b[0m│\u001b[1m         y \u001b[0m│\n",
       "├────┼────────────┼───────────┤\n",
       "│  1 │   0.452075 │  0.913903 │\n",
       "│  2 │   0.873634 │  0.265936 │\n",
       "│  3 │   0.217563 │  0.812025 │\n",
       "│  4 │   0.752655 │  0.930724 │\n",
       "│  5 │ 0.00751398 │ 0.0415869 │\n",
       "│  6 │  0.0870555 │  0.719029 │\n",
       "│  7 │   0.590724 │   0.62993 │\n",
       "│  8 │   0.281664 │  0.719091 │\n",
       "│  9 │   0.447633 │  0.792288 │\n",
       "│ 10 │   0.864583 │  0.717466 │\n",
       "└────┴────────────┴───────────┘\n",
       "┌───┬─────┬─────┬──────────┐\n",
       "│\u001b[1m E \u001b[0m│\u001b[1m src \u001b[0m│\u001b[1m tgt \u001b[0m│\u001b[1m   length \u001b[0m│\n",
       "├───┼─────┼─────┼──────────┤\n",
       "│ 1 │   1 │   2 │ 0.773029 │\n",
       "│ 2 │   2 │   3 │ 0.853606 │\n",
       "│ 3 │   3 │   4 │ 0.548099 │\n",
       "│ 4 │   4 │   5 │  1.16009 │\n",
       "│ 5 │   5 │   6 │ 0.682095 │\n",
       "│ 6 │   6 │   7 │ 0.511488 │\n",
       "│ 7 │   7 │   8 │ 0.321664 │\n",
       "│ 8 │   8 │   9 │ 0.181393 │\n",
       "│ 9 │   9 │  10 │  0.42361 │\n",
       "└───┴─────┴─────┴──────────┘\n"
      ]
     },
     "execution_count": 3,
     "metadata": {},
     "output_type": "execute_result"
    }
   ],
   "source": [
    "function make_path(coords::Vector{Tuple{Float64, Float64}})\n",
    "    # Create an empty roadmap\n",
    "    path = RoadMap{Float64}()\n",
    "    # This is a convenient function that calculates the Euclidean distance between two\n",
    "    # vertices in the road map. Notice that we can reference attributes using indexing\n",
    "    # and that the system knows that these attributes belong to vertices, not edges.\n",
    "    dist(i,j) = sqrt((path[i,:x] - path[j,:x])^2 + (path[i,:y] - path[j,:y])^2)\n",
    "    x, y = coords[1]\n",
    "    # add_part! mutates path to add a part, returning the index of the added part.\n",
    "    # The named arguments to this function assign the attributes of that part.\n",
    "    src = add_part!(path, :V, x=x, y=y)\n",
    "    for i in 2:length(coords)\n",
    "        x, y = coords[i]\n",
    "        tgt = add_part!(path, :V, x=x, y=y)\n",
    "        add_part!(path, :E, src=src, tgt=tgt, length=dist(src,tgt))\n",
    "        src = tgt\n",
    "    end\n",
    "    path\n",
    "end\n",
    "    \n",
    "ac = make_path([(x[1],x[2]) for x in eachrow(rand(10,2))])"
   ]
  },
  {
   "cell_type": "code",
   "execution_count": 4,
   "id": "d575469f-167d-44ab-9d61-bee9e92fe63a",
   "metadata": {},
   "outputs": [
    {
     "data": {
      "text/plain": [
       "0.873634450122913"
      ]
     },
     "execution_count": 4,
     "metadata": {},
     "output_type": "execute_result"
    }
   ],
   "source": [
    "subpart(ac, 2, [:src, :x]) # Get source vertex from edge 2 and take :x attribute."
   ]
  },
  {
   "cell_type": "code",
   "execution_count": 5,
   "id": "eb7ef541-350a-4f9d-8e1d-2c67cb5803d1",
   "metadata": {},
   "outputs": [
    {
     "data": {
      "text/plain": [
       "(V = Catlab.CSetDataStructures.StructACSetTable{RoadMap{Float64}, :V} with 10 rows, 2 columns, and an unknown schema., E = Catlab.CSetDataStructures.StructACSetTable{RoadMap{Float64}, :E} with 9 rows, 3 columns, and an unknown schema.)"
      ]
     },
     "execution_count": 5,
     "metadata": {},
     "output_type": "execute_result"
    }
   ],
   "source": [
    "ACSetInterface.tables(ac)"
   ]
  },
  {
   "cell_type": "code",
   "execution_count": 6,
   "id": "f0af1086-5cd4-4882-aaa9-68f18c6249fb",
   "metadata": {},
   "outputs": [
    {
     "data": {
      "text/plain": [
       "9-element Vector{Int64}:\n",
       "  2\n",
       "  3\n",
       "  4\n",
       "  5\n",
       "  6\n",
       "  7\n",
       "  8\n",
       "  9\n",
       " 10"
      ]
     },
     "execution_count": 6,
     "metadata": {},
     "output_type": "execute_result"
    }
   ],
   "source": [
    "ac.homs.tgt"
   ]
  },
  {
   "cell_type": "markdown",
   "id": "42fc2c39-0f40-4e7a-9025-929c8eca835f",
   "metadata": {},
   "source": [
    "Let's change a bit this example. Instead of only a single Type attribute, let's use two."
   ]
  },
  {
   "cell_type": "code",
   "execution_count": 7,
   "id": "df9fb27f-cce9-4c5c-8a7e-2421240cfdc1",
   "metadata": {},
   "outputs": [
    {
     "data": {
      "text/plain": [
       "MeshMap"
      ]
     },
     "execution_count": 7,
     "metadata": {},
     "output_type": "execute_result"
    }
   ],
   "source": [
    "@present TheoryMeshMap(FreeSchema) begin\n",
    "    (V,E)::Ob\n",
    "    (src,tgt)::Hom(E,V)\n",
    "    (S,T)::AttrType\n",
    "    (x,y)::Attr(V,T)\n",
    "    length::Attr(E,S)\n",
    "end\n",
    "\n",
    "@acset_type MeshMap(TheoryMeshMap, index=[:src,:tgt])"
   ]
  },
  {
   "cell_type": "markdown",
   "id": "9056173b-f81f-49fe-bb64-e085f60a2229",
   "metadata": {},
   "source": [
    "Now, let's instantiate this ACSet. "
   ]
  },
  {
   "cell_type": "code",
   "execution_count": 8,
   "id": "20293747-3ac0-49e2-89ca-1535f560966e",
   "metadata": {},
   "outputs": [
    {
     "data": {
      "text/html": [
       "<div class=\"c-set\">\n",
       "<span class=\"c-set-summary\">MeshMap{Float64, Int64} with elements V = 1:0, E = 1:0</span>\n",
       "</div>\n"
      ],
      "text/plain": [
       "MeshMap{Float64, Int64} with elements V = 1:0, E = 1:0\n"
      ]
     },
     "execution_count": 8,
     "metadata": {},
     "output_type": "execute_result"
    }
   ],
   "source": [
    "path = MeshMap{Float64, Int}()"
   ]
  },
  {
   "cell_type": "markdown",
   "id": "22c7f50b-0d82-44e2-a3fb-bb40c7482810",
   "metadata": {},
   "source": [
    "## Example 2 - Decorated Graphs\n",
    "\n",
    "Let's enrich our graph structure to allow vertices and edges attributes."
   ]
  },
  {
   "cell_type": "code",
   "execution_count": 9,
   "id": "22629a68-4ef1-4b28-a8c5-7836e9b56950",
   "metadata": {},
   "outputs": [
    {
     "data": {
      "text/plain": [
       "Presentation{Catlab.Theories.Schema, Symbol}(Catlab.Theories.FreeSchema, (Ob = Catlab.Theories.FreeSchema.Ob{:generator}[E, V], Hom = Catlab.Theories.FreeSchema.Hom{:generator}[src, tgt], AttrType = Catlab.Theories.FreeSchema.AttrType{:generator}[DotType, Shape], Attr = Catlab.Theories.FreeSchema.Attr{:generator}[dots, shape]), Dict(:shape => (:Attr => 2), :src => (:Hom => 1), :dots => (:Attr => 1), :V => (:Ob => 2), :DotType => (:AttrType => 1), :E => (:Ob => 1), :tgt => (:Hom => 2), :Shape => (:AttrType => 2)), Pair[])"
      ]
     },
     "execution_count": 9,
     "metadata": {},
     "output_type": "execute_result"
    }
   ],
   "source": [
    "using Catlab.CategoricalAlgebra\n",
    "@present TheoryDecoratedGraph(FreeSchema) begin\n",
    "    (E,V)::Ob\n",
    "    (src,tgt)::Hom(E,V)\n",
    "    (DotType,Shape)::AttrType\n",
    "    dots::Attr(E,DotType)\n",
    "    shape::Attr(V,Shape)\n",
    "end"
   ]
  },
  {
   "cell_type": "code",
   "execution_count": 10,
   "id": "e7a7fe6f-30ed-493b-a628-d8fff46fe6a5",
   "metadata": {},
   "outputs": [],
   "source": [
    "@acset_type DecoratedGraph(TheoryDecoratedGraph, index=[:src, :tgt]);"
   ]
  },
  {
   "cell_type": "code",
   "execution_count": 11,
   "id": "55e67bf6-0d3d-4637-b315-55ce447c1e3b",
   "metadata": {},
   "outputs": [
    {
     "data": {
      "text/html": [
       "<div class=\"c-set\">\n",
       "<span class=\"c-set-summary\">DecoratedGraph{Bool, Symbol} with elements E = 1:5, V = 1:4</span>\n",
       "<table>\n",
       "  <thead>\n",
       "    <tr class = \"header headerLastRow\">\n",
       "      <th class = \"rowNumber\">E</th>\n",
       "      <th style = \"text-align: right;\">src</th>\n",
       "      <th style = \"text-align: right;\">tgt</th>\n",
       "      <th style = \"text-align: right;\">dots</th>\n",
       "    </tr>\n",
       "  </thead>\n",
       "  <tbody>\n",
       "    <tr>\n",
       "      <td class = \"rowNumber\">1</td>\n",
       "      <td style = \"text-align: right;\">1</td>\n",
       "      <td style = \"text-align: right;\">2</td>\n",
       "      <td style = \"text-align: right;\">true</td>\n",
       "    </tr>\n",
       "    <tr>\n",
       "      <td class = \"rowNumber\">2</td>\n",
       "      <td style = \"text-align: right;\">1</td>\n",
       "      <td style = \"text-align: right;\">3</td>\n",
       "      <td style = \"text-align: right;\">false</td>\n",
       "    </tr>\n",
       "    <tr>\n",
       "      <td class = \"rowNumber\">3</td>\n",
       "      <td style = \"text-align: right;\">1</td>\n",
       "      <td style = \"text-align: right;\">4</td>\n",
       "      <td style = \"text-align: right;\">false</td>\n",
       "    </tr>\n",
       "    <tr>\n",
       "      <td class = \"rowNumber\">4</td>\n",
       "      <td style = \"text-align: right;\">3</td>\n",
       "      <td style = \"text-align: right;\">4</td>\n",
       "      <td style = \"text-align: right;\">false</td>\n",
       "    </tr>\n",
       "    <tr>\n",
       "      <td class = \"rowNumber\">5</td>\n",
       "      <td style = \"text-align: right;\">2</td>\n",
       "      <td style = \"text-align: right;\">4</td>\n",
       "      <td style = \"text-align: right;\">true</td>\n",
       "    </tr>\n",
       "  </tbody>\n",
       "</table>\n",
       "<table>\n",
       "  <thead>\n",
       "    <tr class = \"header headerLastRow\">\n",
       "      <th class = \"rowNumber\">V</th>\n",
       "      <th style = \"text-align: right;\">shape</th>\n",
       "    </tr>\n",
       "  </thead>\n",
       "  <tbody>\n",
       "    <tr>\n",
       "      <td class = \"rowNumber\">1</td>\n",
       "      <td style = \"text-align: right;\">star</td>\n",
       "    </tr>\n",
       "    <tr>\n",
       "      <td class = \"rowNumber\">2</td>\n",
       "      <td style = \"text-align: right;\">square</td>\n",
       "    </tr>\n",
       "    <tr>\n",
       "      <td class = \"rowNumber\">3</td>\n",
       "      <td style = \"text-align: right;\">star</td>\n",
       "    </tr>\n",
       "    <tr>\n",
       "      <td class = \"rowNumber\">4</td>\n",
       "      <td style = \"text-align: right;\">circle</td>\n",
       "    </tr>\n",
       "  </tbody>\n",
       "</table>\n",
       "</div>\n"
      ],
      "text/plain": [
       "DecoratedGraph{Bool, Symbol} with elements E = 1:5, V = 1:4\n",
       "┌───┬─────┬─────┬───────┐\n",
       "│\u001b[1m E \u001b[0m│\u001b[1m src \u001b[0m│\u001b[1m tgt \u001b[0m│\u001b[1m  dots \u001b[0m│\n",
       "├───┼─────┼─────┼───────┤\n",
       "│ 1 │   1 │   2 │  true │\n",
       "│ 2 │   1 │   3 │ false │\n",
       "│ 3 │   1 │   4 │ false │\n",
       "│ 4 │   3 │   4 │ false │\n",
       "│ 5 │   2 │   4 │  true │\n",
       "└───┴─────┴─────┴───────┘\n",
       "┌───┬────────┐\n",
       "│\u001b[1m V \u001b[0m│\u001b[1m  shape \u001b[0m│\n",
       "├───┼────────┤\n",
       "│ 1 │   star │\n",
       "│ 2 │ square │\n",
       "│ 3 │   star │\n",
       "│ 4 │ circle │\n",
       "└───┴────────┘\n"
      ]
     },
     "execution_count": 11,
     "metadata": {},
     "output_type": "execute_result"
    }
   ],
   "source": [
    "F = @acset DecoratedGraph{Bool, Symbol} begin\n",
    "    E = 5\n",
    "    V = 4\n",
    "    src   = [1,1,1,3,2]\n",
    "    tgt   = [2,3,4,4,4]\n",
    "    dots  = [true,false,false,false,true]\n",
    "    shape = [:star,:square,:star,:circle]\n",
    "end"
   ]
  },
  {
   "cell_type": "code",
   "execution_count": 12,
   "id": "c6c38cd0-b11a-4d6b-816a-a281dfc18e80",
   "metadata": {},
   "outputs": [],
   "source": [
    "add_part!(F, :E, src=4, tgt=1, dots=false);"
   ]
  },
  {
   "cell_type": "code",
   "execution_count": 13,
   "id": "09de2e50-c9f5-4842-836d-53149849ff29",
   "metadata": {},
   "outputs": [
    {
     "data": {
      "text/html": [
       "<div class=\"c-set\">\n",
       "<span class=\"c-set-summary\">DecoratedGraph{Bool, Symbol} with elements E = 1:6, V = 1:4</span>\n",
       "<table>\n",
       "  <thead>\n",
       "    <tr class = \"header headerLastRow\">\n",
       "      <th class = \"rowNumber\">E</th>\n",
       "      <th style = \"text-align: right;\">src</th>\n",
       "      <th style = \"text-align: right;\">tgt</th>\n",
       "      <th style = \"text-align: right;\">dots</th>\n",
       "    </tr>\n",
       "  </thead>\n",
       "  <tbody>\n",
       "    <tr>\n",
       "      <td class = \"rowNumber\">1</td>\n",
       "      <td style = \"text-align: right;\">1</td>\n",
       "      <td style = \"text-align: right;\">2</td>\n",
       "      <td style = \"text-align: right;\">true</td>\n",
       "    </tr>\n",
       "    <tr>\n",
       "      <td class = \"rowNumber\">2</td>\n",
       "      <td style = \"text-align: right;\">1</td>\n",
       "      <td style = \"text-align: right;\">3</td>\n",
       "      <td style = \"text-align: right;\">false</td>\n",
       "    </tr>\n",
       "    <tr>\n",
       "      <td class = \"rowNumber\">3</td>\n",
       "      <td style = \"text-align: right;\">1</td>\n",
       "      <td style = \"text-align: right;\">4</td>\n",
       "      <td style = \"text-align: right;\">false</td>\n",
       "    </tr>\n",
       "    <tr>\n",
       "      <td class = \"rowNumber\">4</td>\n",
       "      <td style = \"text-align: right;\">3</td>\n",
       "      <td style = \"text-align: right;\">4</td>\n",
       "      <td style = \"text-align: right;\">false</td>\n",
       "    </tr>\n",
       "    <tr>\n",
       "      <td class = \"rowNumber\">5</td>\n",
       "      <td style = \"text-align: right;\">2</td>\n",
       "      <td style = \"text-align: right;\">4</td>\n",
       "      <td style = \"text-align: right;\">true</td>\n",
       "    </tr>\n",
       "    <tr>\n",
       "      <td class = \"rowNumber\">6</td>\n",
       "      <td style = \"text-align: right;\">4</td>\n",
       "      <td style = \"text-align: right;\">1</td>\n",
       "      <td style = \"text-align: right;\">false</td>\n",
       "    </tr>\n",
       "  </tbody>\n",
       "</table>\n",
       "<table>\n",
       "  <thead>\n",
       "    <tr class = \"header headerLastRow\">\n",
       "      <th class = \"rowNumber\">V</th>\n",
       "      <th style = \"text-align: right;\">shape</th>\n",
       "    </tr>\n",
       "  </thead>\n",
       "  <tbody>\n",
       "    <tr>\n",
       "      <td class = \"rowNumber\">1</td>\n",
       "      <td style = \"text-align: right;\">star</td>\n",
       "    </tr>\n",
       "    <tr>\n",
       "      <td class = \"rowNumber\">2</td>\n",
       "      <td style = \"text-align: right;\">square</td>\n",
       "    </tr>\n",
       "    <tr>\n",
       "      <td class = \"rowNumber\">3</td>\n",
       "      <td style = \"text-align: right;\">star</td>\n",
       "    </tr>\n",
       "    <tr>\n",
       "      <td class = \"rowNumber\">4</td>\n",
       "      <td style = \"text-align: right;\">circle</td>\n",
       "    </tr>\n",
       "  </tbody>\n",
       "</table>\n",
       "</div>\n"
      ],
      "text/plain": [
       "DecoratedGraph{Bool, Symbol} with elements E = 1:6, V = 1:4\n",
       "┌───┬─────┬─────┬───────┐\n",
       "│\u001b[1m E \u001b[0m│\u001b[1m src \u001b[0m│\u001b[1m tgt \u001b[0m│\u001b[1m  dots \u001b[0m│\n",
       "├───┼─────┼─────┼───────┤\n",
       "│ 1 │   1 │   2 │  true │\n",
       "│ 2 │   1 │   3 │ false │\n",
       "│ 3 │   1 │   4 │ false │\n",
       "│ 4 │   3 │   4 │ false │\n",
       "│ 5 │   2 │   4 │  true │\n",
       "│ 6 │   4 │   1 │ false │\n",
       "└───┴─────┴─────┴───────┘\n",
       "┌───┬────────┐\n",
       "│\u001b[1m V \u001b[0m│\u001b[1m  shape \u001b[0m│\n",
       "├───┼────────┤\n",
       "│ 1 │   star │\n",
       "│ 2 │ square │\n",
       "│ 3 │   star │\n",
       "│ 4 │ circle │\n",
       "└───┴────────┘\n"
      ]
     },
     "execution_count": 13,
     "metadata": {},
     "output_type": "execute_result"
    }
   ],
   "source": [
    "F"
   ]
  },
  {
   "cell_type": "markdown",
   "id": "0b8caa2e-d244-4dae-870c-4095dec548a2",
   "metadata": {},
   "source": [
    "Let's play a little with this data structure. "
   ]
  },
  {
   "cell_type": "code",
   "execution_count": 14,
   "id": "8e0c45a4-0e47-4e7f-826b-f5641a5d3dda",
   "metadata": {},
   "outputs": [
    {
     "name": "stdout",
     "output_type": "stream",
     "text": [
      "incident(F, 4, :tgt) = [3, 4, 5]\n",
      "incident(F, :star, :shape) = [1, 3]\n"
     ]
    }
   ],
   "source": [
    "@show incident(F, 4, :tgt)\n",
    "@show incident(F, :star, :shape)\n",
    ";"
   ]
  },
  {
   "cell_type": "code",
   "execution_count": 15,
   "id": "17261fcd-987e-4a3b-89a7-483e8295640a",
   "metadata": {},
   "outputs": [
    {
     "data": {
      "text/plain": [
       "2-element StaticArrays.MVector{2, Int64} with indices SOneTo(2):\n",
       " 6\n",
       " 4"
      ]
     },
     "execution_count": 15,
     "metadata": {},
     "output_type": "execute_result"
    }
   ],
   "source": [
    "F.obs"
   ]
  },
  {
   "cell_type": "markdown",
   "id": "d21725b6-36eb-4336-9a27-0d7074c33e24",
   "metadata": {},
   "source": [
    "## More complex examples"
   ]
  },
  {
   "cell_type": "code",
   "execution_count": 16,
   "id": "33b84f59-07ba-41d6-976a-963bc4778af1",
   "metadata": {},
   "outputs": [
    {
     "data": {
      "text/plain": [
       "APA"
      ]
     },
     "execution_count": 16,
     "metadata": {},
     "output_type": "execute_result"
    }
   ],
   "source": [
    "@present PASchema(FreeSchema) begin\n",
    "    (Authors,Papers, Authorship)::Ob\n",
    "    (p)::Hom(Authorship,Papers)\n",
    "    (a)::Hom(Authorship,Authors)\n",
    "    (T,N)::AttrType\n",
    "    name::Attr(Authors,N)\n",
    "    title::Attr(Papers,N)\n",
    "    year::Attr(Papers,T)\n",
    "end\n",
    "\n",
    "@acset_type APA(PASchema, index=[:p,:a])"
   ]
  },
  {
   "cell_type": "code",
   "execution_count": 17,
   "id": "be5e6888-8c84-4fdf-8172-f572f18a5ead",
   "metadata": {},
   "outputs": [
    {
     "data": {
      "text/html": [
       "<div class=\"c-set\">\n",
       "<span class=\"c-set-summary\">APA{Real, String} with elements Authors = 1:2, Papers = 1:2, Authorship = 1:3</span>\n",
       "<table>\n",
       "  <thead>\n",
       "    <tr class = \"header headerLastRow\">\n",
       "      <th class = \"rowNumber\">Authors</th>\n",
       "      <th style = \"text-align: right;\">name</th>\n",
       "    </tr>\n",
       "  </thead>\n",
       "  <tbody>\n",
       "    <tr>\n",
       "      <td class = \"rowNumber\">1</td>\n",
       "      <td style = \"text-align: right;\">A</td>\n",
       "    </tr>\n",
       "    <tr>\n",
       "      <td class = \"rowNumber\">2</td>\n",
       "      <td style = \"text-align: right;\">B</td>\n",
       "    </tr>\n",
       "  </tbody>\n",
       "</table>\n",
       "<table>\n",
       "  <thead>\n",
       "    <tr class = \"header headerLastRow\">\n",
       "      <th class = \"rowNumber\">Papers</th>\n",
       "      <th style = \"text-align: right;\">title</th>\n",
       "      <th style = \"text-align: right;\">year</th>\n",
       "    </tr>\n",
       "  </thead>\n",
       "  <tbody>\n",
       "    <tr>\n",
       "      <td class = \"rowNumber\">1</td>\n",
       "      <td style = \"text-align: right;\">Paper1</td>\n",
       "      <td style = \"text-align: right;\">2000</td>\n",
       "    </tr>\n",
       "    <tr>\n",
       "      <td class = \"rowNumber\">2</td>\n",
       "      <td style = \"text-align: right;\">Paper2</td>\n",
       "      <td style = \"text-align: right;\">2001</td>\n",
       "    </tr>\n",
       "  </tbody>\n",
       "</table>\n",
       "<table>\n",
       "  <thead>\n",
       "    <tr class = \"header headerLastRow\">\n",
       "      <th class = \"rowNumber\">Authorship</th>\n",
       "      <th style = \"text-align: right;\">p</th>\n",
       "      <th style = \"text-align: right;\">a</th>\n",
       "    </tr>\n",
       "  </thead>\n",
       "  <tbody>\n",
       "    <tr>\n",
       "      <td class = \"rowNumber\">1</td>\n",
       "      <td style = \"text-align: right;\">1</td>\n",
       "      <td style = \"text-align: right;\">1</td>\n",
       "    </tr>\n",
       "    <tr>\n",
       "      <td class = \"rowNumber\">2</td>\n",
       "      <td style = \"text-align: right;\">2</td>\n",
       "      <td style = \"text-align: right;\">1</td>\n",
       "    </tr>\n",
       "    <tr>\n",
       "      <td class = \"rowNumber\">3</td>\n",
       "      <td style = \"text-align: right;\">2</td>\n",
       "      <td style = \"text-align: right;\">2</td>\n",
       "    </tr>\n",
       "  </tbody>\n",
       "</table>\n",
       "</div>\n"
      ],
      "text/plain": [
       "APA{Real, String} with elements Authors = 1:2, Papers = 1:2, Authorship = 1:3\n",
       "┌─────────┬──────┐\n",
       "│\u001b[1m Authors \u001b[0m│\u001b[1m name \u001b[0m│\n",
       "├─────────┼──────┤\n",
       "│       1 │    A │\n",
       "│       2 │    B │\n",
       "└─────────┴──────┘\n",
       "┌────────┬────────┬──────┐\n",
       "│\u001b[1m Papers \u001b[0m│\u001b[1m  title \u001b[0m│\u001b[1m year \u001b[0m│\n",
       "├────────┼────────┼──────┤\n",
       "│      1 │ Paper1 │ 2000 │\n",
       "│      2 │ Paper2 │ 2001 │\n",
       "└────────┴────────┴──────┘\n",
       "┌────────────┬───┬───┐\n",
       "│\u001b[1m Authorship \u001b[0m│\u001b[1m p \u001b[0m│\u001b[1m a \u001b[0m│\n",
       "├────────────┼───┼───┤\n",
       "│          1 │ 1 │ 1 │\n",
       "│          2 │ 2 │ 1 │\n",
       "│          3 │ 2 │ 2 │\n",
       "└────────────┴───┴───┘\n"
      ]
     },
     "execution_count": 17,
     "metadata": {},
     "output_type": "execute_result"
    }
   ],
   "source": [
    "ac = @acset APA{Real,String} begin\n",
    "    Authors = 2\n",
    "    Papers = 2\n",
    "    Authorship = 3\n",
    "    p = [1,2,2]\n",
    "    a = [1,1,2]\n",
    "    name = [\"A\",\"B\"]\n",
    "    title = [\"Paper1\",\"Paper2\"]\n",
    "    year  = [2000,2001]\n",
    "end"
   ]
  },
  {
   "cell_type": "code",
   "execution_count": 18,
   "id": "f1011eff-ae23-44d3-848d-d07b7d1dc4c4",
   "metadata": {},
   "outputs": [
    {
     "data": {
      "text/plain": [
       "(name = [\"A\", \"B\"], title = [\"Paper1\", \"Paper2\"], year = Real[2000, 2001])"
      ]
     },
     "execution_count": 18,
     "metadata": {},
     "output_type": "execute_result"
    }
   ],
   "source": [
    "ac.attrs"
   ]
  },
  {
   "cell_type": "code",
   "execution_count": 19,
   "id": "1bed4141-e559-4c31-b8bb-9dcd6e31aec1",
   "metadata": {},
   "outputs": [
    {
     "data": {
      "text/plain": [
       "true"
      ]
     },
     "execution_count": 19,
     "metadata": {},
     "output_type": "execute_result"
    }
   ],
   "source": [
    "typeof(ac) <: ACSet"
   ]
  },
  {
   "cell_type": "markdown",
   "id": "619d5ffa-c8f3-4f5f-9a5f-af3b228e251c",
   "metadata": {},
   "source": [
    "## Example of Data Migration"
   ]
  },
  {
   "cell_type": "code",
   "execution_count": 20,
   "id": "f3d9caad-bcad-4892-a53f-cf76c390ebd7",
   "metadata": {},
   "outputs": [
    {
     "data": {
      "text/plain": [
       "FinFunctor(Dict{Symbol, Catlab.Theories.FreeSchema.Ob{:generator}}(:V => Box, :E => Wire), Dict{Symbol, Catlab.Theories.FreeSchema.Hom{:compose}}(:src => compose(src,boxout), :tgt => compose(tgt,boxin)), FinCat(Presentation{Schema, Symbol}(Catlab.Theories.FreeSchema, (Ob = Catlab.Theories.FreeSchema.Ob{:generator}[V, E], Hom = Catlab.Theories.FreeSchema.Hom{:generator}[src, tgt], AttrType = Catlab.Theories.FreeSchema.AttrType{:generator}[], Attr = Catlab.Theories.FreeSchema.Attr{:generator}[]), Dict(:src=>(:Hom=>1), :V=>(:Ob=>1), :E=>(:Ob=>2), :tgt=>(:Hom=>2)), Pair[])), FinCat(Presentation{Schema, Symbol}(Catlab.Theories.FreeSchema, (Ob = Catlab.Theories.FreeSchema.Ob{:generator}[Wire, Box, OutPort, InPort], Hom = Catlab.Theories.FreeSchema.Hom{:generator}[src, tgt, boxout, boxin], AttrType = Catlab.Theories.FreeSchema.AttrType{:generator}[], Attr = Catlab.Theories.FreeSchema.Attr{:generator}[]), Dict(:boxout=>(:Hom=>3), :Wire=>(:Ob=>1), :InPort=>(:Ob=>4), :src=>(:Hom=>1), :boxin=>(:Hom=>4), :Box=>(:Ob=>2), :OutPort=>(:Ob=>3), :tgt=>(:Hom=>2)), Pair[])))"
      ]
     },
     "execution_count": 20,
     "metadata": {},
     "output_type": "execute_result"
    }
   ],
   "source": [
    "@present SchGraph(FreeSchema) begin\n",
    "  V::Ob\n",
    "  E::Ob\n",
    "  src::Hom(E,V)\n",
    "  tgt::Hom(E,V)\n",
    "end\n",
    "\n",
    "@present SchPortGraph(FreeSchema) begin\n",
    "  (Wire,Box,OutPort, InPort)::Ob\n",
    "  src::Hom(Wire,OutPort)\n",
    "  tgt::Hom(Wire,InPort)\n",
    "  boxout::Hom(OutPort,Box)\n",
    "  boxin::Hom(InPort,Box)\n",
    "end\n",
    "\n",
    "F = @migration SchGraph SchPortGraph begin\n",
    "    V => Box\n",
    "    E => Wire\n",
    "    src => src ⋅ boxout\n",
    "    tgt => tgt ⋅ boxin\n",
    "end"
   ]
  },
  {
   "cell_type": "code",
   "execution_count": 24,
   "id": "455fc473-be71-4f2e-baa1-a34285377334",
   "metadata": {},
   "outputs": [
    {
     "data": {
      "text/html": [
       "<div class=\"c-set\">\n",
       "<span class=\"c-set-summary\">SymmetricGraph with elements V = 1:5, E = 1:8</span>\n",
       "<table>\n",
       "  <thead>\n",
       "    <tr class = \"header headerLastRow\">\n",
       "      <th class = \"rowNumber\">E</th>\n",
       "      <th style = \"text-align: right;\">src</th>\n",
       "      <th style = \"text-align: right;\">tgt</th>\n",
       "      <th style = \"text-align: right;\">inv</th>\n",
       "    </tr>\n",
       "  </thead>\n",
       "  <tbody>\n",
       "    <tr>\n",
       "      <td class = \"rowNumber\">1</td>\n",
       "      <td style = \"text-align: right;\">5</td>\n",
       "      <td style = \"text-align: right;\">1</td>\n",
       "      <td style = \"text-align: right;\">5</td>\n",
       "    </tr>\n",
       "    <tr>\n",
       "      <td class = \"rowNumber\">2</td>\n",
       "      <td style = \"text-align: right;\">5</td>\n",
       "      <td style = \"text-align: right;\">2</td>\n",
       "      <td style = \"text-align: right;\">6</td>\n",
       "    </tr>\n",
       "    <tr>\n",
       "      <td class = \"rowNumber\">3</td>\n",
       "      <td style = \"text-align: right;\">5</td>\n",
       "      <td style = \"text-align: right;\">3</td>\n",
       "      <td style = \"text-align: right;\">7</td>\n",
       "    </tr>\n",
       "    <tr>\n",
       "      <td class = \"rowNumber\">4</td>\n",
       "      <td style = \"text-align: right;\">5</td>\n",
       "      <td style = \"text-align: right;\">4</td>\n",
       "      <td style = \"text-align: right;\">8</td>\n",
       "    </tr>\n",
       "    <tr>\n",
       "      <td class = \"rowNumber\">5</td>\n",
       "      <td style = \"text-align: right;\">1</td>\n",
       "      <td style = \"text-align: right;\">5</td>\n",
       "      <td style = \"text-align: right;\">1</td>\n",
       "    </tr>\n",
       "    <tr>\n",
       "      <td class = \"rowNumber\">6</td>\n",
       "      <td style = \"text-align: right;\">2</td>\n",
       "      <td style = \"text-align: right;\">5</td>\n",
       "      <td style = \"text-align: right;\">2</td>\n",
       "    </tr>\n",
       "    <tr>\n",
       "      <td class = \"rowNumber\">7</td>\n",
       "      <td style = \"text-align: right;\">3</td>\n",
       "      <td style = \"text-align: right;\">5</td>\n",
       "      <td style = \"text-align: right;\">3</td>\n",
       "    </tr>\n",
       "    <tr>\n",
       "      <td class = \"rowNumber\">8</td>\n",
       "      <td style = \"text-align: right;\">4</td>\n",
       "      <td style = \"text-align: right;\">5</td>\n",
       "      <td style = \"text-align: right;\">4</td>\n",
       "    </tr>\n",
       "  </tbody>\n",
       "</table>\n",
       "</div>\n"
      ],
      "text/plain": [
       "SymmetricGraph with elements V = 1:5, E = 1:8\n",
       "┌───┬─────┬─────┬─────┐\n",
       "│\u001b[1m E \u001b[0m│\u001b[1m src \u001b[0m│\u001b[1m tgt \u001b[0m│\u001b[1m inv \u001b[0m│\n",
       "├───┼─────┼─────┼─────┤\n",
       "│ 1 │   5 │   1 │   5 │\n",
       "│ 2 │   5 │   2 │   6 │\n",
       "│ 3 │   5 │   3 │   7 │\n",
       "│ 4 │   5 │   4 │   8 │\n",
       "│ 5 │   1 │   5 │   1 │\n",
       "│ 6 │   2 │   5 │   2 │\n",
       "│ 7 │   3 │   5 │   3 │\n",
       "│ 8 │   4 │   5 │   4 │\n",
       "└───┴─────┴─────┴─────┘\n"
      ]
     },
     "execution_count": 24,
     "metadata": {},
     "output_type": "execute_result"
    }
   ],
   "source": [
    "g = star_graph(Graphs.Graph, 5)\n",
    "h = @migrate SymmetricGraph g begin\n",
    "  V => V\n",
    "  E => @cases (fwd::E; rev::E)\n",
    "  src => (fwd => src; rev => tgt)\n",
    "  tgt => (fwd => tgt; rev => src)\n",
    "  inv => (fwd => rev; rev => fwd)\n",
    "end"
   ]
  },
  {
   "cell_type": "code",
   "execution_count": null,
   "id": "a25fe4ae-9bf7-4b17-b8f4-4ea1065d2163",
   "metadata": {},
   "outputs": [],
   "source": []
  },
  {
   "cell_type": "markdown",
   "id": "99ea4ae5-0bf6-4b7a-b109-c019c2367b07",
   "metadata": {},
   "source": []
  },
  {
   "cell_type": "code",
   "execution_count": null,
   "id": "556e81dd-5e2b-4749-923b-24b59469b7ba",
   "metadata": {},
   "outputs": [],
   "source": []
  },
  {
   "cell_type": "code",
   "execution_count": null,
   "id": "06a14290-e93e-459f-98b8-e845a6a2dcf3",
   "metadata": {},
   "outputs": [],
   "source": []
  },
  {
   "cell_type": "markdown",
   "id": "b541bdeb-2f4b-4acc-9fa8-9ad569d1cbff",
   "metadata": {},
   "source": [
    "## Nested Acset"
   ]
  },
  {
   "cell_type": "code",
   "execution_count": 28,
   "id": "d9b7e709-5b1e-4c4b-9e6e-2daf26033231",
   "metadata": {},
   "outputs": [
    {
     "data": {
      "text/html": [
       "<div class=\"c-set\">\n",
       "<span class=\"c-set-summary\">MyAcset{String, Int64, Float64} with elements D = 1:10</span>\n",
       "<table>\n",
       "  <thead>\n",
       "    <tr class = \"header headerLastRow\">\n",
       "      <th class = \"rowNumber\">D</th>\n",
       "      <th style = \"text-align: right;\">x</th>\n",
       "      <th style = \"text-align: right;\">y</th>\n",
       "      <th style = \"text-align: right;\">z</th>\n",
       "    </tr>\n",
       "  </thead>\n",
       "  <tbody>\n",
       "    <tr>\n",
       "      <td class = \"rowNumber\">1</td>\n",
       "      <td style = \"text-align: right;\">A</td>\n",
       "      <td style = \"text-align: right;\">1</td>\n",
       "      <td style = \"text-align: right;\">0.338882</td>\n",
       "    </tr>\n",
       "    <tr>\n",
       "      <td class = \"rowNumber\">2</td>\n",
       "      <td style = \"text-align: right;\">C</td>\n",
       "      <td style = \"text-align: right;\">1</td>\n",
       "      <td style = \"text-align: right;\">0.381757</td>\n",
       "    </tr>\n",
       "    <tr>\n",
       "      <td class = \"rowNumber\">3</td>\n",
       "      <td style = \"text-align: right;\">A</td>\n",
       "      <td style = \"text-align: right;\">0</td>\n",
       "      <td style = \"text-align: right;\">0.294181</td>\n",
       "    </tr>\n",
       "    <tr>\n",
       "      <td class = \"rowNumber\">4</td>\n",
       "      <td style = \"text-align: right;\">A</td>\n",
       "      <td style = \"text-align: right;\">0</td>\n",
       "      <td style = \"text-align: right;\">0.385299</td>\n",
       "    </tr>\n",
       "    <tr>\n",
       "      <td class = \"rowNumber\">5</td>\n",
       "      <td style = \"text-align: right;\">A</td>\n",
       "      <td style = \"text-align: right;\">0</td>\n",
       "      <td style = \"text-align: right;\">0.399548</td>\n",
       "    </tr>\n",
       "    <tr>\n",
       "      <td class = \"rowNumber\">6</td>\n",
       "      <td style = \"text-align: right;\">B</td>\n",
       "      <td style = \"text-align: right;\">1</td>\n",
       "      <td style = \"text-align: right;\">0.48944</td>\n",
       "    </tr>\n",
       "    <tr>\n",
       "      <td class = \"rowNumber\">7</td>\n",
       "      <td style = \"text-align: right;\">A</td>\n",
       "      <td style = \"text-align: right;\">1</td>\n",
       "      <td style = \"text-align: right;\">0.314148</td>\n",
       "    </tr>\n",
       "    <tr>\n",
       "      <td class = \"rowNumber\">8</td>\n",
       "      <td style = \"text-align: right;\">C</td>\n",
       "      <td style = \"text-align: right;\">0</td>\n",
       "      <td style = \"text-align: right;\">0.168701</td>\n",
       "    </tr>\n",
       "    <tr>\n",
       "      <td class = \"rowNumber\">9</td>\n",
       "      <td style = \"text-align: right;\">B</td>\n",
       "      <td style = \"text-align: right;\">1</td>\n",
       "      <td style = \"text-align: right;\">0.574559</td>\n",
       "    </tr>\n",
       "    <tr>\n",
       "      <td class = \"rowNumber\">10</td>\n",
       "      <td style = \"text-align: right;\">A</td>\n",
       "      <td style = \"text-align: right;\">1</td>\n",
       "      <td style = \"text-align: right;\">0.566838</td>\n",
       "    </tr>\n",
       "  </tbody>\n",
       "</table>\n",
       "</div>\n"
      ],
      "text/plain": [
       "MyAcset{String, Int64, Float64} with elements D = 1:10\n",
       "┌────┬───┬───┬──────────┐\n",
       "│\u001b[1m  D \u001b[0m│\u001b[1m x \u001b[0m│\u001b[1m y \u001b[0m│\u001b[1m        z \u001b[0m│\n",
       "├────┼───┼───┼──────────┤\n",
       "│  1 │ A │ 1 │ 0.338882 │\n",
       "│  2 │ C │ 1 │ 0.381757 │\n",
       "│  3 │ A │ 0 │ 0.294181 │\n",
       "│  4 │ A │ 0 │ 0.385299 │\n",
       "│  5 │ A │ 0 │ 0.399548 │\n",
       "│  6 │ B │ 1 │  0.48944 │\n",
       "│  7 │ A │ 1 │ 0.314148 │\n",
       "│  8 │ C │ 0 │ 0.168701 │\n",
       "│  9 │ B │ 1 │ 0.574559 │\n",
       "│ 10 │ A │ 1 │ 0.566838 │\n",
       "└────┴───┴───┴──────────┘\n"
      ]
     },
     "execution_count": 28,
     "metadata": {},
     "output_type": "execute_result"
    }
   ],
   "source": [
    "@present MySchema(FreeSchema) begin\n",
    "    D::Ob\n",
    "    (T1,T2,T3)::AttrType\n",
    "    x::Attr(D,T1)\n",
    "    y::Attr(D,T2)\n",
    "    z::Attr(D,T3)\n",
    "end\n",
    "\n",
    "@acset_type MyAcset(MySchema)\n",
    "\n",
    "df = @acset MyAcset{String, Int,Float64}  begin\n",
    "    D = 10\n",
    "    x = rand([\"A\",\"B\",\"C\"],10)\n",
    "    y = rand([0,1],10)\n",
    "    z = rand(10)\n",
    "end"
   ]
  },
  {
   "cell_type": "code",
   "execution_count": 29,
   "id": "6caf4c3b-9174-4b0b-8c50-09ae5695c2e2",
   "metadata": {},
   "outputs": [
    {
     "data": {
      "text/plain": [
       "MyNestedAcset"
      ]
     },
     "execution_count": 29,
     "metadata": {},
     "output_type": "execute_result"
    }
   ],
   "source": [
    "@present MyNestedSchema(FreeSchema) begin\n",
    "    (X, Y, Z)::Ob\n",
    "    y_::Hom(X, Y)\n",
    "    z_::Hom(Y, Z)\n",
    "    (T1,T2,T3)::AttrType\n",
    "    x::Attr(X,T1)\n",
    "    y::Attr(Y,T2)\n",
    "    z::Attr(Z,T3)\n",
    "end\n",
    "\n",
    "@acset_type MyNestedAcset(MyNestedSchema)"
   ]
  },
  {
   "cell_type": "code",
   "execution_count": 30,
   "id": "063938b4-0102-4ca0-87c9-3c78e7aeef05",
   "metadata": {},
   "outputs": [
    {
     "data": {
      "text/html": [
       "<div class=\"c-set\">\n",
       "<span class=\"c-set-summary\">MyNestedAcset{String, Int64, Float64} with elements X = 1:1, Y = 1:1, Z = 1:1</span>\n",
       "<table>\n",
       "  <thead>\n",
       "    <tr class = \"header headerLastRow\">\n",
       "      <th class = \"rowNumber\">X</th>\n",
       "      <th style = \"text-align: right;\">y_</th>\n",
       "      <th style = \"text-align: right;\">x</th>\n",
       "    </tr>\n",
       "  </thead>\n",
       "  <tbody>\n",
       "    <tr>\n",
       "      <td class = \"rowNumber\">1</td>\n",
       "      <td style = \"text-align: right;\">0</td>\n",
       "      <td style = \"text-align: right;\">A</td>\n",
       "    </tr>\n",
       "  </tbody>\n",
       "</table>\n",
       "<table>\n",
       "  <thead>\n",
       "    <tr class = \"header headerLastRow\">\n",
       "      <th class = \"rowNumber\">Y</th>\n",
       "      <th style = \"text-align: right;\">z_</th>\n",
       "      <th style = \"text-align: right;\">y</th>\n",
       "    </tr>\n",
       "  </thead>\n",
       "  <tbody>\n",
       "    <tr>\n",
       "      <td class = \"rowNumber\">1</td>\n",
       "      <td style = \"text-align: right;\">0</td>\n",
       "      <td style = \"text-align: right;\">1</td>\n",
       "    </tr>\n",
       "  </tbody>\n",
       "</table>\n",
       "<table>\n",
       "  <thead>\n",
       "    <tr class = \"header headerLastRow\">\n",
       "      <th class = \"rowNumber\">Z</th>\n",
       "      <th style = \"text-align: right;\">z</th>\n",
       "    </tr>\n",
       "  </thead>\n",
       "  <tbody>\n",
       "    <tr>\n",
       "      <td class = \"rowNumber\">1</td>\n",
       "      <td style = \"text-align: right;\">0.372211</td>\n",
       "    </tr>\n",
       "  </tbody>\n",
       "</table>\n",
       "</div>\n"
      ],
      "text/plain": [
       "MyNestedAcset{String, Int64, Float64} with elements X = 1:1, Y = 1:1, Z = 1:1\n",
       "┌───┬────┬───┐\n",
       "│\u001b[1m X \u001b[0m│\u001b[1m y_ \u001b[0m│\u001b[1m x \u001b[0m│\n",
       "├───┼────┼───┤\n",
       "│ 1 │  0 │ A │\n",
       "└───┴────┴───┘\n",
       "┌───┬────┬───┐\n",
       "│\u001b[1m Y \u001b[0m│\u001b[1m z_ \u001b[0m│\u001b[1m y \u001b[0m│\n",
       "├───┼────┼───┤\n",
       "│ 1 │  0 │ 1 │\n",
       "└───┴────┴───┘\n",
       "┌───┬──────────┐\n",
       "│\u001b[1m Z \u001b[0m│\u001b[1m        z \u001b[0m│\n",
       "├───┼──────────┤\n",
       "│ 1 │ 0.372211 │\n",
       "└───┴──────────┘\n"
      ]
     },
     "execution_count": 30,
     "metadata": {},
     "output_type": "execute_result"
    }
   ],
   "source": [
    "nf = @acset MyNestedAcset{String, Int,Float64}  begin\n",
    "    X = 1\n",
    "    Y = 1\n",
    "    Z = 1\n",
    "    x = [\"A\"]\n",
    "    y = 1\n",
    "    z = rand()\n",
    "end"
   ]
  },
  {
   "cell_type": "code",
   "execution_count": 40,
   "id": "2d415f41-0bff-4df5-846f-b7c125debe3b",
   "metadata": {},
   "outputs": [
    {
     "data": {
      "text/plain": [
       "true"
      ]
     },
     "execution_count": 40,
     "metadata": {},
     "output_type": "execute_result"
    }
   ],
   "source": [
    "typeof(df) <: ACSet"
   ]
  },
  {
   "cell_type": "code",
   "execution_count": 41,
   "id": "4512a561-1988-456c-ba87-77e1fc1c393b",
   "metadata": {},
   "outputs": [
    {
     "name": "stdout",
     "output_type": "stream",
     "text": [
      "search: \u001b[0m\u001b[1mm\u001b[22m\u001b[0m\u001b[1mi\u001b[22m\u001b[0m\u001b[1mg\u001b[22m\u001b[0m\u001b[1mr\u001b[22m\u001b[0m\u001b[1ma\u001b[22m\u001b[0m\u001b[1mt\u001b[22m\u001b[0m\u001b[1me\u001b[22m \u001b[0m\u001b[1mm\u001b[22m\u001b[0m\u001b[1mi\u001b[22m\u001b[0m\u001b[1mg\u001b[22m\u001b[0m\u001b[1mr\u001b[22m\u001b[0m\u001b[1ma\u001b[22m\u001b[0m\u001b[1mt\u001b[22m\u001b[0m\u001b[1me\u001b[22m! @\u001b[0m\u001b[1mm\u001b[22m\u001b[0m\u001b[1mi\u001b[22m\u001b[0m\u001b[1mg\u001b[22m\u001b[0m\u001b[1mr\u001b[22m\u001b[0m\u001b[1ma\u001b[22m\u001b[0m\u001b[1mt\u001b[22m\u001b[0m\u001b[1me\u001b[22m @\u001b[0m\u001b[1mm\u001b[22m\u001b[0m\u001b[1mi\u001b[22m\u001b[0m\u001b[1mg\u001b[22m\u001b[0m\u001b[1mr\u001b[22m\u001b[0m\u001b[1ma\u001b[22m\u001b[0m\u001b[1mt\u001b[22mion Data\u001b[0m\u001b[1mM\u001b[22m\u001b[0m\u001b[1mi\u001b[22m\u001b[0m\u001b[1mg\u001b[22m\u001b[0m\u001b[1mr\u001b[22m\u001b[0m\u001b[1ma\u001b[22m\u001b[0m\u001b[1mt\u001b[22mion Data\u001b[0m\u001b[1mM\u001b[22m\u001b[0m\u001b[1mi\u001b[22m\u001b[0m\u001b[1mg\u001b[22m\u001b[0m\u001b[1mr\u001b[22m\u001b[0m\u001b[1ma\u001b[22m\u001b[0m\u001b[1mt\u001b[22mions\n",
      "\n"
     ]
    },
    {
     "data": {
      "text/latex": [
       "Contravariantly migrate data from the acset \\texttt{Y} to a new acset of type \\texttt{T}.\n",
       "\n",
       "The mutating variant of this function is \\href{@ref}{\\texttt{migrate!}}.\n",
       "\n"
      ],
      "text/markdown": [
       "Contravariantly migrate data from the acset `Y` to a new acset of type `T`.\n",
       "\n",
       "The mutating variant of this function is [`migrate!`](@ref).\n"
      ],
      "text/plain": [
       "  Contravariantly migrate data from the acset \u001b[36mY\u001b[39m to a new acset of type \u001b[36mT\u001b[39m.\n",
       "\n",
       "  The mutating variant of this function is \u001b[36mmigrate!\u001b[39m."
      ]
     },
     "execution_count": 41,
     "metadata": {},
     "output_type": "execute_result"
    }
   ],
   "source": [
    "?migrate"
   ]
  },
  {
   "cell_type": "code",
   "execution_count": 33,
   "id": "2b2c74e5-3b7e-4934-9acd-ec3d0d622541",
   "metadata": {},
   "outputs": [
    {
     "data": {
      "text/plain": [
       "FinFunctor(Dict{Symbol, GATExpr{:generator}}(:T2 => T2, :D => X, :T1 => T1, :T3 => T3), Dict{Symbol, Catlab.Theories.FreeSchema.Attr{:generator}}(:y => y, :z => z, :x => x), FinCat(Presentation{Schema, Symbol}(Catlab.Theories.FreeSchema, (Ob = Catlab.Theories.FreeSchema.Ob{:generator}[D], Hom = Catlab.Theories.FreeSchema.Hom{:generator}[], AttrType = Catlab.Theories.FreeSchema.AttrType{:generator}[T1, T2, T3], Attr = Catlab.Theories.FreeSchema.Attr{:generator}[x, y, z]), Dict(:T2=>(:AttrType=>2), :D=>(:Ob=>1), :y=>(:Attr=>2), :z=>(:Attr=>3), :T1=>(:AttrType=>1), :T3=>(:AttrType=>3), :x=>(:Attr=>1)), Pair[])), FinCat(Presentation{Schema, Symbol}(Catlab.Theories.FreeSchema, (Ob = Catlab.Theories.FreeSchema.Ob{:generator}[X, Y, Z], Hom = Catlab.Theories.FreeSchema.Hom{:generator}[y_, z_], AttrType = Catlab.Theories.FreeSchema.AttrType{:generator}[T1, T2, T3], Attr = Catlab.Theories.FreeSchema.Attr{:generator}[x, y, z]), Dict(:T3=>(:AttrType=>3), :z_=>(:Hom=>2), :T2=>(:AttrType=>2), :X=>(:Ob=>1), :x=>(:Attr=>1), :Z=>(:Ob=>3), :Y=>(:Ob=>2), :z=>(:Attr=>3), :y_=>(:Hom=>1), :y=>(:Attr=>2)…), Pair[])))"
      ]
     },
     "execution_count": 33,
     "metadata": {},
     "output_type": "execute_result"
    }
   ],
   "source": [
    "F = @migration MySchema MyNestedSchema begin\n",
    "    D => X\n",
    "    x => x\n",
    "    y => y\n",
    "    z => z\n",
    "    T1 => T1\n",
    "    T2 => T2\n",
    "    T3 => T3\n",
    "end"
   ]
  },
  {
   "cell_type": "code",
   "execution_count": 34,
   "id": "01135b97-7735-49e7-91fc-266f6e15b05d",
   "metadata": {},
   "outputs": [
    {
     "ename": "LoadError",
     "evalue": "MethodError: no method matching migrate(::Catlab.CategoricalAlgebra.CSets.ACSetFunctor{MyAcset{String, Int64, Float64}}, ::Catlab.CategoricalAlgebra.FinCats.FinDomFunctorMap{Catlab.CategoricalAlgebra.FinCats.FinCatPresentation{Catlab.Theories.Schema, Union{Catlab.Theories.FreeSchema.AttrType, Catlab.Theories.FreeSchema.Ob}, Union{Catlab.Theories.FreeSchema.Attr, Catlab.Theories.FreeSchema.AttrType, Catlab.Theories.FreeSchema.Hom}}, Catlab.CategoricalAlgebra.FinCats.FinCatPresentation{Catlab.Theories.Schema, Union{Catlab.Theories.FreeSchema.AttrType, Catlab.Theories.FreeSchema.Ob}, Union{Catlab.Theories.FreeSchema.Attr, Catlab.Theories.FreeSchema.AttrType, Catlab.Theories.FreeSchema.Hom}}, Dict{Symbol, GATExpr{:generator}}, Dict{Symbol, Catlab.Theories.FreeSchema.Attr{:generator}}})\n\u001b[0mClosest candidates are:\n\u001b[0m  migrate(\u001b[91m::ACSet\u001b[39m, ::Functor{Dom} where Dom<:FinCat; kw...) at ~/.julia/packages/Catlab/XsT24/src/categorical_algebra/DataMigrations.jl:113\n\u001b[0m  migrate(::Functor{Dom} where Dom<:FinCat, \u001b[91m::Functor{D, <:TypeCat{<:Diagram{Catlab.CategoricalAlgebra.Diagrams.op, C, D} where D<:(Functor{<:FinCat, C})}} where {D<:FinCat, C<:FinCat}\u001b[39m; return_limits, tabular) at ~/.julia/packages/Catlab/XsT24/src/categorical_algebra/DataMigrations.jl:164\n\u001b[0m  migrate(::Functor{Dom} where Dom<:FinCat, \u001b[91m::Functor{D, <:TypeCat{<:Diagram{Catlab.Theories.id, C, D} where D<:(Functor{<:FinCat, C})}} where {D<:FinCat, C<:FinCat}\u001b[39m) at ~/.julia/packages/Catlab/XsT24/src/categorical_algebra/DataMigrations.jl:199\n\u001b[0m  ...",
     "output_type": "error",
     "traceback": [
      "MethodError: no method matching migrate(::Catlab.CategoricalAlgebra.CSets.ACSetFunctor{MyAcset{String, Int64, Float64}}, ::Catlab.CategoricalAlgebra.FinCats.FinDomFunctorMap{Catlab.CategoricalAlgebra.FinCats.FinCatPresentation{Catlab.Theories.Schema, Union{Catlab.Theories.FreeSchema.AttrType, Catlab.Theories.FreeSchema.Ob}, Union{Catlab.Theories.FreeSchema.Attr, Catlab.Theories.FreeSchema.AttrType, Catlab.Theories.FreeSchema.Hom}}, Catlab.CategoricalAlgebra.FinCats.FinCatPresentation{Catlab.Theories.Schema, Union{Catlab.Theories.FreeSchema.AttrType, Catlab.Theories.FreeSchema.Ob}, Union{Catlab.Theories.FreeSchema.Attr, Catlab.Theories.FreeSchema.AttrType, Catlab.Theories.FreeSchema.Hom}}, Dict{Symbol, GATExpr{:generator}}, Dict{Symbol, Catlab.Theories.FreeSchema.Attr{:generator}}})\n\u001b[0mClosest candidates are:\n\u001b[0m  migrate(\u001b[91m::ACSet\u001b[39m, ::Functor{Dom} where Dom<:FinCat; kw...) at ~/.julia/packages/Catlab/XsT24/src/categorical_algebra/DataMigrations.jl:113\n\u001b[0m  migrate(::Functor{Dom} where Dom<:FinCat, \u001b[91m::Functor{D, <:TypeCat{<:Diagram{Catlab.CategoricalAlgebra.Diagrams.op, C, D} where D<:(Functor{<:FinCat, C})}} where {D<:FinCat, C<:FinCat}\u001b[39m; return_limits, tabular) at ~/.julia/packages/Catlab/XsT24/src/categorical_algebra/DataMigrations.jl:164\n\u001b[0m  migrate(::Functor{Dom} where Dom<:FinCat, \u001b[91m::Functor{D, <:TypeCat{<:Diagram{Catlab.Theories.id, C, D} where D<:(Functor{<:FinCat, C})}} where {D<:FinCat, C<:FinCat}\u001b[39m) at ~/.julia/packages/Catlab/XsT24/src/categorical_algebra/DataMigrations.jl:199\n\u001b[0m  ...",
      "",
      "Stacktrace:",
      " [1] migrate(X::MyAcset{String, Int64, Float64}, F::Catlab.CategoricalAlgebra.FinCats.FinDomFunctorMap{Catlab.CategoricalAlgebra.FinCats.FinCatPresentation{Catlab.Theories.Schema, Union{Catlab.Theories.FreeSchema.AttrType, Catlab.Theories.FreeSchema.Ob}, Union{Catlab.Theories.FreeSchema.Attr, Catlab.Theories.FreeSchema.AttrType, Catlab.Theories.FreeSchema.Hom}}, Catlab.CategoricalAlgebra.FinCats.FinCatPresentation{Catlab.Theories.Schema, Union{Catlab.Theories.FreeSchema.AttrType, Catlab.Theories.FreeSchema.Ob}, Union{Catlab.Theories.FreeSchema.Attr, Catlab.Theories.FreeSchema.AttrType, Catlab.Theories.FreeSchema.Hom}}, Dict{Symbol, GATExpr{:generator}}, Dict{Symbol, Catlab.Theories.FreeSchema.Attr{:generator}}}; kw::Base.Pairs{Symbol, Union{}, Tuple{}, NamedTuple{(), Tuple{}}})",
      "   @ Catlab.CategoricalAlgebra.DataMigrations ~/.julia/packages/Catlab/XsT24/src/categorical_algebra/DataMigrations.jl:114",
      " [2] migrate(X::MyAcset{String, Int64, Float64}, F::Catlab.CategoricalAlgebra.FinCats.FinDomFunctorMap{Catlab.CategoricalAlgebra.FinCats.FinCatPresentation{Catlab.Theories.Schema, Union{Catlab.Theories.FreeSchema.AttrType, Catlab.Theories.FreeSchema.Ob}, Union{Catlab.Theories.FreeSchema.Attr, Catlab.Theories.FreeSchema.AttrType, Catlab.Theories.FreeSchema.Hom}}, Catlab.CategoricalAlgebra.FinCats.FinCatPresentation{Catlab.Theories.Schema, Union{Catlab.Theories.FreeSchema.AttrType, Catlab.Theories.FreeSchema.Ob}, Union{Catlab.Theories.FreeSchema.Attr, Catlab.Theories.FreeSchema.AttrType, Catlab.Theories.FreeSchema.Hom}}, Dict{Symbol, GATExpr{:generator}}, Dict{Symbol, Catlab.Theories.FreeSchema.Attr{:generator}}})",
      "   @ Catlab.CategoricalAlgebra.DataMigrations ~/.julia/packages/Catlab/XsT24/src/categorical_algebra/DataMigrations.jl:114",
      " [3] top-level scope",
      "   @ In[34]:1",
      " [4] eval",
      "   @ ./boot.jl:373 [inlined]",
      " [5] include_string(mapexpr::typeof(REPL.softscope), mod::Module, code::String, filename::String)",
      "   @ Base ./loading.jl:1196"
     ]
    }
   ],
   "source": [
    "migrate(df, F)"
   ]
  },
  {
   "cell_type": "code",
   "execution_count": null,
   "id": "517d05e3-466d-4abe-97a7-d5c45d9bb4f3",
   "metadata": {},
   "outputs": [],
   "source": []
  },
  {
   "cell_type": "code",
   "execution_count": null,
   "id": "7040c642-5cc1-474f-bf03-50edda1a71bf",
   "metadata": {},
   "outputs": [],
   "source": []
  },
  {
   "cell_type": "code",
   "execution_count": null,
   "id": "a48db59f-4f8c-41ba-95b5-5f574f5319fd",
   "metadata": {},
   "outputs": [],
   "source": []
  },
  {
   "cell_type": "code",
   "execution_count": null,
   "id": "86cb4862-ad30-46f7-b8b7-c80f2ab39667",
   "metadata": {},
   "outputs": [],
   "source": []
  },
  {
   "cell_type": "code",
   "execution_count": null,
   "id": "7742b24b-8800-4455-89ef-210e72d85b70",
   "metadata": {},
   "outputs": [],
   "source": [
    "\n",
    "ac = @acset APA{Real,String} begin\n",
    "    Authors = 2\n",
    "    Papers = 2\n",
    "    Authorship = 3\n",
    "    p = [1,2,2]\n",
    "    a = [1,1,2]\n",
    "    name = [\"A\",\"B\"]\n",
    "    title = [\"Paper1\",\"Paper2\"]\n",
    "    year  = [2000,2001]\n",
    "end"
   ]
  },
  {
   "cell_type": "code",
   "execution_count": null,
   "id": "4a0b1c69-d6f1-4601-90c8-27478fc75292",
   "metadata": {},
   "outputs": [],
   "source": [
    "# Write down the schema for a weighted graph\n",
    "@present TheoryWeightedGraph(FreeSchema) begin\n",
    "  V::Ob\n",
    "  E::Ob\n",
    "  src::Hom(E,V)\n",
    "  tgt::Hom(E,V)\n",
    "  T::AttrType\n",
    "  weight::Attr(E,T)\n",
    "end\n",
    "\n",
    "# Construct the type used to store acsets on the previous schema\n",
    "# We *index* src and tgt, which means that we store not only\n",
    "# the forwards map, but also the backwards map.\n",
    "@acset_type WeightedGraph(TheoryWeightedGraph, index=[:src,:tgt])\n",
    "\n",
    "# Construct a weighted graph, with floats as edge weights\n",
    "g = @acset WeightedGraph{Float64} begin\n",
    "  V = 4\n",
    "  E = 5\n",
    "  src = [1,1,1,2,3]\n",
    "  tgt = [2,3,4,4,4]\n",
    "  weight = [7.2, 9.3, 9.4, 0.1, 42.0]\n",
    "end"
   ]
  },
  {
   "cell_type": "code",
   "execution_count": null,
   "id": "b6938034-b6ca-4698-b019-22c8e7663302",
   "metadata": {},
   "outputs": [],
   "source": [
    "# ϕ = ACSetTransformation(e,w,E=[1], V=[1,2])\n"
   ]
  },
  {
   "cell_type": "code",
   "execution_count": null,
   "id": "931a755e-0bd1-4c9f-9394-a4aa16b3ccc5",
   "metadata": {},
   "outputs": [],
   "source": []
  },
  {
   "cell_type": "code",
   "execution_count": null,
   "id": "bbed7c94-5da8-4ef3-b5c3-7d28e8d5160a",
   "metadata": {},
   "outputs": [],
   "source": []
  },
  {
   "cell_type": "code",
   "execution_count": null,
   "id": "251933ec-fd17-4850-a914-079eabc2a49e",
   "metadata": {},
   "outputs": [],
   "source": []
  },
  {
   "cell_type": "code",
   "execution_count": null,
   "id": "7f9ce314-e50a-4fd6-adb5-704cc7aa9404",
   "metadata": {},
   "outputs": [],
   "source": []
  },
  {
   "cell_type": "code",
   "execution_count": null,
   "id": "f83a3cbd-e2d3-4a60-86e7-2a4b3390a980",
   "metadata": {},
   "outputs": [],
   "source": []
  }
 ],
 "metadata": {
  "kernelspec": {
   "display_name": "Julia (4 threads) 1.7.2",
   "language": "julia",
   "name": "julia-(4-threads)-1.7"
  },
  "language_info": {
   "file_extension": ".jl",
   "mimetype": "application/julia",
   "name": "julia",
   "version": "1.7.2"
  }
 },
 "nbformat": 4,
 "nbformat_minor": 5
}
