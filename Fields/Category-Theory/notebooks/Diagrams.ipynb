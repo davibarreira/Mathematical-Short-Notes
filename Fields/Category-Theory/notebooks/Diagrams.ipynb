{
 "cells": [
  {
   "cell_type": "markdown",
   "id": "2f546c36-1519-4d2e-a6db-84bb734333db",
   "metadata": {},
   "source": [
    "# Drawing Categories\n",
    "This notebooks contains the script for drawing the Hasse diagrams used in the notes.\n",
    "We use the Luxor.jl to do the drawing, together with some auxiliary functions I've implemented\n",
    "in `luxorcat.jl`."
   ]
  },
  {
   "cell_type": "code",
   "execution_count": 1,
   "id": "3a65c236-d510-448f-bf64-caf88e1a5d35",
   "metadata": {},
   "outputs": [
    {
     "name": "stderr",
     "output_type": "stream",
     "text": [
      "\u001b[32m\u001b[1m  Activating\u001b[22m\u001b[39m project at `~/MEGA/EMAp/Mathematical-Short-Notes/Fields/Category-Theory/notebooks`\n"
     ]
    }
   ],
   "source": [
    "using Pkg\n",
    "Pkg.activate(\".\")"
   ]
  },
  {
   "cell_type": "code",
   "execution_count": 2,
   "id": "c303f1e4-4c93-433b-aeaf-bc2ca7cc78fc",
   "metadata": {},
   "outputs": [
    {
     "name": "stderr",
     "output_type": "stream",
     "text": [
      "┌ Warning: Package Luxor does not have MathTeXEngine in its dependencies:\n",
      "│ - If you have Luxor checked out for development and have\n",
      "│   added MathTeXEngine as a dependency but haven't updated your primary\n",
      "│   environment's manifest file, try `Pkg.resolve()`.\n",
      "│ - Otherwise you may need to report an issue with Luxor\n",
      "│ Loading MathTeXEngine into Luxor from project dependency, future warnings for Luxor are suppressed.\n",
      "└ @ nothing nothing:984\n"
     ]
    }
   ],
   "source": [
    "include(\"luxorcat.jl\")"
   ]
  },
  {
   "cell_type": "markdown",
   "id": "440310f5-46d9-4dc8-aba2-7dec49fdb00c",
   "metadata": {},
   "source": [
    "### $1$ Category"
   ]
  },
  {
   "cell_type": "code",
   "execution_count": null,
   "id": "9430e9cc-2bd0-4a3b-9563-0ae164f3f1aa",
   "metadata": {},
   "outputs": [],
   "source": [
    "d = Drawing(100,80,:svg)\n",
    "origin()\n",
    "translate(Point(0,20))\n",
    "circle(O, 5,:fill)\n",
    "fontface(\"Arial\")\n",
    "fontsize(12)\n",
    "label(L\"a\",:S, offset=10)\n",
    "morphism(O, L\"id_a\")\n",
    "finish()\n",
    "savediagram(d, \"1Cat.pdf\");\n",
    "d"
   ]
  },
  {
   "cell_type": "markdown",
   "id": "5393552e-8a5a-4ef3-82bf-d1d6a8aa2f5d",
   "metadata": {},
   "source": [
    "### $2$ Category"
   ]
  },
  {
   "cell_type": "code",
   "execution_count": null,
   "id": "11477cc9-8ea9-455d-92be-784ca5faec57",
   "metadata": {},
   "outputs": [],
   "source": [
    "d = Drawing(300,80,:svg)\n",
    "origin()\n",
    "translate(Point(0,20))\n",
    "fontsize(12)\n",
    "\n",
    "a = Point(-50,0)\n",
    "circle(a, 5,:fill)\n",
    "\n",
    "morphism(a, L\"id_a\")\n",
    "label(L\"a\",:S, a, offset=10)\n",
    "\n",
    "b = Point(50,0)\n",
    "circle(b, 5,:fill)\n",
    "label(L\"b\",:S,b, offset=10)\n",
    "morphism(b, L\"id_b\")\n",
    "\n",
    "morphism(a,b)\n",
    "finish()\n",
    "savediagram(d, \"2Cat.pdf\");\n",
    "d"
   ]
  },
  {
   "cell_type": "markdown",
   "id": "e06327a7-d5ec-4478-9e7d-be1b6e984d02",
   "metadata": {},
   "source": [
    "### $2$ Category omitting identities"
   ]
  },
  {
   "cell_type": "code",
   "execution_count": null,
   "id": "0a14f4c5-d85b-4055-8baf-13018b8bfa56",
   "metadata": {},
   "outputs": [],
   "source": [
    "d = Drawing(300,80,:svg)\n",
    "origin()\n",
    "# translate(Point(0,10))\n",
    "fontsize(12)\n",
    "\n",
    "a = Point(-50,0)\n",
    "circle(a, 5,:fill)\n",
    "\n",
    "label(L\"a\",:S, a, offset=10)\n",
    "\n",
    "b = Point(50,0)\n",
    "circle(b, 5,:fill)\n",
    "label(L\"b\",:S,b, offset=10)\n",
    "\n",
    "morphism(a,b)\n",
    "finish()\n",
    "savediagram(d, \"2Catsimple.pdf\");\n",
    "d"
   ]
  },
  {
   "cell_type": "markdown",
   "id": "bd9213e2-53a5-4cd0-a8ab-8b0d6e01716e",
   "metadata": {},
   "source": [
    "### $3$ Category"
   ]
  },
  {
   "cell_type": "code",
   "execution_count": null,
   "id": "0070659b-242e-4da8-b83e-cb3799337d91",
   "metadata": {},
   "outputs": [],
   "source": [
    "d = Drawing(400,100,:svg)\n",
    "origin()\n",
    "fontsize(12)\n",
    "\n",
    "a = Point(-100,0)\n",
    "circle(a, 5,:fill)\n",
    "\n",
    "label(L\"a\",:S, a, offset=10)\n",
    "\n",
    "b = Point(0,0)\n",
    "circle(b, 5,:fill)\n",
    "label(L\"b\",:S,b, offset=10)\n",
    "\n",
    "c = Point(100,0)\n",
    "circle(c, 5,:fill)\n",
    "label(L\"c\",:S,c, offset=10)\n",
    "\n",
    "morphism(a,b)\n",
    "morphism(b,c, L\"$g$\")\n",
    "\n",
    "finish()\n",
    "savediagram(d, \"3Catsimple.pdf\");\n",
    "d"
   ]
  },
  {
   "cell_type": "code",
   "execution_count": null,
   "id": "4fc84811-8704-4a62-9485-7cd9fed72acb",
   "metadata": {},
   "outputs": [],
   "source": [
    "d = Drawing(400,150,:svg)\n",
    "origin()\n",
    "translate(Point(0,0))\n",
    "fontsize(12)\n",
    "\n",
    "a = Point(-100,0)\n",
    "circle(a, 5,:fill)\n",
    "\n",
    "label(L\"a\",:S, a, offset=10)\n",
    "\n",
    "b = Point(0,0)\n",
    "circle(b, 5,:fill)\n",
    "label(L\"b\",:S,b, offset=10)\n",
    "\n",
    "c = Point(100,0)\n",
    "circle(c, 5,:fill)\n",
    "label(L\"c\",:S,c, offset=10)\n",
    "\n",
    "\n",
    "morphism.([a,b,c])\n",
    "morphism(a,b)\n",
    "morphism(b,c, L\"g\")\n",
    "\n",
    "fontface(\"JuliaMono\")\n",
    "morphism(a,c,L\"f ; g\", curve=40)\n",
    "\n",
    "finish()\n",
    "savediagram(d, \"3CatComplete.pdf\");\n",
    "d"
   ]
  },
  {
   "cell_type": "markdown",
   "id": "8e40e51f-1478-40f1-870d-363187797a02",
   "metadata": {},
   "source": [
    "### Preorder"
   ]
  },
  {
   "cell_type": "code",
   "execution_count": null,
   "id": "a9824a3f-59f9-4e8a-aed7-833194a2956a",
   "metadata": {},
   "outputs": [],
   "source": [
    "d = Drawing(600,100,:svg)\n",
    "origin()\n",
    "translate(Point(-100,0))\n",
    "fontsize(12)\n",
    "\n",
    "a = Point(-150,0)\n",
    "circle(a, 5,:fill)\n",
    "\n",
    "label(L\"0\",:S, a, offset=10)\n",
    "\n",
    "b = Point(-50,0)\n",
    "circle(b, 5,:fill)\n",
    "label(L\"1\",:S,b, offset=10)\n",
    "\n",
    "c = Point(50,0)\n",
    "circle(c, 5,:fill)\n",
    "label(L\"2\",:S,c, offset=10)\n",
    "\n",
    "e = Point(150,0)\n",
    "circle(e, 5,:fill)\n",
    "label(L\"3\",:S,e, offset=10)\n",
    "\n",
    "morphism(b,a,L\"\\leq\")\n",
    "morphism(c,b,L\"\\leq\")\n",
    "morphism(e,c,L\"\\leq\")\n",
    "p = Point(200,0)\n",
    "\n",
    "morphism(p,e,\"\")\n",
    "\n",
    "circle(Point(200,0),1,:fill)\n",
    "circle(Point(205,0),1,:fill)\n",
    "circle(Point(210,0),1,:fill)\n",
    "\n",
    "finish()\n",
    "savediagram(d, \"NCat.pdf\");\n",
    "d"
   ]
  },
  {
   "cell_type": "code",
   "execution_count": null,
   "id": "574c672e-077d-492f-b579-df4d20282d90",
   "metadata": {},
   "outputs": [],
   "source": []
  }
 ],
 "metadata": {
  "kernelspec": {
   "display_name": "julia 1.7.1",
   "language": "julia",
   "name": "julia-1.7"
  },
  "language_info": {
   "file_extension": ".jl",
   "mimetype": "application/julia",
   "name": "julia",
   "version": "1.7.1"
  }
 },
 "nbformat": 4,
 "nbformat_minor": 5
}
