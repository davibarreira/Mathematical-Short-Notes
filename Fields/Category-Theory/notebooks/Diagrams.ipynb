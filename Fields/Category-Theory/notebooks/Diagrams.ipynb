{
 "cells": [
  {
   "cell_type": "code",
   "execution_count": 11,
   "id": "3a65c236-d510-448f-bf64-caf88e1a5d35",
   "metadata": {},
   "outputs": [
    {
     "name": "stderr",
     "output_type": "stream",
     "text": [
      "\u001b[32m\u001b[1m  Activating\u001b[22m\u001b[39m project at `~/MEGA/EMAp/Mathematical-Short-Notes/Fields/Category-Theory/notebooks`\n"
     ]
    },
    {
     "data": {
      "text/plain": [
       "morphism"
      ]
     },
     "execution_count": 11,
     "metadata": {},
     "output_type": "execute_result"
    }
   ],
   "source": [
    "using Pkg\n",
    "Pkg.activate(\".\")\n",
    "include(\"luxorcat.jl\")"
   ]
  },
  {
   "cell_type": "code",
   "execution_count": 9,
   "id": "9430e9cc-2bd0-4a3b-9563-0ae164f3f1aa",
   "metadata": {},
   "outputs": [
    {
     "data": {
      "image/svg+xml": [
       "<?xml version=\"1.0\" encoding=\"UTF-8\"?>\n",
       "<svg xmlns=\"http://www.w3.org/2000/svg\" xmlns:xlink=\"http://www.w3.org/1999/xlink\" width=\"100pt\" height=\"120pt\" viewBox=\"0 0 100 120\" version=\"1.1\">\n",
       "<defs>\n",
       "<g>\n",
       "<symbol overflow=\"visible\" id=\"glyph0-0\">\n",
       "<path style=\"stroke:none;\" d=\"M 0.59375 0 L 5.40625 0 L 5.40625 -6.4375 L 0.59375 -6.4375 Z M 1.203125 -0.59375 L 1.203125 -5.84375 L 4.796875 -5.84375 L 4.796875 -0.59375 Z M 1.203125 -0.59375 \"/>\n",
       "</symbol>\n",
       "<symbol overflow=\"visible\" id=\"glyph0-1\">\n",
       "<path style=\"stroke:none;\" d=\"M 5.796875 -1.0625 L 5.796875 -1.734375 L 5.5 -1.734375 L 5.5 -1.0625 C 5.5 -0.375 5.203125 -0.296875 5.0625 -0.296875 C 4.671875 -0.296875 4.625 -0.84375 4.625 -0.90625 L 4.625 -3.296875 C 4.625 -3.796875 4.625 -4.265625 4.1875 -4.71875 C 3.71875 -5.1875 3.125 -5.375 2.546875 -5.375 C 1.5625 -5.375 0.734375 -4.8125 0.734375 -4.015625 C 0.734375 -3.65625 0.96875 -3.453125 1.28125 -3.453125 C 1.625 -3.453125 1.84375 -3.703125 1.84375 -4.015625 C 1.84375 -4.15625 1.78125 -4.546875 1.21875 -4.5625 C 1.546875 -4.984375 2.140625 -5.109375 2.515625 -5.109375 C 3.109375 -5.109375 3.796875 -4.640625 3.796875 -3.578125 L 3.796875 -3.125 C 3.1875 -3.09375 2.34375 -3.0625 1.578125 -2.703125 C 0.6875 -2.296875 0.390625 -1.671875 0.390625 -1.140625 C 0.390625 -0.171875 1.546875 0.125 2.296875 0.125 C 3.09375 0.125 3.640625 -0.34375 3.875 -0.90625 C 3.921875 -0.4375 4.25 0.078125 4.8125 0.078125 C 5.0625 0.078125 5.796875 -0.09375 5.796875 -1.0625 Z M 3.796875 -1.6875 C 3.796875 -0.546875 2.921875 -0.125 2.390625 -0.125 C 1.796875 -0.125 1.3125 -0.546875 1.3125 -1.15625 C 1.3125 -1.8125 1.8125 -2.8125 3.796875 -2.875 Z M 3.796875 -1.6875 \"/>\n",
       "</symbol>\n",
       "<symbol overflow=\"visible\" id=\"glyph0-2\">\n",
       "<path style=\"stroke:none;\" d=\"M 2.96875 0 L 2.96875 -0.375 C 2.171875 -0.375 2.125 -0.4375 2.125 -0.90625 L 2.125 -5.296875 L 0.4375 -5.171875 L 0.4375 -4.796875 C 1.21875 -4.796875 1.328125 -4.734375 1.328125 -4.140625 L 1.328125 -0.90625 C 1.328125 -0.375 1.203125 -0.375 0.390625 -0.375 L 0.390625 0 L 1.71875 -0.03125 C 2.140625 -0.03125 2.5625 -0.015625 2.96875 0 Z M 2.296875 -7.25 C 2.296875 -7.578125 2.03125 -7.890625 1.671875 -7.890625 C 1.265625 -7.890625 1.015625 -7.546875 1.015625 -7.25 C 1.015625 -6.921875 1.296875 -6.609375 1.65625 -6.609375 C 2.0625 -6.609375 2.296875 -6.953125 2.296875 -7.25 Z M 2.296875 -7.25 \"/>\n",
       "</symbol>\n",
       "<symbol overflow=\"visible\" id=\"glyph0-3\">\n",
       "<path style=\"stroke:none;\" d=\"M 6.328125 0 L 6.328125 -0.375 C 5.484375 -0.375 5.390625 -0.453125 5.390625 -1.046875 L 5.390625 -8.328125 L 3.65625 -8.203125 L 3.65625 -7.828125 C 4.5 -7.828125 4.59375 -7.734375 4.59375 -7.15625 L 4.59375 -4.5625 C 4.25 -4.984375 3.734375 -5.296875 3.078125 -5.296875 C 1.671875 -5.296875 0.40625 -4.125 0.40625 -2.578125 C 0.40625 -1.0625 1.578125 0.125 2.953125 0.125 C 3.71875 0.125 4.265625 -0.28125 4.5625 -0.65625 L 4.5625 0.125 Z M 4.5625 -1.421875 C 4.5625 -1.203125 4.5625 -1.171875 4.421875 -0.96875 C 4.0625 -0.390625 3.53125 -0.125 3.015625 -0.125 C 2.46875 -0.125 2.046875 -0.4375 1.75 -0.90625 C 1.4375 -1.390625 1.40625 -2.078125 1.40625 -2.5625 C 1.40625 -3.015625 1.421875 -3.734375 1.78125 -4.265625 C 2.03125 -4.640625 2.484375 -5.046875 3.125 -5.046875 C 3.546875 -5.046875 4.0625 -4.859375 4.421875 -4.3125 C 4.5625 -4.109375 4.5625 -4.09375 4.5625 -3.875 Z M 4.5625 -1.421875 \"/>\n",
       "</symbol>\n",
       "</g>\n",
       "</defs>\n",
       "<g id=\"surface11\">\n",
       "<path style=\" stroke:none;fill-rule:nonzero;fill:rgb(0%,0%,0%);fill-opacity:1;\" d=\"M 55 80 C 55 86.667969 45 86.667969 45 80 C 45 73.332031 55 73.332031 55 80 \"/>\n",
       "<g style=\"fill:rgb(0%,0%,0%);fill-opacity:1;\">\n",
       "  <use xlink:href=\"#glyph0-1\" x=\"47.438\" y=\"95.304\"/>\n",
       "</g>\n",
       "<path style=\"fill:none;stroke-width:1;stroke-linecap:butt;stroke-linejoin:miter;stroke:rgb(0%,0%,0%);stroke-opacity:1;stroke-miterlimit:10;\" d=\"M 42 78 C 0 30 100 30 58 78 \"/>\n",
       "<path style=\"fill:none;stroke-width:1;stroke-linecap:round;stroke-linejoin:miter;stroke:rgb(0%,0%,0%);stroke-opacity:1;stroke-miterlimit:10;\" d=\"M 58.636719 70.976562 C 59.96875 73.207031 59.710938 76.042969 58 78 \"/>\n",
       "<path style=\"fill:none;stroke-width:1;stroke-linecap:round;stroke-linejoin:miter;stroke:rgb(0%,0%,0%);stroke-opacity:1;stroke-miterlimit:10;\" d=\"M 58 78 C 59.710938 76.042969 62.488281 75.414062 64.878906 76.4375 \"/>\n",
       "<g style=\"fill:rgb(0%,0%,0%);fill-opacity:1;\">\n",
       "  <use xlink:href=\"#glyph0-2\" x=\"45.446\" y=\"38\"/>\n",
       "</g>\n",
       "<g style=\"fill:rgb(0%,0%,0%);fill-opacity:1;\">\n",
       "  <use xlink:href=\"#glyph0-3\" x=\"49.13\" y=\"38\"/>\n",
       "</g>\n",
       "</g>\n",
       "</svg>\n"
      ],
      "text/plain": []
     },
     "execution_count": 9,
     "metadata": {},
     "output_type": "execute_result"
    }
   ],
   "source": [
    "d = Drawing(100,120,:svg)\n",
    "origin()\n",
    "translate(Point(0,20))\n",
    "circle(O, 5,:fill)\n",
    "fontsize(12)\n",
    "label(L\"a\",:S, offset=10)\n",
    "morphism(O)\n",
    "finish()\n",
    "d"
   ]
  },
  {
   "cell_type": "code",
   "execution_count": 16,
   "id": "724d94b7-0e02-495a-841b-c9a0b3eb3db6",
   "metadata": {},
   "outputs": [
    {
     "data": {
      "text/plain": [
       "savediagram (generic function with 2 methods)"
      ]
     },
     "execution_count": 16,
     "metadata": {},
     "output_type": "execute_result"
    }
   ],
   "source": [
    "function savediagram(d::Drawing, output::String, filetype=:pdf)\n",
    "    fname = tempname()\n",
    "    open(fname,\"w\") do f\n",
    "        write(f, String(copy(d.bufferdata)))\n",
    "    end\n",
    "    # Convert svg to pdf\n",
    "    figurepdf = output\n",
    "    rsvg_convert() do cmd\n",
    "       run(`$cmd $fname -f pdf -o $figurepdf`)\n",
    "    end\n",
    "end"
   ]
  },
  {
   "cell_type": "code",
   "execution_count": 17,
   "id": "738285b3-0caf-48fc-9001-143be5e4cd9b",
   "metadata": {},
   "outputs": [
    {
     "data": {
      "text/plain": [
       "Process(`\u001b[4m/home/davibarreira/.julia/artifacts/d417e9c97e1b4ad03978101e38a033d37dce4baa/bin/rsvg-convert\u001b[24m \u001b[4m/tmp/jl_3u2uNY\u001b[24m \u001b[4m-f\u001b[24m \u001b[4mpdf\u001b[24m \u001b[4m-o\u001b[24m \u001b[4m1.pdf\u001b[24m`, ProcessExited(0))"
      ]
     },
     "execution_count": 17,
     "metadata": {},
     "output_type": "execute_result"
    }
   ],
   "source": [
    "savediagram(d, \"1.pdf\")"
   ]
  },
  {
   "cell_type": "code",
   "execution_count": 10,
   "id": "2ba83f36-215a-4623-b500-66316619a5e2",
   "metadata": {},
   "outputs": [
    {
     "data": {
      "text/plain": [
       "4479"
      ]
     },
     "execution_count": 10,
     "metadata": {},
     "output_type": "execute_result"
    }
   ],
   "source": [
    "open(\"Hasse1.svg\",\"w\") do f\n",
    "    write(f, String(copy(d.bufferdata)))\n",
    "end\n",
    "# Convert svg to pdf\n",
    "figurepdf = targetdir*\"/figures/\"*figurename*\".pdf\"\n",
    "rsvg_convert() do cmd\n",
    "   run(`$cmd $figuresvg -f pdf -o $figurepdf`)\n",
    "end\n"
   ]
  },
  {
   "cell_type": "code",
   "execution_count": 14,
   "id": "afb4d23b-5a59-4249-ba84-231af120170a",
   "metadata": {},
   "outputs": [
    {
     "data": {
      "text/plain": [
       "Process(`\u001b[4m/home/davibarreira/.julia/artifacts/d417e9c97e1b4ad03978101e38a033d37dce4baa/bin/rsvg-convert\u001b[24m \u001b[4m/tmp/jl_lz9Vy0\u001b[24m \u001b[4m-f\u001b[24m \u001b[4mpdf\u001b[24m \u001b[4m-o\u001b[24m \u001b[4mHasse1.pdf\u001b[24m`, ProcessExited(0))"
      ]
     },
     "execution_count": 14,
     "metadata": {},
     "output_type": "execute_result"
    }
   ],
   "source": [
    "fname = tempname()\n",
    "open(fname,\"w\") do f\n",
    "    # Make sure we write 64bit integer in little-endian byte order\n",
    "    write(f, String(copy(d.bufferdata)))\n",
    "end\n",
    "# Convert svg to pdf\n",
    "figurepdf = \"Hasse1.pdf\"\n",
    "rsvg_convert() do cmd\n",
    "   run(`$cmd $fname -f pdf -o $figurepdf`)\n",
    "end"
   ]
  },
  {
   "cell_type": "code",
   "execution_count": null,
   "id": "42b08dd5-69d7-44d5-b2be-f91ebe142acf",
   "metadata": {},
   "outputs": [],
   "source": []
  }
 ],
 "metadata": {
  "kernelspec": {
   "display_name": "Julia DS 1.7.1",
   "language": "julia",
   "name": "julia-ds-1.7"
  },
  "language_info": {
   "file_extension": ".jl",
   "mimetype": "application/julia",
   "name": "julia",
   "version": "1.7.1"
  }
 },
 "nbformat": 4,
 "nbformat_minor": 5
}
