{
 "cells": [
  {
   "cell_type": "code",
   "execution_count": 8,
   "id": "3a65c236-d510-448f-bf64-caf88e1a5d35",
   "metadata": {},
   "outputs": [
    {
     "name": "stderr",
     "output_type": "stream",
     "text": [
      "\u001b[32m\u001b[1m  Activating\u001b[22m\u001b[39m project at `~/MEGA/EMAp/Mathematical-Short-Notes/Fields/Category-Theory/notebooks`\n"
     ]
    }
   ],
   "source": [
    "using Pkg\n",
    "Pkg.activate(\".\")\n",
    "using Luxor\n",
    "using MathTeXEngine\n",
    "using LaTeXStrings"
   ]
  },
  {
   "cell_type": "code",
   "execution_count": 220,
   "id": "6a924408-87a5-451a-a173-f5bdfe754c9a",
   "metadata": {},
   "outputs": [
    {
     "data": {
      "image/svg+xml": [
       "<?xml version=\"1.0\" encoding=\"UTF-8\"?>\n",
       "<svg xmlns=\"http://www.w3.org/2000/svg\" xmlns:xlink=\"http://www.w3.org/1999/xlink\" width=\"100pt\" height=\"100pt\" viewBox=\"0 0 100 100\" version=\"1.1\">\n",
       "<defs>\n",
       "<g>\n",
       "<symbol overflow=\"visible\" id=\"glyph0-0\">\n",
       "<path style=\"stroke:none;\" d=\"M 0.59375 0 L 5.40625 0 L 5.40625 -6.4375 L 0.59375 -6.4375 Z M 1.203125 -0.59375 L 1.203125 -5.84375 L 4.796875 -5.84375 L 4.796875 -0.59375 Z M 1.203125 -0.59375 \"/>\n",
       "</symbol>\n",
       "<symbol overflow=\"visible\" id=\"glyph0-1\">\n",
       "<path style=\"stroke:none;\" d=\"M 5.796875 -1.0625 L 5.796875 -1.734375 L 5.5 -1.734375 L 5.5 -1.0625 C 5.5 -0.375 5.203125 -0.296875 5.0625 -0.296875 C 4.671875 -0.296875 4.625 -0.84375 4.625 -0.90625 L 4.625 -3.296875 C 4.625 -3.796875 4.625 -4.265625 4.1875 -4.71875 C 3.71875 -5.1875 3.125 -5.375 2.546875 -5.375 C 1.5625 -5.375 0.734375 -4.8125 0.734375 -4.015625 C 0.734375 -3.65625 0.96875 -3.453125 1.28125 -3.453125 C 1.625 -3.453125 1.84375 -3.703125 1.84375 -4.015625 C 1.84375 -4.15625 1.78125 -4.546875 1.21875 -4.5625 C 1.546875 -4.984375 2.140625 -5.109375 2.515625 -5.109375 C 3.109375 -5.109375 3.796875 -4.640625 3.796875 -3.578125 L 3.796875 -3.125 C 3.1875 -3.09375 2.34375 -3.0625 1.578125 -2.703125 C 0.6875 -2.296875 0.390625 -1.671875 0.390625 -1.140625 C 0.390625 -0.171875 1.546875 0.125 2.296875 0.125 C 3.09375 0.125 3.640625 -0.34375 3.875 -0.90625 C 3.921875 -0.4375 4.25 0.078125 4.8125 0.078125 C 5.0625 0.078125 5.796875 -0.09375 5.796875 -1.0625 Z M 3.796875 -1.6875 C 3.796875 -0.546875 2.921875 -0.125 2.390625 -0.125 C 1.796875 -0.125 1.3125 -0.546875 1.3125 -1.15625 C 1.3125 -1.8125 1.8125 -2.8125 3.796875 -2.875 Z M 3.796875 -1.6875 \"/>\n",
       "</symbol>\n",
       "</g>\n",
       "</defs>\n",
       "<g id=\"surface937\">\n",
       "<path style=\" stroke:none;fill-rule:nonzero;fill:rgb(0%,0%,0%);fill-opacity:1;\" d=\"M 55 50 C 55 56.667969 45 56.667969 45 50 C 45 43.332031 55 43.332031 55 50 \"/>\n",
       "<g style=\"fill:rgb(0%,0%,0%);fill-opacity:1;\">\n",
       "  <use xlink:href=\"#glyph0-1\" x=\"47.438\" y=\"65.304\"/>\n",
       "</g>\n",
       "<path style=\"fill:none;stroke-width:1;stroke-linecap:butt;stroke-linejoin:miter;stroke:rgb(0%,0%,0%);stroke-opacity:1;stroke-miterlimit:10;\" d=\"M 42 48 C 0 0 100 0 58 48 \"/>\n",
       "<path style=\"fill:none;stroke-width:1;stroke-linecap:round;stroke-linejoin:miter;stroke:rgb(0%,0%,0%);stroke-opacity:1;stroke-miterlimit:10;\" d=\"M 59.0625 36.292969 C 61.28125 40.011719 60.851562 44.738281 58 48 \"/>\n",
       "<path style=\"fill:none;stroke-width:1;stroke-linecap:round;stroke-linejoin:miter;stroke:rgb(0%,0%,0%);stroke-opacity:1;stroke-miterlimit:10;\" d=\"M 58 48 C 60.851562 44.738281 65.480469 43.6875 69.464844 45.394531 \"/>\n",
       "</g>\n",
       "</svg>\n"
      ],
      "text/plain": []
     },
     "execution_count": 220,
     "metadata": {},
     "output_type": "execute_result"
    }
   ],
   "source": [
    "function quiverarrow(shaftendpoint, endpoint, shaftangle)\n",
    "    @layer begin\n",
    "        setlinecap(\"round\")\n",
    "        translate(endpoint)\n",
    "        rotate(shaftangle-π)\n",
    "        # setline(1)\n",
    "        \n",
    "        c1  = Point(0,-10)\n",
    "        p1 = c1 + 10Point(cos(π/10), sin(π/10))\n",
    "        p2 = O\n",
    "        \n",
    "        arc2r(c1,p1,p2,:stroke)\n",
    "\n",
    "        c2  = Point(0,10)\n",
    "        p3 = c2 + 10Point(cos(-π/10), sin(-π/10))\n",
    "        arc2r(c2,p2,p3,:stroke)\n",
    "    end\n",
    "end\n",
    "\n",
    "\n",
    "d = Drawing(100,100,:svg)\n",
    "origin()\n",
    "circle(O, 5,:fill)\n",
    "fontsize(12)\n",
    "label(L\"a\",:S, offset=10)\n",
    "arrow(Point(-8,-2),Point(-50,-50), Point(50,-50),Point(8,-2),linewidth=1,\n",
    "    arrowheadlength = 0,\n",
    "    arrowheadfunction = quiverarrow)\n",
    "finish()\n",
    "d"
   ]
  },
  {
   "cell_type": "code",
   "execution_count": null,
   "id": "9430e9cc-2bd0-4a3b-9563-0ae164f3f1aa",
   "metadata": {},
   "outputs": [],
   "source": []
  },
  {
   "cell_type": "code",
   "execution_count": null,
   "id": "eed010be-7cc2-435a-a61d-3a5d455c934e",
   "metadata": {},
   "outputs": [],
   "source": []
  },
  {
   "cell_type": "code",
   "execution_count": null,
   "id": "10dd4de3-363c-432f-a139-98f172006488",
   "metadata": {},
   "outputs": [],
   "source": []
  }
 ],
 "metadata": {
  "kernelspec": {
   "display_name": "Julia DS 1.7.1",
   "language": "julia",
   "name": "julia-ds-1.7"
  },
  "language_info": {
   "file_extension": ".jl",
   "mimetype": "application/julia",
   "name": "julia",
   "version": "1.7.1"
  }
 },
 "nbformat": 4,
 "nbformat_minor": 5
}
