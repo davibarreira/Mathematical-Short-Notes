{
 "cells": [
  {
   "cell_type": "markdown",
   "id": "2f546c36-1519-4d2e-a6db-84bb734333db",
   "metadata": {},
   "source": [
    "# Drawing Categories\n",
    "This notebooks contains the script for drawing the Hasse diagrams used in the notes.\n",
    "We use the Luxor.jl to do the drawing, together with some auxiliary functions I've implemented\n",
    "in `luxorcat.jl`."
   ]
  },
  {
   "cell_type": "code",
   "execution_count": 55,
   "id": "3a65c236-d510-448f-bf64-caf88e1a5d35",
   "metadata": {},
   "outputs": [
    {
     "name": "stderr",
     "output_type": "stream",
     "text": [
      "\u001b[32m\u001b[1m  Activating\u001b[22m\u001b[39m project at `~/MEGA/EMAp/Mathematical-Short-Notes/Fields/Category-Theory/notebooks`\n"
     ]
    }
   ],
   "source": [
    "using Pkg\n",
    "Pkg.activate(\".\")\n",
    "include(\"luxorcat.jl\")"
   ]
  },
  {
   "cell_type": "markdown",
   "id": "440310f5-46d9-4dc8-aba2-7dec49fdb00c",
   "metadata": {},
   "source": [
    "### $1$ Category"
   ]
  },
  {
   "cell_type": "code",
   "execution_count": 56,
   "id": "9430e9cc-2bd0-4a3b-9563-0ae164f3f1aa",
   "metadata": {},
   "outputs": [
    {
     "data": {
      "image/svg+xml": [
       "<?xml version=\"1.0\" encoding=\"UTF-8\"?>\n",
       "<svg xmlns=\"http://www.w3.org/2000/svg\" xmlns:xlink=\"http://www.w3.org/1999/xlink\" width=\"100pt\" height=\"120pt\" viewBox=\"0 0 100 120\" version=\"1.1\">\n",
       "<defs>\n",
       "<g>\n",
       "<symbol overflow=\"visible\" id=\"glyph0-0\">\n",
       "<path style=\"stroke:none;\" d=\"M 0.59375 0 L 5.40625 0 L 5.40625 -6.4375 L 0.59375 -6.4375 Z M 1.203125 -0.59375 L 1.203125 -5.84375 L 4.796875 -5.84375 L 4.796875 -0.59375 Z M 1.203125 -0.59375 \"/>\n",
       "</symbol>\n",
       "<symbol overflow=\"visible\" id=\"glyph0-1\">\n",
       "<path style=\"stroke:none;\" d=\"M 5.796875 -1.0625 L 5.796875 -1.734375 L 5.5 -1.734375 L 5.5 -1.0625 C 5.5 -0.375 5.203125 -0.296875 5.0625 -0.296875 C 4.671875 -0.296875 4.625 -0.84375 4.625 -0.90625 L 4.625 -3.296875 C 4.625 -3.796875 4.625 -4.265625 4.1875 -4.71875 C 3.71875 -5.1875 3.125 -5.375 2.546875 -5.375 C 1.5625 -5.375 0.734375 -4.8125 0.734375 -4.015625 C 0.734375 -3.65625 0.96875 -3.453125 1.28125 -3.453125 C 1.625 -3.453125 1.84375 -3.703125 1.84375 -4.015625 C 1.84375 -4.15625 1.78125 -4.546875 1.21875 -4.5625 C 1.546875 -4.984375 2.140625 -5.109375 2.515625 -5.109375 C 3.109375 -5.109375 3.796875 -4.640625 3.796875 -3.578125 L 3.796875 -3.125 C 3.1875 -3.09375 2.34375 -3.0625 1.578125 -2.703125 C 0.6875 -2.296875 0.390625 -1.671875 0.390625 -1.140625 C 0.390625 -0.171875 1.546875 0.125 2.296875 0.125 C 3.09375 0.125 3.640625 -0.34375 3.875 -0.90625 C 3.921875 -0.4375 4.25 0.078125 4.8125 0.078125 C 5.0625 0.078125 5.796875 -0.09375 5.796875 -1.0625 Z M 3.796875 -1.6875 C 3.796875 -0.546875 2.921875 -0.125 2.390625 -0.125 C 1.796875 -0.125 1.3125 -0.546875 1.3125 -1.15625 C 1.3125 -1.8125 1.8125 -2.8125 3.796875 -2.875 Z M 3.796875 -1.6875 \"/>\n",
       "</symbol>\n",
       "<symbol overflow=\"visible\" id=\"glyph0-2\">\n",
       "<path style=\"stroke:none;\" d=\"M 2.96875 0 L 2.96875 -0.375 C 2.171875 -0.375 2.125 -0.4375 2.125 -0.90625 L 2.125 -5.296875 L 0.4375 -5.171875 L 0.4375 -4.796875 C 1.21875 -4.796875 1.328125 -4.734375 1.328125 -4.140625 L 1.328125 -0.90625 C 1.328125 -0.375 1.203125 -0.375 0.390625 -0.375 L 0.390625 0 L 1.71875 -0.03125 C 2.140625 -0.03125 2.5625 -0.015625 2.96875 0 Z M 2.296875 -7.25 C 2.296875 -7.578125 2.03125 -7.890625 1.671875 -7.890625 C 1.265625 -7.890625 1.015625 -7.546875 1.015625 -7.25 C 1.015625 -6.921875 1.296875 -6.609375 1.65625 -6.609375 C 2.0625 -6.609375 2.296875 -6.953125 2.296875 -7.25 Z M 2.296875 -7.25 \"/>\n",
       "</symbol>\n",
       "<symbol overflow=\"visible\" id=\"glyph0-3\">\n",
       "<path style=\"stroke:none;\" d=\"M 6.328125 0 L 6.328125 -0.375 C 5.484375 -0.375 5.390625 -0.453125 5.390625 -1.046875 L 5.390625 -8.328125 L 3.65625 -8.203125 L 3.65625 -7.828125 C 4.5 -7.828125 4.59375 -7.734375 4.59375 -7.15625 L 4.59375 -4.5625 C 4.25 -4.984375 3.734375 -5.296875 3.078125 -5.296875 C 1.671875 -5.296875 0.40625 -4.125 0.40625 -2.578125 C 0.40625 -1.0625 1.578125 0.125 2.953125 0.125 C 3.71875 0.125 4.265625 -0.28125 4.5625 -0.65625 L 4.5625 0.125 Z M 4.5625 -1.421875 C 4.5625 -1.203125 4.5625 -1.171875 4.421875 -0.96875 C 4.0625 -0.390625 3.53125 -0.125 3.015625 -0.125 C 2.46875 -0.125 2.046875 -0.4375 1.75 -0.90625 C 1.4375 -1.390625 1.40625 -2.078125 1.40625 -2.5625 C 1.40625 -3.015625 1.421875 -3.734375 1.78125 -4.265625 C 2.03125 -4.640625 2.484375 -5.046875 3.125 -5.046875 C 3.546875 -5.046875 4.0625 -4.859375 4.421875 -4.3125 C 4.5625 -4.109375 4.5625 -4.09375 4.5625 -3.875 Z M 4.5625 -1.421875 \"/>\n",
       "</symbol>\n",
       "</g>\n",
       "</defs>\n",
       "<g id=\"surface166\">\n",
       "<path style=\" stroke:none;fill-rule:nonzero;fill:rgb(0%,0%,0%);fill-opacity:1;\" d=\"M 55 80 C 55 86.667969 45 86.667969 45 80 C 45 73.332031 55 73.332031 55 80 \"/>\n",
       "<g style=\"fill:rgb(0%,0%,0%);fill-opacity:1;\">\n",
       "  <use xlink:href=\"#glyph0-1\" x=\"47.438\" y=\"95.304\"/>\n",
       "</g>\n",
       "<path style=\"fill:none;stroke-width:1;stroke-linecap:butt;stroke-linejoin:miter;stroke:rgb(0%,0%,0%);stroke-opacity:1;stroke-miterlimit:10;\" d=\"M 44 78 C 20 40 80 40 56 78 \"/>\n",
       "<path style=\"fill:none;stroke-width:1;stroke-linecap:round;stroke-linejoin:miter;stroke:rgb(0%,0%,0%);stroke-opacity:1;stroke-miterlimit:10;\" d=\"M 55.542969 70.960938 C 57.203125 72.960938 57.386719 75.800781 56 78 \"/>\n",
       "<path style=\"fill:none;stroke-width:1;stroke-linecap:round;stroke-linejoin:miter;stroke:rgb(0%,0%,0%);stroke-opacity:1;stroke-miterlimit:10;\" d=\"M 56 78 C 57.386719 75.800781 60.035156 74.75 62.550781 75.390625 \"/>\n",
       "<g style=\"fill:rgb(0%,0%,0%);fill-opacity:1;\">\n",
       "  <use xlink:href=\"#glyph0-2\" x=\"45.446\" y=\"46\"/>\n",
       "</g>\n",
       "<g style=\"fill:rgb(0%,0%,0%);fill-opacity:1;\">\n",
       "  <use xlink:href=\"#glyph0-3\" x=\"49.13\" y=\"46\"/>\n",
       "</g>\n",
       "</g>\n",
       "</svg>\n"
      ],
      "text/plain": []
     },
     "execution_count": 56,
     "metadata": {},
     "output_type": "execute_result"
    }
   ],
   "source": [
    "d = Drawing(100,120,:svg)\n",
    "origin()\n",
    "translate(Point(0,20))\n",
    "circle(O, 5,:fill)\n",
    "fontsize(12)\n",
    "label(L\"a\",:S, offset=10)\n",
    "morphism(O)\n",
    "finish()\n",
    "d"
   ]
  },
  {
   "cell_type": "code",
   "execution_count": 57,
   "id": "738285b3-0caf-48fc-9001-143be5e4cd9b",
   "metadata": {},
   "outputs": [],
   "source": [
    "savediagram(d, \"1Cat.pdf\");"
   ]
  },
  {
   "cell_type": "markdown",
   "id": "5393552e-8a5a-4ef3-82bf-d1d6a8aa2f5d",
   "metadata": {},
   "source": [
    "### $2$ Category"
   ]
  },
  {
   "cell_type": "code",
   "execution_count": 58,
   "id": "11477cc9-8ea9-455d-92be-784ca5faec57",
   "metadata": {},
   "outputs": [
    {
     "data": {
      "image/svg+xml": [
       "<?xml version=\"1.0\" encoding=\"UTF-8\"?>\n",
       "<svg xmlns=\"http://www.w3.org/2000/svg\" xmlns:xlink=\"http://www.w3.org/1999/xlink\" width=\"300pt\" height=\"120pt\" viewBox=\"0 0 300 120\" version=\"1.1\">\n",
       "<defs>\n",
       "<g>\n",
       "<symbol overflow=\"visible\" id=\"glyph0-0\">\n",
       "<path style=\"stroke:none;\" d=\"M 0.59375 0 L 5.40625 0 L 5.40625 -6.4375 L 0.59375 -6.4375 Z M 1.203125 -0.59375 L 1.203125 -5.84375 L 4.796875 -5.84375 L 4.796875 -0.59375 Z M 1.203125 -0.59375 \"/>\n",
       "</symbol>\n",
       "<symbol overflow=\"visible\" id=\"glyph0-1\">\n",
       "<path style=\"stroke:none;\" d=\"M 2.96875 0 L 2.96875 -0.375 C 2.171875 -0.375 2.125 -0.4375 2.125 -0.90625 L 2.125 -5.296875 L 0.4375 -5.171875 L 0.4375 -4.796875 C 1.21875 -4.796875 1.328125 -4.734375 1.328125 -4.140625 L 1.328125 -0.90625 C 1.328125 -0.375 1.203125 -0.375 0.390625 -0.375 L 0.390625 0 L 1.71875 -0.03125 C 2.140625 -0.03125 2.5625 -0.015625 2.96875 0 Z M 2.296875 -7.25 C 2.296875 -7.578125 2.03125 -7.890625 1.671875 -7.890625 C 1.265625 -7.890625 1.015625 -7.546875 1.015625 -7.25 C 1.015625 -6.921875 1.296875 -6.609375 1.65625 -6.609375 C 2.0625 -6.609375 2.296875 -6.953125 2.296875 -7.25 Z M 2.296875 -7.25 \"/>\n",
       "</symbol>\n",
       "<symbol overflow=\"visible\" id=\"glyph0-2\">\n",
       "<path style=\"stroke:none;\" d=\"M 6.328125 0 L 6.328125 -0.375 C 5.484375 -0.375 5.390625 -0.453125 5.390625 -1.046875 L 5.390625 -8.328125 L 3.65625 -8.203125 L 3.65625 -7.828125 C 4.5 -7.828125 4.59375 -7.734375 4.59375 -7.15625 L 4.59375 -4.5625 C 4.25 -4.984375 3.734375 -5.296875 3.078125 -5.296875 C 1.671875 -5.296875 0.40625 -4.125 0.40625 -2.578125 C 0.40625 -1.0625 1.578125 0.125 2.953125 0.125 C 3.71875 0.125 4.265625 -0.28125 4.5625 -0.65625 L 4.5625 0.125 Z M 4.5625 -1.421875 C 4.5625 -1.203125 4.5625 -1.171875 4.421875 -0.96875 C 4.0625 -0.390625 3.53125 -0.125 3.015625 -0.125 C 2.46875 -0.125 2.046875 -0.4375 1.75 -0.90625 C 1.4375 -1.390625 1.40625 -2.078125 1.40625 -2.5625 C 1.40625 -3.015625 1.421875 -3.734375 1.78125 -4.265625 C 2.03125 -4.640625 2.484375 -5.046875 3.125 -5.046875 C 3.546875 -5.046875 4.0625 -4.859375 4.421875 -4.3125 C 4.5625 -4.109375 4.5625 -4.09375 4.5625 -3.875 Z M 4.5625 -1.421875 \"/>\n",
       "</symbol>\n",
       "<symbol overflow=\"visible\" id=\"glyph0-3\">\n",
       "<path style=\"stroke:none;\" d=\"M 5.796875 -1.0625 L 5.796875 -1.734375 L 5.5 -1.734375 L 5.5 -1.0625 C 5.5 -0.375 5.203125 -0.296875 5.0625 -0.296875 C 4.671875 -0.296875 4.625 -0.84375 4.625 -0.90625 L 4.625 -3.296875 C 4.625 -3.796875 4.625 -4.265625 4.1875 -4.71875 C 3.71875 -5.1875 3.125 -5.375 2.546875 -5.375 C 1.5625 -5.375 0.734375 -4.8125 0.734375 -4.015625 C 0.734375 -3.65625 0.96875 -3.453125 1.28125 -3.453125 C 1.625 -3.453125 1.84375 -3.703125 1.84375 -4.015625 C 1.84375 -4.15625 1.78125 -4.546875 1.21875 -4.5625 C 1.546875 -4.984375 2.140625 -5.109375 2.515625 -5.109375 C 3.109375 -5.109375 3.796875 -4.640625 3.796875 -3.578125 L 3.796875 -3.125 C 3.1875 -3.09375 2.34375 -3.0625 1.578125 -2.703125 C 0.6875 -2.296875 0.390625 -1.671875 0.390625 -1.140625 C 0.390625 -0.171875 1.546875 0.125 2.296875 0.125 C 3.09375 0.125 3.640625 -0.34375 3.875 -0.90625 C 3.921875 -0.4375 4.25 0.078125 4.8125 0.078125 C 5.0625 0.078125 5.796875 -0.09375 5.796875 -1.0625 Z M 3.796875 -1.6875 C 3.796875 -0.546875 2.921875 -0.125 2.390625 -0.125 C 1.796875 -0.125 1.3125 -0.546875 1.3125 -1.15625 C 1.3125 -1.8125 1.8125 -2.8125 3.796875 -2.875 Z M 3.796875 -1.6875 \"/>\n",
       "</symbol>\n",
       "<symbol overflow=\"visible\" id=\"glyph0-4\">\n",
       "<path style=\"stroke:none;\" d=\"M 6.25 -2.59375 C 6.25 -4.109375 5.078125 -5.296875 3.703125 -5.296875 C 2.765625 -5.296875 2.25 -4.734375 2.0625 -4.53125 L 2.0625 -8.328125 L 0.34375 -8.203125 L 0.34375 -7.828125 C 1.171875 -7.828125 1.265625 -7.734375 1.265625 -7.15625 L 1.265625 0 L 1.578125 0 L 2 -0.75 C 2.1875 -0.46875 2.6875 0.125 3.578125 0.125 C 5 0.125 6.25 -1.046875 6.25 -2.59375 Z M 5.25 -2.609375 C 5.25 -2.15625 5.234375 -1.4375 4.890625 -0.90625 C 4.625 -0.53125 4.171875 -0.125 3.53125 -0.125 C 2.984375 -0.125 2.5625 -0.421875 2.265625 -0.859375 C 2.09375 -1.109375 2.09375 -1.15625 2.09375 -1.375 L 2.09375 -3.84375 C 2.09375 -4.0625 2.09375 -4.078125 2.234375 -4.265625 C 2.703125 -4.9375 3.359375 -5.046875 3.640625 -5.046875 C 4.1875 -5.046875 4.625 -4.734375 4.90625 -4.265625 C 5.21875 -3.78125 5.25 -3.09375 5.25 -2.609375 Z M 5.25 -2.609375 \"/>\n",
       "</symbol>\n",
       "<symbol overflow=\"visible\" id=\"glyph0-5\">\n",
       "<path style=\"stroke:none;\" d=\"M 4.28125 -7.625 C 4.28125 -8.0625 3.84375 -8.453125 3.203125 -8.453125 C 2.359375 -8.453125 1.34375 -7.828125 1.34375 -6.546875 L 1.34375 -5.171875 L 0.390625 -5.171875 L 0.390625 -4.796875 L 1.34375 -4.796875 L 1.34375 -0.90625 C 1.34375 -0.375 1.21875 -0.375 0.40625 -0.375 L 0.40625 0 L 1.78125 -0.03125 C 2.25 -0.03125 2.8125 -0.03125 3.296875 0 L 3.296875 -0.375 L 3.046875 -0.375 C 2.15625 -0.375 2.140625 -0.5 2.140625 -0.9375 L 2.140625 -4.796875 L 3.5 -4.796875 L 3.5 -5.171875 L 2.09375 -5.171875 L 2.09375 -6.5625 C 2.09375 -7.625 2.671875 -8.203125 3.203125 -8.203125 C 3.234375 -8.203125 3.421875 -8.203125 3.59375 -8.109375 C 3.453125 -8.0625 3.234375 -7.90625 3.234375 -7.609375 C 3.234375 -7.328125 3.4375 -7.09375 3.75 -7.09375 C 4.109375 -7.09375 4.28125 -7.328125 4.28125 -7.625 Z M 4.28125 -7.625 \"/>\n",
       "</symbol>\n",
       "</g>\n",
       "</defs>\n",
       "<g id=\"surface171\">\n",
       "<path style=\" stroke:none;fill-rule:nonzero;fill:rgb(0%,0%,0%);fill-opacity:1;\" d=\"M 105 80 C 105 86.667969 95 86.667969 95 80 C 95 73.332031 105 73.332031 105 80 \"/>\n",
       "<path style=\"fill:none;stroke-width:1;stroke-linecap:butt;stroke-linejoin:miter;stroke:rgb(0%,0%,0%);stroke-opacity:1;stroke-miterlimit:10;\" d=\"M 94 78 C 70 40 130 40 106 78 \"/>\n",
       "<path style=\"fill:none;stroke-width:1;stroke-linecap:round;stroke-linejoin:miter;stroke:rgb(0%,0%,0%);stroke-opacity:1;stroke-miterlimit:10;\" d=\"M 105.542969 70.960938 C 107.203125 72.960938 107.386719 75.800781 106 78 \"/>\n",
       "<path style=\"fill:none;stroke-width:1;stroke-linecap:round;stroke-linejoin:miter;stroke:rgb(0%,0%,0%);stroke-opacity:1;stroke-miterlimit:10;\" d=\"M 106 78 C 107.386719 75.800781 110.035156 74.75 112.550781 75.390625 \"/>\n",
       "<g style=\"fill:rgb(0%,0%,0%);fill-opacity:1;\">\n",
       "  <use xlink:href=\"#glyph0-1\" x=\"95.446\" y=\"46\"/>\n",
       "</g>\n",
       "<g style=\"fill:rgb(0%,0%,0%);fill-opacity:1;\">\n",
       "  <use xlink:href=\"#glyph0-2\" x=\"99.13\" y=\"46\"/>\n",
       "</g>\n",
       "<g style=\"fill:rgb(0%,0%,0%);fill-opacity:1;\">\n",
       "  <use xlink:href=\"#glyph0-3\" x=\"97.438\" y=\"95.304\"/>\n",
       "</g>\n",
       "<path style=\" stroke:none;fill-rule:nonzero;fill:rgb(0%,0%,0%);fill-opacity:1;\" d=\"M 205 80 C 205 86.667969 195 86.667969 195 80 C 195 73.332031 205 73.332031 205 80 \"/>\n",
       "<g style=\"fill:rgb(0%,0%,0%);fill-opacity:1;\">\n",
       "  <use xlink:href=\"#glyph0-4\" x=\"197.936\" y=\"98.328\"/>\n",
       "</g>\n",
       "<path style=\"fill:none;stroke-width:1;stroke-linecap:butt;stroke-linejoin:miter;stroke:rgb(0%,0%,0%);stroke-opacity:1;stroke-miterlimit:10;\" d=\"M 194 78 C 170 40 230 40 206 78 \"/>\n",
       "<path style=\"fill:none;stroke-width:1;stroke-linecap:round;stroke-linejoin:miter;stroke:rgb(0%,0%,0%);stroke-opacity:1;stroke-miterlimit:10;\" d=\"M 205.542969 70.960938 C 207.203125 72.960938 207.386719 75.800781 206 78 \"/>\n",
       "<path style=\"fill:none;stroke-width:1;stroke-linecap:round;stroke-linejoin:miter;stroke:rgb(0%,0%,0%);stroke-opacity:1;stroke-miterlimit:10;\" d=\"M 206 78 C 207.386719 75.800781 210.035156 74.75 212.550781 75.390625 \"/>\n",
       "<g style=\"fill:rgb(0%,0%,0%);fill-opacity:1;\">\n",
       "  <use xlink:href=\"#glyph0-1\" x=\"195.446\" y=\"46\"/>\n",
       "</g>\n",
       "<g style=\"fill:rgb(0%,0%,0%);fill-opacity:1;\">\n",
       "  <use xlink:href=\"#glyph0-2\" x=\"199.13\" y=\"46\"/>\n",
       "</g>\n",
       "<path style=\"fill:none;stroke-width:1;stroke-linecap:butt;stroke-linejoin:miter;stroke:rgb(0%,0%,0%);stroke-opacity:1;stroke-miterlimit:10;\" d=\"M 108 80 L 192 80 \"/>\n",
       "<path style=\"fill:none;stroke-width:1;stroke-linecap:round;stroke-linejoin:miter;stroke:rgb(0%,0%,0%);stroke-opacity:1;stroke-miterlimit:10;\" d=\"M 186.292969 84.144531 C 187.097656 81.671875 189.402344 80 192 80 \"/>\n",
       "<path style=\"fill:none;stroke-width:1;stroke-linecap:round;stroke-linejoin:miter;stroke:rgb(0%,0%,0%);stroke-opacity:1;stroke-miterlimit:10;\" d=\"M 192 80 C 189.402344 80 187.097656 78.328125 186.292969 75.855469 \"/>\n",
       "<g style=\"fill:rgb(0%,0%,0%);fill-opacity:1;\">\n",
       "  <use xlink:href=\"#glyph0-5\" x=\"147.138\" y=\"75\"/>\n",
       "</g>\n",
       "</g>\n",
       "</svg>\n"
      ],
      "text/plain": []
     },
     "execution_count": 58,
     "metadata": {},
     "output_type": "execute_result"
    }
   ],
   "source": [
    "d = Drawing(300,120,:svg)\n",
    "origin()\n",
    "translate(Point(0,20))\n",
    "fontsize(12)\n",
    "\n",
    "a = Point(-50,0)\n",
    "circle(a, 5,:fill)\n",
    "\n",
    "morphism(a)\n",
    "label(L\"a\",:S, a, offset=10)\n",
    "\n",
    "b = Point(50,0)\n",
    "circle(b, 5,:fill)\n",
    "label(L\"b\",:S,b, offset=10)\n",
    "morphism(b)\n",
    "\n",
    "morphism(a,b)\n",
    "finish()\n",
    "d"
   ]
  },
  {
   "cell_type": "code",
   "execution_count": null,
   "id": "672120c8-46d4-4587-be6c-9a7f003bcceb",
   "metadata": {},
   "outputs": [],
   "source": []
  }
 ],
 "metadata": {
  "kernelspec": {
   "display_name": "Julia DS 1.7.1",
   "language": "julia",
   "name": "julia-ds-1.7"
  },
  "language_info": {
   "file_extension": ".jl",
   "mimetype": "application/julia",
   "name": "julia",
   "version": "1.7.1"
  }
 },
 "nbformat": 4,
 "nbformat_minor": 5
}
