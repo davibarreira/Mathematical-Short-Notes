{
 "cells": [
  {
   "cell_type": "markdown",
   "id": "2f546c36-1519-4d2e-a6db-84bb734333db",
   "metadata": {
    "slideshow": {
     "slide_type": "slide"
    },
    "tags": []
   },
   "source": [
    "# Drawing Categories\n",
    "This notebooks contains the script for drawing the Hasse diagrams used in the notes.\n",
    "We use the Luxor.jl to do the drawing, together with some auxiliary functions I've implemented\n",
    "in `luxorcat.jl`."
   ]
  },
  {
   "cell_type": "code",
   "execution_count": 2,
   "id": "3a65c236-d510-448f-bf64-caf88e1a5d35",
   "metadata": {
    "slideshow": {
     "slide_type": "slide"
    },
    "tags": []
   },
   "outputs": [
    {
     "name": "stderr",
     "output_type": "stream",
     "text": [
      "\u001b[32m\u001b[1m  Activating\u001b[22m\u001b[39m project at `~/Documents/GitHub/Mathematical-Short-Notes/Fields/Category-Theory/notebooks`\n"
     ]
    }
   ],
   "source": [
    "using Pkg\n",
    "Pkg.activate(\".\")"
   ]
  },
  {
   "cell_type": "code",
   "execution_count": 3,
   "id": "c303f1e4-4c93-433b-aeaf-bc2ca7cc78fc",
   "metadata": {
    "slideshow": {
     "slide_type": "slide"
    },
    "tags": []
   },
   "outputs": [],
   "source": [
    "include(\"luxorcat.jl\")"
   ]
  },
  {
   "cell_type": "code",
   "execution_count": 4,
   "id": "8b0332bd-a1b2-4f2b-8cf7-eab7a4858750",
   "metadata": {},
   "outputs": [],
   "source": [
    "using Parameters"
   ]
  },
  {
   "cell_type": "code",
   "execution_count": 5,
   "id": "986c7e04-db3f-4942-961c-70c2f779f5c3",
   "metadata": {},
   "outputs": [
    {
     "data": {
      "text/plain": [
       "Ob"
      ]
     },
     "execution_count": 5,
     "metadata": {},
     "output_type": "execute_result"
    }
   ],
   "source": [
    "@with_kw struct Ob\n",
    "    label::AbstractString = \"\"\n",
    "    pt::Point\n",
    "end"
   ]
  },
  {
   "cell_type": "code",
   "execution_count": 6,
   "id": "5075da02-0d85-4ff6-8d86-e00faae469b3",
   "metadata": {},
   "outputs": [
    {
     "data": {
      "text/plain": [
       "drawobj (generic function with 5 methods)"
      ]
     },
     "execution_count": 6,
     "metadata": {},
     "output_type": "execute_result"
    }
   ],
   "source": [
    "function Diagram(;nrows=1, ncols=1,sizerow=40, sizecol=80)\n",
    "    return Drawing(ncols*sizecol, nrows*sizerow,:svg), Table(nrows,ncols,sizecol,sizerow)\n",
    "end\n",
    "\n",
    "function drawobj(pt::Point=O, obj=\"\", labelpos=:S, labeloffset=10; objsize=5)\n",
    "    circle(pt, objsize,:fill)\n",
    "    label(obj,labelpos,pt, offset=labeloffset)\n",
    "end"
   ]
  },
  {
   "cell_type": "markdown",
   "id": "a50e3e67-34c5-450c-af1d-412710e01a9e",
   "metadata": {},
   "source": [
    "### Graph Category"
   ]
  },
  {
   "cell_type": "code",
   "execution_count": 7,
   "id": "a5af5d70-3c77-4e25-b0d9-7f392cce9547",
   "metadata": {},
   "outputs": [
    {
     "ename": "LoadError",
     "evalue": "type Drawing has no field bufferdata",
     "output_type": "error",
     "traceback": [
      "type Drawing has no field bufferdata",
      "",
      "Stacktrace:",
      " [1] getproperty",
      "   @ ./Base.jl:37 [inlined]",
      " [2] (::var\"#3#5\"{Drawing})(f::IOStream)",
      "   @ Main ~/Documents/GitHub/Mathematical-Short-Notes/Fields/Category-Theory/notebooks/luxorcat.jl:165",
      " [3] open(::var\"#3#5\"{Drawing}, ::String, ::Vararg{String}; kwargs::@Kwargs{})",
      "   @ Base ./io.jl:396",
      " [4] open(::Function, ::String, ::String)",
      "   @ Base ./io.jl:393",
      " [5] savediagram(d::Drawing, output::String)",
      "   @ Main ~/Documents/GitHub/Mathematical-Short-Notes/Fields/Category-Theory/notebooks/luxorcat.jl:164",
      " [6] top-level scope",
      "   @ In[7]:15"
     ]
    }
   ],
   "source": [
    "d,p = Diagram(;nrows=1, ncols=2, sizerow=60, sizecol=80)\n",
    "origin()\n",
    "drawobj(p[1,1],L\"V\",:N)\n",
    "drawobj(p[1,2],L\"A\",:N)\n",
    "@layer begin\n",
    "    translate(0,-6)\n",
    "    morphism(p[1,2],p[1,1],\"\", curve=8)\n",
    "end\n",
    "@layer begin\n",
    "    translate(0,6)\n",
    "    morphism(p[1,2],p[1,1],\"\",curve=-8)\n",
    "end\n",
    "text(L\"src\",Point(0,-17),halign=:center)\n",
    "text(L\"tgt\",Point(0,24),halign=:center)\n",
    "finish()\n",
    "savediagram(d, \"Graph.pdf\");\n",
    "d"
   ]
  },
  {
   "cell_type": "markdown",
   "id": "c94ad676-cb38-4f27-be74-be3359a0c093",
   "metadata": {
    "tags": []
   },
   "source": [
    "### Graph Generating"
   ]
  },
  {
   "cell_type": "code",
   "execution_count": null,
   "id": "e270b3e5-260c-4195-b962-75b86ca6c2e1",
   "metadata": {},
   "outputs": [],
   "source": [
    "d,p = Diagram(;nrows=2, ncols=2, sizerow=60, sizecol=80)\n",
    "origin()\n",
    "# background(\"antiquewhite\")\n",
    "drawobj(p[1,1],L\"A\",:N)\n",
    "drawobj(p[1,2],L\"B\",:N)\n",
    "drawobj(p[2,1],L\"C\",:S)\n",
    "drawobj(p[2,2],L\"D\",:S)\n",
    "morphism(p[1,1],p[2,1],L\"g\",pos=:W)\n",
    "morphism(p[1,1],p[1,2],L\"f\",pos=:N)\n",
    "morphism(p[2,1],p[2,2],L\"h\",pos=:S)\n",
    "morphism(p[1,2],p[2,2],L\"i\",pos=:E)\n",
    "finish()\n",
    "d"
   ]
  },
  {
   "cell_type": "code",
   "execution_count": null,
   "id": "33a02157-dcdc-4cea-b454-fa74adb630e7",
   "metadata": {},
   "outputs": [],
   "source": [
    "include(\"luxorcat.jl\")\n",
    "f,p = Diagram(;nrows=2, ncols=2, sizerow=60, sizecol=80)\n",
    "origin()\n",
    "# background(\"antiquewhite\")\n",
    "drawobj(p[1,1],L\"A\",:N)\n",
    "drawobj(p[1,2],L\"B\",:N)\n",
    "drawobj(p[2,1],L\"C\",:S)\n",
    "drawobj(p[2,2],L\"D\",:S)\n",
    "morphism(p[1,1],p[2,1],L\"g\",pos=:W)\n",
    "morphism(p[1,1],p[1,2],L\"f\",pos=:N)\n",
    "morphism(p[2,1],p[2,2],L\"h\",pos=:S)\n",
    "morphism(p[1,2],p[2,2],L\"i\",pos=:E)\n",
    "@layer begin\n",
    "    translate(-3,2)\n",
    "    morphism(p[1,1],p[2,2],\"\",offset=15)\n",
    "    # text(Point(0,-10) + (p[1,1]+p[2,2])/2,\n",
    "    text(L\"f ⨟ i\", Point(10,-10) + (p[1,1]+p[2,2])/2, halign=:center, valign=:baseline)\n",
    "end\n",
    "@layer begin\n",
    "    translate(0,-2)\n",
    "    morphism(p[1,1],p[2,2],\"\",offset=15)\n",
    "    text(L\"g ⨟ h\", Point(-10,20) + (p[1,1]+p[2,2])/2, halign=:center, valign=:baseline)\n",
    "end\n",
    "finish()\n",
    "f"
   ]
  },
  {
   "cell_type": "code",
   "execution_count": null,
   "id": "c106f1eb-3e88-4430-bf0d-0cb30a175c29",
   "metadata": {},
   "outputs": [],
   "source": [
    "# savediagram(d, \"SquareGraph.pdf\");\n",
    "\n",
    "D,p = Diagram(;nrows=1, ncols=3, sizerow=140, sizecol=140)\n",
    "origin()\n",
    "placeimage(d, p[1,1], centered=true)\n",
    "finish()\n",
    "D"
   ]
  },
  {
   "cell_type": "markdown",
   "id": "440310f5-46d9-4dc8-aba2-7dec49fdb00c",
   "metadata": {},
   "source": [
    "### $1$ Category"
   ]
  },
  {
   "cell_type": "code",
   "execution_count": null,
   "id": "9430e9cc-2bd0-4a3b-9563-0ae164f3f1aa",
   "metadata": {},
   "outputs": [],
   "source": [
    "d,p = Diagram(;nrows=2, sizerow=40, sizecol=80)\n",
    "origin()\n",
    "# background(\"antiquewhite\")\n",
    "drawobj(p[2,1],L\"A\")\n",
    "morphism(p[2,1], L\"id_A\")\n",
    "finish()\n",
    "savediagram(d, \"1Cat.pdf\");\n",
    "d"
   ]
  },
  {
   "cell_type": "markdown",
   "id": "5393552e-8a5a-4ef3-82bf-d1d6a8aa2f5d",
   "metadata": {},
   "source": [
    "### $2$ Category"
   ]
  },
  {
   "cell_type": "code",
   "execution_count": null,
   "id": "a50a843e-f830-424e-aa77-232e33275398",
   "metadata": {},
   "outputs": [],
   "source": [
    "d,p = Diagram(;nrows=2, ncols=2)\n",
    "origin()\n",
    "# background(\"antiquewhite\")\n",
    "drawobj(p[2,1],L\"A\")\n",
    "morphism(p[2,1], L\"id_A\")\n",
    "drawobj(p[2,2],L\"B\")\n",
    "morphism(p[2,2], L\"id_B\")\n",
    "morphism(p[2,1],p[2,2])\n",
    "finish()\n",
    "savediagram(d, \"2Cat.pdf\");\n",
    "d"
   ]
  },
  {
   "cell_type": "markdown",
   "id": "e06327a7-d5ec-4478-9e7d-be1b6e984d02",
   "metadata": {},
   "source": [
    "### $2$ Category omitting identities"
   ]
  },
  {
   "cell_type": "code",
   "execution_count": null,
   "id": "a747abbc-cbf4-4477-a180-0e2cdee31913",
   "metadata": {},
   "outputs": [],
   "source": [
    "d,p = Diagram(;nrows=1, ncols=2)\n",
    "origin()\n",
    "# background(\"antiquewhite\")\n",
    "drawobj(p[1,1],L\"A\")\n",
    "drawobj(p[1,2],L\"B\")\n",
    "morphism(p[1,1],p[1,2])\n",
    "\n",
    "finish()\n",
    "savediagram(d, \"2Catsimple.pdf\");\n",
    "d"
   ]
  },
  {
   "cell_type": "markdown",
   "id": "bd9213e2-53a5-4cd0-a8ab-8b0d6e01716e",
   "metadata": {},
   "source": [
    "### $3$ Category"
   ]
  },
  {
   "cell_type": "code",
   "execution_count": null,
   "id": "0070659b-242e-4da8-b83e-cb3799337d91",
   "metadata": {},
   "outputs": [],
   "source": [
    "d,p = Diagram(;nrows=1, ncols=3)\n",
    "origin()\n",
    "# background(\"antiquewhite\")\n",
    "drawobj(p[1,1],L\"A\")\n",
    "drawobj(p[1,2],L\"B\")\n",
    "drawobj(p[1,3],L\"C\")\n",
    "morphism(p[1,1],p[1,2],L\"f\")\n",
    "morphism(p[1,2],p[1,3],L\"g\")\n",
    "\n",
    "finish()\n",
    "savediagram(d, \"3Catsimple.pdf\");\n",
    "d"
   ]
  },
  {
   "cell_type": "code",
   "execution_count": null,
   "id": "c13d24f4-1b9a-4745-892f-4277313e7469",
   "metadata": {},
   "outputs": [],
   "source": [
    "include(\"luxorcat.jl\")\n",
    "d,p = Diagram(;nrows=3, ncols=3, sizerow=30)\n",
    "origin()\n",
    "# background(\"antiquewhite\")\n",
    "drawobj(p[2,1],L\"A\")\n",
    "drawobj(p[2,2],L\"B\")\n",
    "drawobj(p[2,3],L\"C\")\n",
    "morphism(p[2,1],L\"id_A\")\n",
    "morphism(p[2,2],L\"id_B\")\n",
    "morphism(p[2,3],L\"id_C\")\n",
    "\n",
    "morphism(p[2,1],p[2,2])\n",
    "morphism(p[2,2],p[2,3],L\"g\")\n",
    "translate(0,7)\n",
    "morphism(p[2,1],p[2,3],L\"f ⨟ g\", curve=30)\n",
    "\n",
    "\n",
    "finish()\n",
    "savediagram(d, \"3CatComplete.pdf\");\n",
    "d"
   ]
  },
  {
   "cell_type": "markdown",
   "id": "831e4666-b781-4f33-99bb-586a21924b2a",
   "metadata": {},
   "source": [
    "### 3 Discrete Category"
   ]
  },
  {
   "cell_type": "code",
   "execution_count": null,
   "id": "bff2844d-e316-48fb-8b69-057ee9c64a6e",
   "metadata": {},
   "outputs": [],
   "source": [
    "include(\"luxorcat.jl\")\n",
    "d,p = Diagram(;nrows=3, ncols=3, sizerow=25)\n",
    "origin()\n",
    "translate(0,15)\n",
    "# background(\"antiquewhite\")\n",
    "drawobj(p[2,1],L\"1\")\n",
    "drawobj(p[2,2],L\"2\")\n",
    "drawobj(p[2,3],L\"3\")\n",
    "morphism(p[2,1],L\"id_1\")\n",
    "morphism(p[2,2],L\"id_2\")\n",
    "morphism(p[2,3],L\"id_3\")\n",
    "\n",
    "finish()\n",
    "savediagram(d, \"3Discrete.pdf\");\n",
    "d"
   ]
  },
  {
   "cell_type": "markdown",
   "id": "8e40e51f-1478-40f1-870d-363187797a02",
   "metadata": {},
   "source": [
    "### Preorder"
   ]
  },
  {
   "cell_type": "code",
   "execution_count": null,
   "id": "0623d537-3365-4124-836d-6437104ebabd",
   "metadata": {},
   "outputs": [],
   "source": [
    "d,p = Diagram(;nrows=1, ncols=4, sizecol=90)\n",
    "origin()\n",
    "# background(\"antiquewhite\")\n",
    "drawobj(p[1,1],L\"0\")\n",
    "drawobj(p[1,2],L\"1\")\n",
    "drawobj(p[1,3],L\"2\")\n",
    "drawobj(p[1,4],L\"3\")\n",
    "morphism(p[1,2],p[1,1],L\"\\leq\")\n",
    "morphism(p[1,3],p[1,2],L\"\\leq\")\n",
    "morphism(p[1,4],p[1,3],L\"\\leq\")\n",
    "\n",
    "pl = p[1,4]+Point(40,0)\n",
    "morphism(pl,p[1,4],\"\")\n",
    "\n",
    "circle(pl+Point(-4,0),1,:fill)\n",
    "circle(pl+Point(0,0),1,:fill)\n",
    "circle(pl+Point(4,0),1,:fill)\n",
    "\n",
    "finish()\n",
    "savediagram(d, \"NCat.pdf\");\n",
    "d"
   ]
  },
  {
   "cell_type": "markdown",
   "id": "6606e217-dd98-4ae2-8034-099e056e0433",
   "metadata": {},
   "source": [
    "### Natural Numbers plus 0 as Monoid $(\\mathbb N\\cup\\{0\\},+,0)$"
   ]
  },
  {
   "cell_type": "code",
   "execution_count": null,
   "id": "c9fca3e3-bb8c-49b4-a99c-a02c451280b3",
   "metadata": {},
   "outputs": [],
   "source": [
    "include(\"luxorcat.jl\")\n",
    "d,p = Diagram(;nrows=2, sizerow=80, sizecol=100)\n",
    "origin(50,100)\n",
    "drawobj(p[2,1],L\"ℕ\")\n",
    "morphism(p[2,1], L\"id_ℕ = 0\")\n",
    "morphism(p[2,1], L\"1\";loopx = 80,loopy=80,labelyoffset=0,arrowhead=false)\n",
    "morphism(p[2,1], L\"2\";loopx = 110,loopy=110,labelyoffset=-8,arrowhead=false)\n",
    "morphism(p[2,1], \"\";loopx = 140,loopy=140,labelyoffset=-8,arrowhead=false)\n",
    "circle(Point(0,-78),1,:fill)\n",
    "circle(Point(0,-74),1,:fill)\n",
    "circle(Point(0,-70),1,:fill)\n",
    "finish()\n",
    "savediagram(d, \"NMonoid.pdf\");\n",
    "d"
   ]
  },
  {
   "cell_type": "markdown",
   "id": "70a630ee-12e6-43f8-8186-726647af5d8f",
   "metadata": {},
   "source": [
    "### Functors Definition\n",
    "Diagram illustrating that Functors preserve compositions and identities."
   ]
  },
  {
   "cell_type": "code",
   "execution_count": null,
   "id": "bd44acb9-1bf4-405a-8d30-7c9689e74acd",
   "metadata": {},
   "outputs": [],
   "source": [
    "include(\"luxorcat.jl\")\n",
    "d1 = Drawing(200,130,:svg)\n",
    "origin()\n",
    "fontsize(12)\n",
    "\n",
    "A = Point(-50,0)\n",
    "circle(A, 5,:fill)\n",
    "morphism(A,L\"id_A\")\n",
    "label(L\"A\",:S,A, offset=10)\n",
    "\n",
    "FA = Point(50,0)\n",
    "circle(FA, 5,:fill)\n",
    "morphism(FA,L\"F(id_A) = id_{F A}\")\n",
    "label(L\"FA\",:S,FA, offset=10)\n",
    "\n",
    "p1 = Point(-15,0)\n",
    "p2 = Point(15,0)\n",
    "label(L\"F\",:N, O, offset=10)\n",
    "bbarrow(p1, p2)\n",
    "\n",
    "finish()\n",
    "\n",
    "d1"
   ]
  },
  {
   "cell_type": "code",
   "execution_count": null,
   "id": "911b77df-87b9-41d6-a77a-0ff83d65339b",
   "metadata": {},
   "outputs": [],
   "source": [
    "d2 = Drawing(400,130,:svg)\n",
    "origin()\n",
    "fontsize(12)\n",
    "\n",
    "A = Point(-130,-30)\n",
    "circle(A, 5,:fill)\n",
    "label(L\"A\",:N,A, offset=10)\n",
    "\n",
    "B = Point(-50,-30)\n",
    "circle(B, 5,:fill)\n",
    "label(L\"B\",:N,B, offset=10)\n",
    "\n",
    "C = Point(-50,30)\n",
    "circle(C, 5,:fill)\n",
    "label(L\"C\",:S,C, offset=10)\n",
    "\n",
    "morphism(A,B,L\"f\")\n",
    "morphism(B,C,L\"g\",pos=:NW)\n",
    "morphism(A,C,L\"f⨟g\",pos=:SW)\n",
    "\n",
    "\n",
    "FA = Point(50,-30)\n",
    "circle(FA, 5,:fill)\n",
    "label(L\"FA\",:N,FA, offset=10)\n",
    "\n",
    "FB = Point(130,-30)\n",
    "circle(FB, 5,:fill)\n",
    "label(L\"FB\",:N,FB, offset=10)\n",
    "\n",
    "FC = Point(130,30)\n",
    "circle(FC, 5,:fill)\n",
    "label(L\"FC\",:S,FC, offset=10)\n",
    "\n",
    "morphism(FA,FB,L\"Ff\")\n",
    "morphism(FB,FC,L\"Fg\",pos=:NW)\n",
    "morphism(FA,FC,L\"Ff⨟ Fg\",pos=:SW)\n",
    "\n",
    "p1 = Point(-15,0)\n",
    "p2 = Point(15,0)\n",
    "label(L\"F\",:N, O, offset=10)\n",
    "bbarrow(p1, p2)\n",
    "finish()\n",
    "d2"
   ]
  },
  {
   "cell_type": "code",
   "execution_count": null,
   "id": "39d98a66-3103-4ec4-a214-edb93c894c20",
   "metadata": {},
   "outputs": [],
   "source": [
    "d3 = Drawing(400,130,:svg)\n",
    "origin()\n",
    "fontsize(12)\n",
    "\n",
    "A = Point(-130,-30)\n",
    "circle(A, 5,:fill)\n",
    "label(L\"A\",:N,A, offset=10)\n",
    "\n",
    "B = Point(-50,-30)\n",
    "circle(B, 5,:fill)\n",
    "label(L\"B\",:N,B, offset=10)\n",
    "\n",
    "C = Point(-50,30)\n",
    "circle(C, 5,:fill)\n",
    "label(L\"C\",:S,C, offset=10)\n",
    "\n",
    "morphism(A,B,L\"f\")\n",
    "morphism(B,C,L\"g\",pos=:NW)\n",
    "morphism(A,C,L\"f⨟g\",pos=:SW)\n",
    "\n",
    "\n",
    "FA = Point(50,-30)\n",
    "circle(FA, 5,:fill)\n",
    "label(L\"FA\",:N,FA, offset=10)\n",
    "\n",
    "FB = Point(130,-30)\n",
    "circle(FB, 5,:fill)\n",
    "label(L\"FB\",:N,FB, offset=10)\n",
    "\n",
    "FC = Point(130,30)\n",
    "circle(FC, 5,:fill)\n",
    "label(L\"FC\",:S,FC, offset=10)\n",
    "\n",
    "morphism(FB,FA,L\"Ff\")\n",
    "morphism(FC,FB,L\"Fg\",pos=:W)\n",
    "morphism(FC,FA,L\"Fg⨟ Ff\",pos=:SW,offset=10)\n",
    "\n",
    "p1 = Point(-15,0)\n",
    "p2 = Point(15,0)\n",
    "label(L\"F\",:N, O, offset=10)\n",
    "bbarrow(p1, p2)\n",
    "finish()\n",
    "d3"
   ]
  },
  {
   "cell_type": "code",
   "execution_count": null,
   "id": "c4a873a3-e906-4ef3-84c1-ed55527ff10c",
   "metadata": {},
   "outputs": [],
   "source": [
    "d = Drawing(600,300,:svg)\n",
    "fontsize(14)\n",
    "text(\"Covariant Functor\",Point(0,20),halign=:left)\n",
    "placeimage(d1, Point(0,20))\n",
    "placeimage(d2, Point(200,20))\n",
    "\n",
    "fontsize(14)\n",
    "text(\"Contravariant Functor\",Point(0,170),halign=:left)\n",
    "\n",
    "placeimage(d1, Point(0,170))\n",
    "placeimage(d3, Point(200,170))\n",
    "finish()\n",
    "savediagram(d, \"Functor.pdf\");\n",
    "d"
   ]
  },
  {
   "cell_type": "markdown",
   "id": "7621b9b3-695c-4e37-ac4f-aae094dc8a2d",
   "metadata": {},
   "source": [
    "### Span"
   ]
  },
  {
   "cell_type": "code",
   "execution_count": null,
   "id": "aebca67a-f054-464d-893c-ba5481b802b1",
   "metadata": {},
   "outputs": [],
   "source": [
    "include(\"luxorcat.jl\")\n",
    "d,p = Diagram(;nrows=2, ncols=3, sizerow=40, sizecol=50)\n",
    "\n",
    "origin()\n",
    "translate(0,-10)\n",
    "translate(0,15)\n",
    "drawobj(p[2,1],L\"A\",:W)\n",
    "drawobj(p[2,3],L\"B\",:E)\n",
    "drawobj(p[1,2],L\"Z\",:N)\n",
    "\n",
    "morphism(p[1,2],p[2,1], L\"f\",pos=:NW)\n",
    "morphism(p[1,2],p[2,3], L\"g\",pos=:NE)\n",
    "finish()\n",
    "savediagram(d, \"Span.pdf\");\n",
    "d"
   ]
  },
  {
   "cell_type": "markdown",
   "id": "095d479f-882d-4f7c-a410-16489386a9f5",
   "metadata": {},
   "source": [
    "### Cospan"
   ]
  },
  {
   "cell_type": "code",
   "execution_count": null,
   "id": "13fdc4c6-7b8a-49cb-986c-ed798abc07b0",
   "metadata": {},
   "outputs": [],
   "source": [
    "include(\"luxorcat.jl\")\n",
    "d,p = Diagram(;nrows=2, ncols=3, sizerow=40, sizecol=50)\n",
    "origin()\n",
    "translate(0,-10)\n",
    "translate(0,15)\n",
    "drawobj(p[2,1],L\"A\",:W)\n",
    "drawobj(p[2,3],L\"B\",:E)\n",
    "drawobj(p[1,2],L\"Z\",:N)\n",
    "morphism(p[2,1],p[1,2], L\"f\",pos=:NW)\n",
    "morphism(p[2,3],p[1,2], L\"g\",pos=:NE)\n",
    "finish()\n",
    "savediagram(d, \"Cospan.pdf\");\n",
    "d"
   ]
  },
  {
   "cell_type": "markdown",
   "id": "d2c6ade6-4e2b-4f89-a4fa-5717da625f6b",
   "metadata": {},
   "source": [
    "### Categorical Product"
   ]
  },
  {
   "cell_type": "code",
   "execution_count": null,
   "id": "bcb2b72d-1caa-4abc-bacc-9f6967d12a73",
   "metadata": {},
   "outputs": [],
   "source": [
    "include(\"luxorcat.jl\")\n",
    "d,p = Diagram(;nrows=3, ncols=3, sizerow=40, sizecol=50)\n",
    "\n",
    "origin()\n",
    "translate(0,-13)\n",
    "translate(0,15)\n",
    "drawobj(p[2,1],L\"A\",:W)\n",
    "drawobj(p[2,3],L\"B\",:E)\n",
    "drawobj(p[1,2],L\"A\\times B\",:N)\n",
    "drawobj(p[3,2],L\"Z\",:S)\n",
    "\n",
    "morphism(p[3,2],p[2,1], L\"f\",pos=:SW)\n",
    "morphism(p[3,2],p[2,3], L\"g\",pos=:SE)\n",
    "morphism(p[1,2],p[2,1], L\"\\pi_1\",pos=:NW)\n",
    "morphism(p[1,2],p[2,3], L\"\\pi_2\",pos=:NE)\n",
    "\n",
    "@layer begin\n",
    "    setcolor(\"black\")\n",
    "    setdash(\"dash\")\n",
    "    morphism(p[3,2],p[1,2], \"\")\n",
    "    \n",
    "    setcolor(\"white\")\n",
    "    pc = (p[3,2]+p[1,2])/2\n",
    "    circle(pc, 8,:fill)\n",
    "    setcolor(\"black\")\n",
    "    text(L\"h_{f,g}\",pc,halign=:center, valign=:middle)\n",
    "end\n",
    "finish()\n",
    "savediagram(d, \"CategoricalProduct.pdf\");\n",
    "d"
   ]
  },
  {
   "cell_type": "markdown",
   "id": "64e00e1d-2bfc-463e-ae77-4ac31de1363b",
   "metadata": {},
   "source": [
    "### Categorical Coproduct"
   ]
  },
  {
   "cell_type": "code",
   "execution_count": null,
   "id": "949e752d-0fea-46ad-99d6-33ba01f3dbcf",
   "metadata": {},
   "outputs": [],
   "source": [
    "include(\"luxorcat.jl\")\n",
    "d,p = Diagram(;nrows=3, ncols=3, sizerow=40, sizecol=50)\n",
    "\n",
    "origin()\n",
    "translate(0,-13)\n",
    "translate(0,15)\n",
    "drawobj(p[2,1],L\"A\",:W)\n",
    "drawobj(p[2,3],L\"B\",:E)\n",
    "drawobj(p[1,2],L\"A + B\",:N)\n",
    "drawobj(p[3,2],L\"Z\",:S)\n",
    "\n",
    "morphism(p[2,1],p[3,2], L\"f\",pos=:SW)\n",
    "morphism(p[2,3],p[3,2], L\"g\",pos=:SE)\n",
    "morphism(p[2,1],p[1,2], L\"i_1\",pos=:NW)\n",
    "morphism(p[2,3],p[1,2], L\"i_2\",pos=:NE)\n",
    "\n",
    "@layer begin\n",
    "    setcolor(\"black\")\n",
    "    setdash(\"dash\")\n",
    "    morphism(p[1,2],p[3,2], \"\")\n",
    "    \n",
    "    setcolor(\"white\")\n",
    "    pc = (p[3,2]+p[1,2])/2\n",
    "    circle(pc, 8,:fill)\n",
    "    setcolor(\"black\")\n",
    "    text(L\"h_{f,g}\",pc,halign=:center, valign=:middle)\n",
    "end\n",
    "finish()\n",
    "savediagram(d, \"CategoricalCoproduct.pdf\");\n",
    "d"
   ]
  },
  {
   "cell_type": "markdown",
   "id": "9d5587ae-7c96-4a24-9718-53e6c441a404",
   "metadata": {},
   "source": [
    "### Functors - Full, Faithfull and Embeddings"
   ]
  },
  {
   "cell_type": "code",
   "execution_count": null,
   "id": "e7aaf971-a4ce-448c-9445-17d62f7eefea",
   "metadata": {},
   "outputs": [],
   "source": [
    "d1 = Drawing(200,200,:svg)\n",
    "@layer begin\n",
    "    origin()\n",
    "    translate(Point(0,-40))\n",
    "    fontsize(12)\n",
    "\n",
    "    text(L\"𝒞\",Point(0,-50),halign=:center)\n",
    "    a = Point(-50,0)\n",
    "    circle(a, 5,:fill)\n",
    "    label(L\"A\",:S, a, offset=10)\n",
    "    b = Point(50,0)\n",
    "    circle(b, 5,:fill)\n",
    "    label(L\"B\",:S,b, offset=10)\n",
    "    morphism(a,b)\n",
    "end\n",
    "\n",
    "    finish()\n",
    "\n",
    "\n",
    "d2 = Drawing(200,200,:svg)\n",
    "@layer begin\n",
    "    origin()\n",
    "    translate(Point(0,-40))\n",
    "    fontsize(12)\n",
    "    text(L\"𝒟\",Point(0,-50),halign=:center)\n",
    "\n",
    "    X = Point(-50,-0)\n",
    "    circle(X, 5,:fill)\n",
    "    label(L\"X\",:N,X, offset=10)\n",
    "\n",
    "    Y = Point(50,-0)\n",
    "    circle(Y, 5,:fill)\n",
    "    label(L\"Y\",:N,Y, offset=10)\n",
    "\n",
    "    Z = Point(50,70)\n",
    "    circle(Z, 5,:fill)\n",
    "    label(L\"Z\",:S,Z, offset=10)\n",
    "\n",
    "    morphism(X,Y,L\"i\")\n",
    "    morphism(Y,Z,L\"j\",pos=:NW)\n",
    "    morphism(X,Z,L\"k\",pos=:SW)\n",
    "end\n",
    "finish()\n",
    "\n",
    "d = Drawing(400,200,:svg)\n",
    "@layer begin\n",
    "    fontsize(14)\n",
    "\n",
    "    placeimage(d1, Point(0,20))\n",
    "    placeimage(d2, Point(200,20))\n",
    "    origin()\n",
    "    label(L\"F\",:N,Point(0,-20), offset=10)\n",
    "    bbarrow(Point(-20,-20), Point(20,-20))\n",
    "end\n",
    "\n",
    "finish()\n",
    "# savediagram(d, \"Functor.pdf\");\n",
    "d"
   ]
  },
  {
   "cell_type": "markdown",
   "id": "5871582d-ccc6-4f9c-9410-d5c4f59bd30c",
   "metadata": {},
   "source": [
    "### Natural Transformation"
   ]
  },
  {
   "cell_type": "code",
   "execution_count": null,
   "id": "8f6b3585-bab5-4afc-a28f-67e8120ba57f",
   "metadata": {},
   "outputs": [],
   "source": [
    "d,p = Diagram(;nrows=3, ncols=2, sizerow=60)\n",
    "\n",
    "origin()\n",
    "translate(0,15)\n",
    "drawobj(p[1,1],L\"FA\",:N)\n",
    "drawobj(p[1,2],L\"GA\",:N)\n",
    "drawobj(p[2,1],L\"FB\")\n",
    "drawobj(p[2,2],L\"GB\")\n",
    "morphism(p[1,1],p[1,2], L\"\\alpha_A\",pos=:N)\n",
    "morphism(p[2,1],p[2,2], L\"\\alpha_B\",pos=:S)\n",
    "morphism(p[1,1],p[2,1], L\"F(f)\",pos=:W, offset=10)\n",
    "morphism(p[1,2],p[2,2], L\"G(f)\",pos=:E)\n",
    "text(L\"F(f)⨟\\alpha_B = \\alpha_A ⨟ G(f)\",Point(0,50),halign=:center)\n",
    "finish()\n",
    "savediagram(d, \"NaturalTransformation.pdf\");\n",
    "d"
   ]
  },
  {
   "cell_type": "markdown",
   "id": "39ba70e0-3c7f-4675-8f6a-bff80cc8c67b",
   "metadata": {},
   "source": [
    "### Slice Category"
   ]
  },
  {
   "cell_type": "code",
   "execution_count": null,
   "id": "1a6c7959-bac4-44ad-bf86-13a7aabeffb4",
   "metadata": {},
   "outputs": [],
   "source": [
    "include(\"luxorcat.jl\")\n",
    "d,p = Diagram(;nrows=2, ncols=2, sizerow=40, sizecol=50)\n",
    "origin()\n",
    "drawobj(p[1,1],L\"2\",:E)\n",
    "drawobj(p[2,1],L\"2^◁\",:W)\n",
    "drawobj(p[1,2],L\"𝓒\",:N)\n",
    "# morphism(p[2,1],p[1,2], L\"f\",pos=:NW)\n",
    "# morphism(p[2,3],p[1,2], L\"g\",pos=:NE)\n",
    "finish()\n",
    "savediagram(d, \"SliceCommute.pdf\");\n",
    "d"
   ]
  },
  {
   "cell_type": "code",
   "execution_count": null,
   "id": "32723871-a294-48ab-bbe2-d9d3d20f193d",
   "metadata": {},
   "outputs": [],
   "source": []
  },
  {
   "cell_type": "code",
   "execution_count": null,
   "id": "8bdcf8cc-bc21-42c0-b3b8-6d9412cf297f",
   "metadata": {},
   "outputs": [],
   "source": []
  }
 ],
 "metadata": {
  "kernelspec": {
   "display_name": "Julia 1.10.3",
   "language": "julia",
   "name": "julia-1.10"
  },
  "language_info": {
   "file_extension": ".jl",
   "mimetype": "application/julia",
   "name": "julia",
   "version": "1.10.3"
  },
  "toc-showcode": false,
  "toc-showmarkdowntxt": false,
  "toc-showtags": false
 },
 "nbformat": 4,
 "nbformat_minor": 5
}
