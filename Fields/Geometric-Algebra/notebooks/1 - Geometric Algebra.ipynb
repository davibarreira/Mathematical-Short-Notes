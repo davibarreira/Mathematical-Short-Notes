{
 "cells": [
  {
   "cell_type": "markdown",
   "id": "2f9c5157-5dec-4256-991d-d428588c5754",
   "metadata": {},
   "source": [
    "# Geometric Algebra"
   ]
  },
  {
   "cell_type": "code",
   "execution_count": 1,
   "id": "a5d25baf-c508-4f69-8d6b-8821d07e02d3",
   "metadata": {
    "jupyter": {
     "source_hidden": true
    },
    "tags": []
   },
   "outputs": [
    {
     "name": "stderr",
     "output_type": "stream",
     "text": [
      "\u001b[32m\u001b[1m  Activating\u001b[22m\u001b[39m project at `~/MEGA/EMAP/Mathematical-Short-Notes/Fields/Geometric-Algebra/notebooks`\n"
     ]
    }
   ],
   "source": [
    "using LinearAlgebra\n",
    "using Pkg\n",
    "Pkg.activate(\".\")\n",
    "using CliffordAlgebras"
   ]
  },
  {
   "cell_type": "markdown",
   "id": "74dba5fb-1622-48a6-84e6-fdd0cf7b2687",
   "metadata": {},
   "source": [
    "## 1. Basics \n",
    "\n",
    "In Geometric Algebra, we deal with *multivectors*, which are the sum of *k-vectors*.\n",
    "A *k-vector* is a "
   ]
  },
  {
   "cell_type": "code",
   "execution_count": 3,
   "id": "bb488fef-3ecf-4444-a73f-3fb6361d47db",
   "metadata": {},
   "outputs": [
    {
     "data": {
      "text/plain": [
       "(:𝟏, :e1, :e2, :e1e2)"
      ]
     },
     "execution_count": 3,
     "metadata": {},
     "output_type": "execute_result"
    }
   ],
   "source": [
    "cl2 = CliffordAlgebra(2)\n",
    "propertynames(cl2)"
   ]
  },
  {
   "cell_type": "code",
   "execution_count": 5,
   "id": "b02c7cef-a321-4e60-9d14-3b71a7858ae2",
   "metadata": {},
   "outputs": [
    {
     "data": {
      "text/plain": [
       "0"
      ]
     },
     "execution_count": 5,
     "metadata": {},
     "output_type": "execute_result"
    }
   ],
   "source": [
    "I₂ = cl2.e1 ∧ cl2.e2\n",
    "a = 1cl2.e1\n",
    "b = -0.5cl2.e1 + 1cl2.e2\n",
    "c = -0.5cl2.e1 - 1cl2.e2\n",
    "\n",
    "a + b + c"
   ]
  },
  {
   "cell_type": "code",
   "execution_count": 6,
   "id": "41413570-30d6-4815-9069-545153176860",
   "metadata": {},
   "outputs": [
    {
     "data": {
      "text/plain": [
       "+0.5 ∈ Cl(2, 0, 0)"
      ]
     },
     "execution_count": 6,
     "metadata": {},
     "output_type": "execute_result"
    }
   ],
   "source": [
    "△ = (a ∧ b) / (2I₂) # Area of Triangle"
   ]
  },
  {
   "cell_type": "code",
   "execution_count": 7,
   "id": "81fac313-83dd-4051-9734-2be91e70573b",
   "metadata": {},
   "outputs": [
    {
     "data": {
      "text/plain": [
       "(true, true)"
      ]
     },
     "execution_count": 7,
     "metadata": {},
     "output_type": "execute_result"
    }
   ],
   "source": [
    "a ∧ b == b ∧ c, b ∧ c == c ∧ a"
   ]
  },
  {
   "cell_type": "code",
   "execution_count": 10,
   "id": "17dca092-273d-4ab3-9d81-584824496786",
   "metadata": {},
   "outputs": [
    {
     "name": "stdout",
     "output_type": "stream",
     "text": [
      "┌─────────┬───────────────────────────┬───────────────────────────┬─────────┐\n",
      "│   +1    │   +e1      +e2      +e3   │  +e1e2    +e3e1    +e2e3  │ +e1e2e3 │\n",
      "├─────────┼───────────────────────────┼───────────────────────────┼─────────┤\n",
      "│   +e1   │   +1      +e1e2    -e3e1  │   +e2      -e3    +e1e2e3 │  +e2e3  │\n",
      "│   +e2   │  -e1e2     +1      +e2e3  │   -e1    +e1e2e3    +e3   │  +e3e1  │\n",
      "│   +e3   │  +e3e1    -e2e3     +1    │ +e1e2e3    +e1      -e2   │  +e1e2  │\n",
      "├─────────┼───────────────────────────┼───────────────────────────┼─────────┤\n",
      "│  +e1e2  │   -e2      +e1    +e1e2e3 │   -1      +e2e3    -e3e1  │   -e3   │\n",
      "│  +e3e1  │   +e3    +e1e2e3    -e1   │  -e2e3     -1      +e1e2  │   -e2   │\n",
      "│  +e2e3  │ +e1e2e3    -e3      +e2   │  +e3e1    -e1e2     -1    │   -e1   │\n",
      "├─────────┼───────────────────────────┼───────────────────────────┼─────────┤\n",
      "│ +e1e2e3 │  +e2e3    +e3e1    +e1e2  │   -e3      -e2      -e1   │   -1    │\n",
      "└─────────┴───────────────────────────┴───────────────────────────┴─────────┘\n"
     ]
    }
   ],
   "source": [
    "cl3 = CliffordAlgebra(3,0,0)\n",
    "\n",
    "cayleytable(stdout,cl3)"
   ]
  }
 ],
 "metadata": {
  "kernelspec": {
   "display_name": "Julia 1.8.2",
   "language": "julia",
   "name": "julia-1.8"
  },
  "language_info": {
   "file_extension": ".jl",
   "mimetype": "application/julia",
   "name": "julia",
   "version": "1.8.2"
  }
 },
 "nbformat": 4,
 "nbformat_minor": 5
}
