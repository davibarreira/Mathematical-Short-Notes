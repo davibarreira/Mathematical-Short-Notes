{
 "cells": [
  {
   "cell_type": "markdown",
   "id": "faa52671-fde3-43a6-8366-ae432643755e",
   "metadata": {},
   "source": [
    "# Catlab.jl is a package in Julia that implements Category Theory."
   ]
  },
  {
   "cell_type": "markdown",
   "id": "9b8c97ff-4155-4908-9c0a-9dcff6f703ff",
   "metadata": {
    "jp-MarkdownHeadingCollapsed": true,
    "tags": []
   },
   "source": [
    "⊣ this symbol is \"\\vdash\" \n",
    "\n",
    "⋅ this symbol is \"\\cdot\"\n",
    "\n",
    "→ this symbol is \"\\to\"\n",
    "\n",
    "⨟ this symbol is \"\\bbsemi\""
   ]
  },
  {
   "cell_type": "code",
   "execution_count": 1,
   "id": "a8db5939-f4cd-4f9a-bdb7-c9d3ea760f61",
   "metadata": {},
   "outputs": [
    {
     "name": "stderr",
     "output_type": "stream",
     "text": [
      "\u001b[32m\u001b[1m  Activating\u001b[22m\u001b[39m project at `~/MEGA/EMAp/Mathematical-Short-Notes/Fields/Category-Theory/notebooks`\n"
     ]
    }
   ],
   "source": [
    "using Pkg\n",
    "Pkg.activate(\".\")"
   ]
  },
  {
   "cell_type": "markdown",
   "id": "b060135d-8f0e-4485-b4cd-a3f4e455ca23",
   "metadata": {},
   "source": [
    "## 1. First Steps - Recreating Category Theory\n",
    "Below let's use Catlab in order to define a Category. This might seem odd, since Catlab is already Category Theory for Julia,\n",
    "so why are we defining a Category? Well, first, this is already implemented, so we are doing it only to showcase. But also,\n",
    "Catlab actually implement Generalized Algebraic Theories, which permits the definition of \"objects\" other than Cateogories.\n",
    "Thus, the package is actually more general."
   ]
  },
  {
   "cell_type": "code",
   "execution_count": 7,
   "id": "29bb8635-4184-4337-96b5-4005f7d65e53",
   "metadata": {},
   "outputs": [],
   "source": [
    "using Catlab"
   ]
  },
  {
   "cell_type": "code",
   "execution_count": 8,
   "id": "4030ef5d-61d2-4bb9-a949-8a6953251dd1",
   "metadata": {},
   "outputs": [],
   "source": [
    "@theory Category{Ob,Hom} begin\n",
    "  @op begin\n",
    "    (→) := Hom\n",
    "    (⋅) := compose\n",
    "  end\n",
    "\n",
    "  Ob::TYPE\n",
    "  Hom(dom::Ob, codom::Ob)::TYPE\n",
    "\n",
    "  id(A::Ob)::(A → A)\n",
    "  compose(f::(A → B), g::(B → C))::(A → C) ⊣ (A::Ob, B::Ob, C::Ob)\n",
    "    \n",
    "\n",
    "  (f ⋅ g) ⋅ h == f ⋅ (g ⋅ h) ⊣ (A::Ob, B::Ob, C::Ob, D::Ob,\n",
    "                                f::(A → B), g::(B → C), h::(C → D))\n",
    "  f ⋅ id(B) == f ⊣ (A::Ob, B::Ob, f::(A → B))\n",
    "  id(A) ⋅ f == f ⊣ (A::Ob, B::Ob, f::(A → B))\n",
    "end;"
   ]
  },
  {
   "cell_type": "markdown",
   "id": "982b1c8d-d1bc-4054-96d3-69c26cc31fcc",
   "metadata": {},
   "source": [
    "## 2 - Instantiating a Category\n"
   ]
  },
  {
   "cell_type": "markdown",
   "id": "3dfaa6de-cd7c-4290-a67a-691c1465a017",
   "metadata": {},
   "source": [
    "Now that we defined what a category is, let's instantiated it. But what does it mean? It means that we want to\n",
    "use this idea of a category with existing Julia types. Let's do an easy example with\n",
    "the category of Finite Vector Spaces. In this category,\n",
    "morphisms are linear transformations and the objects are finite vector spaces\n",
    "(which are all isomorphic to ℝⁿ for n the dimension).\n",
    "Fortunantely, in Julia we have the type `Matrix{N,M}` and `MatrixDomain`. Thus, we can use `Matrix{N,M}` as the morphisms,\n",
    "since matrices are linear transformations, and use `MatrixDomain` as our Finite Vector Space."
   ]
  },
  {
   "cell_type": "code",
   "execution_count": 11,
   "id": "769dce56-c586-4e24-bb7f-522067382eed",
   "metadata": {},
   "outputs": [
    {
     "name": "stdout",
     "output_type": "stream",
     "text": [
      "(dom(A), codom(A)) = (MatrixDomain(Float64, 5), MatrixDomain(Float64, 2))\n"
     ]
    },
    {
     "data": {
      "text/plain": [
       "5×2 Matrix{Float64}:\n",
       " 1.01937   0.364833\n",
       " 1.01203   0.446389\n",
       " 0.781666  0.869653\n",
       " 0.230231  0.489893\n",
       " 0.485279  0.63189"
      ]
     },
     "execution_count": 11,
     "metadata": {},
     "output_type": "execute_result"
    }
   ],
   "source": [
    "using LinearAlgebra: I\n",
    "\n",
    "struct MatrixDomain\n",
    "  eltype::Type\n",
    "  dim::Int\n",
    "end\n",
    "\n",
    "@instance Category{MatrixDomain, Matrix} begin\n",
    "  dom(M::Matrix) = MatrixDomain(eltype(M), size(M,1))\n",
    "  codom(M::Matrix) = MatrixDomain(eltype(M), size(M,2))\n",
    "\n",
    "  id(m::MatrixDomain) = Matrix{m.eltype}(I, m.dim, m.dim)\n",
    "  compose(M::Matrix, N::Matrix) = M*N\n",
    "end\n",
    "\n",
    "\n",
    "A = rand(5,2)\n",
    "B = rand(2,2)\n",
    "@show dom(A), codom(A)\n",
    "id(dom(A)) # The identity morphism is the identity matrix\n",
    "# compose(B,A) <- not composable\n",
    "compose(A,B)"
   ]
  },
  {
   "cell_type": "markdown",
   "id": "45b1d3e9-20e4-47aa-94fc-97eba9dc6598",
   "metadata": {},
   "source": [
    "Next, let's implement a more \"convoluted\" example. Let's use Catlab in order to create a\n",
    "way to enforce that functions need to match dom/codom in order to be composed.\n",
    "Note that does not happen naturally in Julia. A function is Julia does not have a parametric\n",
    "type based on it's domain and codomain. Part of the reason is that most functions in Julia\n",
    "do not have an output type enforcer (although this can be done, it's seldom used and \n",
    "actually desincentivised).\n",
    "\n",
    "Hence, how can we guarantee that `compose(f,g)` actually can be composed, before evaluating the results?\n",
    "The answer is with Catlab. But, before we show the example, here is "
   ]
  },
  {
   "cell_type": "code",
   "execution_count": 5,
   "id": "a7127d43-e725-4161-a798-0093951275aa",
   "metadata": {},
   "outputs": [
    {
     "data": {
      "text/plain": [
       "1.4142135623730951"
      ]
     },
     "execution_count": 5,
     "metadata": {},
     "output_type": "execute_result"
    }
   ],
   "source": [
    "struct Morphism{Input, Output}\n",
    "    f::Function\n",
    "end\n",
    "\n",
    "(f::Morphism{Input, Output})(x::Input) where {Input, Output} = Output(f.f(x))\n",
    "\n",
    "@instance Category{Type, Morphism} begin\n",
    "  dom(f::Morphism) = typeof(f).parameters[1]\n",
    "  codom(f::Morphism) = typeof(f).parameters[2]\n",
    "  id(d::Type) = Morphism(x->x, d, d)\n",
    "  compose(g::Morphism, f::Morphism) = codom(f) === dom(g) ? Morphism{dom(f), codom(g)}(g ∘ f) : error(\"Domain and Codomain do not match.\")\n",
    "end\n",
    "\n",
    "f = Morphism{Int, Int}(x->x)\n",
    "g = Morphism{Int, Float64}(x->√x)\n",
    "\n",
    "h = g ⋅ f\n",
    "h(2)"
   ]
  },
  {
   "cell_type": "code",
   "execution_count": 6,
   "id": "8ab7016b-aa10-4e17-b9e0-0770f703fe07",
   "metadata": {},
   "outputs": [
    {
     "ename": "LoadError",
     "evalue": "Domain and Codomain do not match.",
     "output_type": "error",
     "traceback": [
      "Domain and Codomain do not match.",
      "",
      "Stacktrace:",
      " [1] error(s::String)",
      "   @ Base ./error.jl:33",
      " [2] compose(g::Morphism{Int64, Int64}, f::Morphism{Int64, Float64})",
      "   @ Main ./In[5]:11",
      " [3] ⋅(f::Morphism{Int64, Int64}, g::Morphism{Int64, Float64})",
      "   @ Main ./none:0",
      " [4] top-level scope",
      "   @ In[6]:1",
      " [5] eval",
      "   @ ./boot.jl:373 [inlined]",
      " [6] include_string(mapexpr::typeof(REPL.softscope), mod::Module, code::String, filename::String)",
      "   @ Base ./loading.jl:1196"
     ]
    }
   ],
   "source": [
    "f ⋅ g"
   ]
  },
  {
   "cell_type": "markdown",
   "id": "5d1ab98a-c65d-4fc5-9eaa-edd41ca9f5f7",
   "metadata": {},
   "source": [
    "## 2 - "
   ]
  },
  {
   "cell_type": "markdown",
   "id": "c650c481-c1ae-4f76-ad7f-e09c192d8018",
   "metadata": {
    "tags": []
   },
   "source": [
    "## 3 - Creating Functors\n",
    "\n",
    "Let's now showcase the use of functors. Remember, a functor is like a morphism between categories, but it must preserve the\n",
    "\"domain/codomain\" matching. I.e., if I have a category $\\mathcal C$ and a category $\\mathcal D$, my functor $F$ has to take each\n",
    "object in $\\mathcal C$ to an object in $\\mathcal D$, and every morphism in $\\mathcal C$ to a morphism in $\\mathcal D$.\n",
    "\n",
    "This might seem like a very convoluted thing, but the category of Preorders is a nice example. So, our "
   ]
  },
  {
   "cell_type": "code",
   "execution_count": null,
   "id": "e5c457ae-1926-4ffb-a5a8-372cefff634e",
   "metadata": {},
   "outputs": [],
   "source": []
  },
  {
   "cell_type": "code",
   "execution_count": 42,
   "id": "ddf56588-4b73-4535-89a9-89ca7ca9f369",
   "metadata": {},
   "outputs": [],
   "source": [
    "using Catlab.Theories:FreeThinCategory"
   ]
  },
  {
   "cell_type": "code",
   "execution_count": 33,
   "id": "26942414-8bb9-4bb7-b8e2-47c5eda68cae",
   "metadata": {},
   "outputs": [
    {
     "data": {
      "text/plain": [
       "Preorder"
      ]
     },
     "execution_count": 33,
     "metadata": {},
     "output_type": "execute_result"
    }
   ],
   "source": [
    "@theory Preorder{El,Leq} begin\n",
    "  El::TYPE\n",
    "  Leq(lhs::El, rhs::El)::TYPE\n",
    "  @op (≤) := Leq\n",
    "\n",
    "  # Preorder axioms are lifted to term constructors in the GAT.\n",
    "  reflexive(A::El)::(A≤A) # ∀ A there is a term reflexive(A) which implies A≤A\n",
    "  transitive(f::(A≤B), g::(B≤C))::(A≤C) ⊣ (A::El, B::El, C::El)\n",
    "\n",
    "  # Axioms of the GAT are equivalences on terms or simplification rules in the logic\n",
    "  f == g ⊣ (A::El, B::El, f::(A≤B), g::(A≤B))\n",
    "  # Read as (f⟹ A≤B ∧ g⟹ A≤B) ⟹ f ≡ g\n",
    "end"
   ]
  },
  {
   "cell_type": "code",
   "execution_count": 47,
   "id": "74a13388-d878-4bc9-ad51-7d35a0b716ce",
   "metadata": {},
   "outputs": [
    {
     "data": {
      "text/plain": [
       "typeof(Catlab.Theories.FreeThinCategory.theory) (singleton type of function theory, subtype of Function)"
      ]
     },
     "execution_count": 47,
     "metadata": {},
     "output_type": "execute_result"
    }
   ],
   "source": [
    "typeof(FreeThinCategory.theory)"
   ]
  },
  {
   "cell_type": "code",
   "execution_count": 37,
   "id": "dcd23226-4e39-4983-85cb-1454440ca4c2",
   "metadata": {},
   "outputs": [
    {
     "data": {
      "text/plain": [
       "ThinCategory"
      ]
     },
     "execution_count": 37,
     "metadata": {},
     "output_type": "execute_result"
    }
   ],
   "source": [
    "@theory ThinCategory{Ob,Hom} <: Category{Ob,Hom} begin\n",
    "  f == g ⊣ (A::Ob, B::Ob, f::Hom(A,B), g::Hom(A,B))\n",
    "end"
   ]
  },
  {
   "cell_type": "code",
   "execution_count": 45,
   "id": "8a921d9d-8fef-4d53-80d0-b2b5ce1ae44b",
   "metadata": {},
   "outputs": [
    {
     "ename": "LoadError",
     "evalue": "MethodError: no method matching Presentation(::Type{Preorder})\n\u001b[0mClosest candidates are:\n\u001b[0m  Presentation(\u001b[91m::Catlab.CSetDataStructures.StructACSet{S}\u001b[39m) where S at ~/.julia/packages/Catlab/XsT24/src/categorical_algebra/CSetDataStructures.jl:192\n\u001b[0m  Presentation(\u001b[91m::Type{<:Catlab.CSetDataStructures.StructACSet{S}}\u001b[39m) where S at ~/.julia/packages/Catlab/XsT24/src/categorical_algebra/CSetDataStructures.jl:191\n\u001b[0m  Presentation(\u001b[91m::Type{S}\u001b[39m) where S<:Catlab.Theories.SchemaDescType at ~/.julia/packages/Catlab/XsT24/src/theories/Schema.jl:179\n\u001b[0m  ...",
     "output_type": "error",
     "traceback": [
      "MethodError: no method matching Presentation(::Type{Preorder})\n\u001b[0mClosest candidates are:\n\u001b[0m  Presentation(\u001b[91m::Catlab.CSetDataStructures.StructACSet{S}\u001b[39m) where S at ~/.julia/packages/Catlab/XsT24/src/categorical_algebra/CSetDataStructures.jl:192\n\u001b[0m  Presentation(\u001b[91m::Type{<:Catlab.CSetDataStructures.StructACSet{S}}\u001b[39m) where S at ~/.julia/packages/Catlab/XsT24/src/categorical_algebra/CSetDataStructures.jl:191\n\u001b[0m  Presentation(\u001b[91m::Type{S}\u001b[39m) where S<:Catlab.Theories.SchemaDescType at ~/.julia/packages/Catlab/XsT24/src/theories/Schema.jl:179\n\u001b[0m  ...",
      "",
      "Stacktrace:",
      " [1] top-level scope",
      "   @ ~/.julia/packages/Catlab/XsT24/src/core/Present.jl:213",
      " [2] eval",
      "   @ ./boot.jl:373 [inlined]",
      " [3] include_string(mapexpr::typeof(REPL.softscope), mod::Module, code::String, filename::String)",
      "   @ Base ./loading.jl:1196"
     ]
    }
   ],
   "source": [
    "@present P(FreeThinCategory) begin\n",
    "  (X,Y,Z)::Ob\n",
    "  f::Hom(X,Y)\n",
    "  g::Hom(Y,Z)\n",
    "end"
   ]
  },
  {
   "cell_type": "code",
   "execution_count": null,
   "id": "ff19253f-d86e-4c25-849c-0a01a0584586",
   "metadata": {},
   "outputs": [],
   "source": []
  }
 ],
 "metadata": {
  "kernelspec": {
   "display_name": "julia 1.7.1",
   "language": "julia",
   "name": "julia-1.7"
  },
  "language_info": {
   "file_extension": ".jl",
   "mimetype": "application/julia",
   "name": "julia",
   "version": "1.7.1"
  }
 },
 "nbformat": 4,
 "nbformat_minor": 5
}
